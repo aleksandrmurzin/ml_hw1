{
  "cells": [
    {
      "cell_type": "markdown",
      "metadata": {
        "id": "IsPer4g5FgRB"
      },
      "source": [
        "# Домашнее задание №1\n",
        "\n",
        "В этом домашнем задании вам предлагается обучить модель регрессии для предсказания стоимости автомобилей, а также реализовать веб-сервис для применения построенной модели на новых данных.\n",
        "\n",
        "> Оценка за домашку = min(ваш балл, 10)\n"
      ]
    },
    {
      "cell_type": "markdown",
      "metadata": {
        "id": "RBxaROjhnExd"
      },
      "source": [
        "Задания, <font color='#9933CC'>выделенные фиолетовым</font>, требуют от вас написания кода.\n",
        "\n",
        "А вопросы, <font color='#FF6600'>выделенные оранжевым</font>, текстового ответа.\n",
        "\n",
        "Оцениваются как код, так и ответы на вопросы. Если нет одного и/или другого, то часть баллов за соответствующее задание без колебаний снимается."
      ]
    },
    {
      "cell_type": "code",
      "execution_count": 1,
      "metadata": {
        "id": "bKXD33FOsnGd"
      },
      "outputs": [],
      "source": [
        "import pandas as pd\n",
        "import numpy as np\n",
        "import matplotlib.pyplot as plt\n",
        "import random\n",
        "from statistics import mean\n",
        "import seaborn as sns\n",
        "import re\n",
        "from joblib import dump, load\n",
        "\n",
        "random.seed(42)\n",
        "np.random.seed(42)"
      ]
    },
    {
      "cell_type": "markdown",
      "metadata": {
        "id": "GAzbEw1ctU4f"
      },
      "source": [
        "Ниже ответьте на вопрос <font color='#FF6600'>\n",
        "\"Для чего фиксируем сиды в домашках?\"</font>"
      ]
    },
    {
      "cell_type": "code",
      "execution_count": 2,
      "metadata": {
        "colab": {
          "base_uri": "https://localhost:8080/"
        },
        "id": "lHsDF04utgDC",
        "outputId": "8b63192b-babe-492b-c634-6e7b0bc9b901"
      },
      "outputs": [
        {
          "name": "stdout",
          "output_type": "stream",
          "text": [
            "Фикировуя сид, мы добиваемся повторения экспериментов в той части где используется рандомизация. Например при разбиении на трейн тест.\n"
          ]
        }
      ],
      "source": [
        "print(\"Фикировуя сид, мы добиваемся повторения экспериментов в той части где используется рандомизация. Например при разбиении на трейн тест.\")"
      ]
    },
    {
      "cell_type": "markdown",
      "metadata": {
        "id": "ykzSVgN7q-xZ"
      },
      "source": [
        "# Часть 1 (2.5 балла + 0.75) | EDA"
      ]
    },
    {
      "cell_type": "markdown",
      "metadata": {
        "id": "e-4bM9CKAtCj"
      },
      "source": [
        "## Простейший EDA и обработка признаков (1.5 балла + 0.25)"
      ]
    },
    {
      "cell_type": "code",
      "execution_count": 3,
      "metadata": {
        "id": "FniH6eCGFSi_"
      },
      "outputs": [
        {
          "name": "stdout",
          "output_type": "stream",
          "text": [
            "Train data shape: (6999, 13)\n",
            "Test data shape:  (1000, 13)\n"
          ]
        }
      ],
      "source": [
        "df_train = pd.read_csv('https://raw.githubusercontent.com/Murcha1990/MLDS_ML_2022/main/Hometasks/HT1/cars_train.csv')\n",
        "df_test = pd.read_csv('https://raw.githubusercontent.com/Murcha1990/MLDS_ML_2022/main/Hometasks/HT1/cars_test.csv')\n",
        "\n",
        "print(\"Train data shape:\", df_train.shape)\n",
        "print(\"Test data shape: \", df_test.shape)"
      ]
    },
    {
      "cell_type": "code",
      "execution_count": 4,
      "metadata": {},
      "outputs": [
        {
          "data": {
            "text/plain": [
              "{'name': 'Mahindra Xylo E4 BS IV',\n",
              " 'year': 2010,\n",
              " 'selling_price': 229999,\n",
              " 'km_driven': 168000,\n",
              " 'fuel': 'Diesel',\n",
              " 'seller_type': 'Individual',\n",
              " 'transmission': 'Manual',\n",
              " 'owner': 'First Owner',\n",
              " 'mileage': '14.0 kmpl',\n",
              " 'engine': '2498 CC',\n",
              " 'max_power': '112 bhp',\n",
              " 'torque': '260 Nm at 1800-2200 rpm',\n",
              " 'seats': 7.0}"
            ]
          },
          "execution_count": 4,
          "metadata": {},
          "output_type": "execute_result"
        }
      ],
      "source": [
        "{\"name\": \"Mahindra Xylo E4 BS IV\",\n",
        " \"year\": 2010,\n",
        " \"selling_price\": 229999,\n",
        " \"km_driven\": 168000,\n",
        " \"fuel\": \"Diesel\",\n",
        " \"seller_type\": \"Individual\",\n",
        " \"transmission\": \"Manual\",\n",
        " \"owner\": \"First Owner\",\n",
        " \"mileage\": \"14.0 kmpl\",\n",
        " \"engine\": \"2498 CC\",\n",
        " \"max_power\": \"112 bhp\",\n",
        " \"torque\": \"260 Nm at 1800-2200 rpm\",\n",
        " \"seats\": 7.0}"
      ]
    },
    {
      "cell_type": "code",
      "execution_count": 5,
      "metadata": {},
      "outputs": [
        {
          "data": {
            "text/plain": [
              "Index(['name', 'year', 'selling_price', 'km_driven', 'fuel', 'seller_type',\n",
              "       'transmission', 'owner', 'mileage', 'engine', 'max_power', 'torque',\n",
              "       'seats'],\n",
              "      dtype='object')"
            ]
          },
          "execution_count": 5,
          "metadata": {},
          "output_type": "execute_result"
        }
      ],
      "source": [
        "df_train.columns"
      ]
    },
    {
      "cell_type": "markdown",
      "metadata": {
        "id": "spIXQ6zwxT9I"
      },
      "source": [
        "(0.15 балла) <font color='#9933CC'>Отобразите 10 **случайных** строк тренировочного датасета</font>"
      ]
    },
    {
      "cell_type": "code",
      "execution_count": 6,
      "metadata": {
        "id": "Zesb2SG5xf_q"
      },
      "outputs": [
        {
          "data": {
            "text/html": [
              "<div>\n",
              "<style scoped>\n",
              "    .dataframe tbody tr th:only-of-type {\n",
              "        vertical-align: middle;\n",
              "    }\n",
              "\n",
              "    .dataframe tbody tr th {\n",
              "        vertical-align: top;\n",
              "    }\n",
              "\n",
              "    .dataframe thead th {\n",
              "        text-align: right;\n",
              "    }\n",
              "</style>\n",
              "<table border=\"1\" class=\"dataframe\">\n",
              "  <thead>\n",
              "    <tr style=\"text-align: right;\">\n",
              "      <th></th>\n",
              "      <th>name</th>\n",
              "      <th>year</th>\n",
              "      <th>selling_price</th>\n",
              "      <th>km_driven</th>\n",
              "      <th>fuel</th>\n",
              "      <th>seller_type</th>\n",
              "      <th>transmission</th>\n",
              "      <th>owner</th>\n",
              "      <th>mileage</th>\n",
              "      <th>engine</th>\n",
              "      <th>max_power</th>\n",
              "      <th>torque</th>\n",
              "      <th>seats</th>\n",
              "    </tr>\n",
              "  </thead>\n",
              "  <tbody>\n",
              "    <tr>\n",
              "      <th>6565</th>\n",
              "      <td>Renault KWID Climber 1.0 MT BSIV</td>\n",
              "      <td>2019</td>\n",
              "      <td>300000</td>\n",
              "      <td>35000</td>\n",
              "      <td>Petrol</td>\n",
              "      <td>Individual</td>\n",
              "      <td>Manual</td>\n",
              "      <td>First Owner</td>\n",
              "      <td>23.01 kmpl</td>\n",
              "      <td>999 CC</td>\n",
              "      <td>67 bhp</td>\n",
              "      <td>91Nm@ 4250rpm</td>\n",
              "      <td>5.0</td>\n",
              "    </tr>\n",
              "    <tr>\n",
              "      <th>2943</th>\n",
              "      <td>Maruti Wagon R LXI</td>\n",
              "      <td>2013</td>\n",
              "      <td>225000</td>\n",
              "      <td>58343</td>\n",
              "      <td>Petrol</td>\n",
              "      <td>Trustmark Dealer</td>\n",
              "      <td>Manual</td>\n",
              "      <td>First Owner</td>\n",
              "      <td>21.79 kmpl</td>\n",
              "      <td>998 CC</td>\n",
              "      <td>67.05 bhp</td>\n",
              "      <td>90Nm@ 3500rpm</td>\n",
              "      <td>5.0</td>\n",
              "    </tr>\n",
              "    <tr>\n",
              "      <th>2024</th>\n",
              "      <td>Hyundai i20 Asta 1.2</td>\n",
              "      <td>2013</td>\n",
              "      <td>360000</td>\n",
              "      <td>30000</td>\n",
              "      <td>Petrol</td>\n",
              "      <td>Individual</td>\n",
              "      <td>Manual</td>\n",
              "      <td>First Owner</td>\n",
              "      <td>18.5 kmpl</td>\n",
              "      <td>1197 CC</td>\n",
              "      <td>82.85 bhp</td>\n",
              "      <td>113.7Nm@ 4000rpm</td>\n",
              "      <td>5.0</td>\n",
              "    </tr>\n",
              "    <tr>\n",
              "      <th>263</th>\n",
              "      <td>Hyundai i20 1.2 Asta</td>\n",
              "      <td>2010</td>\n",
              "      <td>300000</td>\n",
              "      <td>70000</td>\n",
              "      <td>Petrol</td>\n",
              "      <td>Individual</td>\n",
              "      <td>Manual</td>\n",
              "      <td>First Owner</td>\n",
              "      <td>17.0 kmpl</td>\n",
              "      <td>1197 CC</td>\n",
              "      <td>80 bhp</td>\n",
              "      <td>11.4 kgm at 4,000 rpm</td>\n",
              "      <td>5.0</td>\n",
              "    </tr>\n",
              "    <tr>\n",
              "      <th>4586</th>\n",
              "      <td>Skoda Octavia L and K 1.9 TDI MT</td>\n",
              "      <td>2005</td>\n",
              "      <td>250000</td>\n",
              "      <td>120000</td>\n",
              "      <td>Diesel</td>\n",
              "      <td>Individual</td>\n",
              "      <td>Manual</td>\n",
              "      <td>Third Owner</td>\n",
              "      <td>16.4 kmpl</td>\n",
              "      <td>1896 CC</td>\n",
              "      <td>90 bhp</td>\n",
              "      <td>21.4@ 1,900(kgm@ rpm)</td>\n",
              "      <td>5.0</td>\n",
              "    </tr>\n",
              "    <tr>\n",
              "      <th>4479</th>\n",
              "      <td>Maruti Ciaz ZXi</td>\n",
              "      <td>2016</td>\n",
              "      <td>700000</td>\n",
              "      <td>20000</td>\n",
              "      <td>Petrol</td>\n",
              "      <td>Individual</td>\n",
              "      <td>Manual</td>\n",
              "      <td>First Owner</td>\n",
              "      <td>20.73 kmpl</td>\n",
              "      <td>1373 CC</td>\n",
              "      <td>91.1 bhp</td>\n",
              "      <td>130Nm@ 4000rpm</td>\n",
              "      <td>5.0</td>\n",
              "    </tr>\n",
              "    <tr>\n",
              "      <th>4881</th>\n",
              "      <td>Hyundai Grand i10 1.2 Kappa Magna BSIV</td>\n",
              "      <td>2017</td>\n",
              "      <td>445000</td>\n",
              "      <td>27000</td>\n",
              "      <td>Petrol</td>\n",
              "      <td>Individual</td>\n",
              "      <td>Manual</td>\n",
              "      <td>First Owner</td>\n",
              "      <td>18.9 kmpl</td>\n",
              "      <td>1197 CC</td>\n",
              "      <td>81.86 bhp</td>\n",
              "      <td>113.75nm@ 4000rpm</td>\n",
              "      <td>5.0</td>\n",
              "    </tr>\n",
              "    <tr>\n",
              "      <th>3583</th>\n",
              "      <td>Ford Ecosport 1.5 DV5 MT Trend</td>\n",
              "      <td>2016</td>\n",
              "      <td>515000</td>\n",
              "      <td>68609</td>\n",
              "      <td>Diesel</td>\n",
              "      <td>Dealer</td>\n",
              "      <td>Manual</td>\n",
              "      <td>First Owner</td>\n",
              "      <td>22.7 kmpl</td>\n",
              "      <td>1498 CC</td>\n",
              "      <td>89.84 bhp</td>\n",
              "      <td>204Nm@ 2000-2750rpm</td>\n",
              "      <td>5.0</td>\n",
              "    </tr>\n",
              "    <tr>\n",
              "      <th>6361</th>\n",
              "      <td>Hyundai Verna 1.4 VTVT</td>\n",
              "      <td>2014</td>\n",
              "      <td>500000</td>\n",
              "      <td>33400</td>\n",
              "      <td>Petrol</td>\n",
              "      <td>Individual</td>\n",
              "      <td>Manual</td>\n",
              "      <td>First Owner</td>\n",
              "      <td>17.43 kmpl</td>\n",
              "      <td>1396 CC</td>\n",
              "      <td>105.5 bhp</td>\n",
              "      <td>135.3Nm@ 5000rpm</td>\n",
              "      <td>5.0</td>\n",
              "    </tr>\n",
              "    <tr>\n",
              "      <th>4108</th>\n",
              "      <td>Hyundai i20 Era 1.2</td>\n",
              "      <td>2015</td>\n",
              "      <td>490000</td>\n",
              "      <td>45900</td>\n",
              "      <td>Petrol</td>\n",
              "      <td>Individual</td>\n",
              "      <td>Manual</td>\n",
              "      <td>Second Owner</td>\n",
              "      <td>18.6 kmpl</td>\n",
              "      <td>1197 CC</td>\n",
              "      <td>81.83 bhp</td>\n",
              "      <td>114.7Nm@ 4000rpm</td>\n",
              "      <td>5.0</td>\n",
              "    </tr>\n",
              "  </tbody>\n",
              "</table>\n",
              "</div>"
            ],
            "text/plain": [
              "                                        name  year  selling_price  km_driven  \\\n",
              "6565        Renault KWID Climber 1.0 MT BSIV  2019         300000      35000   \n",
              "2943                      Maruti Wagon R LXI  2013         225000      58343   \n",
              "2024                    Hyundai i20 Asta 1.2  2013         360000      30000   \n",
              "263                     Hyundai i20 1.2 Asta  2010         300000      70000   \n",
              "4586        Skoda Octavia L and K 1.9 TDI MT  2005         250000     120000   \n",
              "4479                         Maruti Ciaz ZXi  2016         700000      20000   \n",
              "4881  Hyundai Grand i10 1.2 Kappa Magna BSIV  2017         445000      27000   \n",
              "3583          Ford Ecosport 1.5 DV5 MT Trend  2016         515000      68609   \n",
              "6361                  Hyundai Verna 1.4 VTVT  2014         500000      33400   \n",
              "4108                     Hyundai i20 Era 1.2  2015         490000      45900   \n",
              "\n",
              "        fuel       seller_type transmission         owner     mileage  \\\n",
              "6565  Petrol        Individual       Manual   First Owner  23.01 kmpl   \n",
              "2943  Petrol  Trustmark Dealer       Manual   First Owner  21.79 kmpl   \n",
              "2024  Petrol        Individual       Manual   First Owner   18.5 kmpl   \n",
              "263   Petrol        Individual       Manual   First Owner   17.0 kmpl   \n",
              "4586  Diesel        Individual       Manual   Third Owner   16.4 kmpl   \n",
              "4479  Petrol        Individual       Manual   First Owner  20.73 kmpl   \n",
              "4881  Petrol        Individual       Manual   First Owner   18.9 kmpl   \n",
              "3583  Diesel            Dealer       Manual   First Owner   22.7 kmpl   \n",
              "6361  Petrol        Individual       Manual   First Owner  17.43 kmpl   \n",
              "4108  Petrol        Individual       Manual  Second Owner   18.6 kmpl   \n",
              "\n",
              "       engine  max_power                 torque  seats  \n",
              "6565   999 CC     67 bhp          91Nm@ 4250rpm    5.0  \n",
              "2943   998 CC  67.05 bhp          90Nm@ 3500rpm    5.0  \n",
              "2024  1197 CC  82.85 bhp       113.7Nm@ 4000rpm    5.0  \n",
              "263   1197 CC     80 bhp  11.4 kgm at 4,000 rpm    5.0  \n",
              "4586  1896 CC     90 bhp  21.4@ 1,900(kgm@ rpm)    5.0  \n",
              "4479  1373 CC   91.1 bhp         130Nm@ 4000rpm    5.0  \n",
              "4881  1197 CC  81.86 bhp      113.75nm@ 4000rpm    5.0  \n",
              "3583  1498 CC  89.84 bhp    204Nm@ 2000-2750rpm    5.0  \n",
              "6361  1396 CC  105.5 bhp       135.3Nm@ 5000rpm    5.0  \n",
              "4108  1197 CC  81.83 bhp       114.7Nm@ 4000rpm    5.0  "
            ]
          },
          "execution_count": 6,
          "metadata": {},
          "output_type": "execute_result"
        }
      ],
      "source": [
        "df_train.sample(n=10)"
      ]
    },
    {
      "cell_type": "markdown",
      "metadata": {
        "id": "c5UQKCGTxogp"
      },
      "source": [
        "(0.1 балла) <font color='#9933CC'>Отобразите первые 5 и последние 5 объектов тестового датасета</font>"
      ]
    },
    {
      "cell_type": "code",
      "execution_count": 7,
      "metadata": {},
      "outputs": [
        {
          "data": {
            "text/html": [
              "<div>\n",
              "<style scoped>\n",
              "    .dataframe tbody tr th:only-of-type {\n",
              "        vertical-align: middle;\n",
              "    }\n",
              "\n",
              "    .dataframe tbody tr th {\n",
              "        vertical-align: top;\n",
              "    }\n",
              "\n",
              "    .dataframe thead th {\n",
              "        text-align: right;\n",
              "    }\n",
              "</style>\n",
              "<table border=\"1\" class=\"dataframe\">\n",
              "  <thead>\n",
              "    <tr style=\"text-align: right;\">\n",
              "      <th></th>\n",
              "      <th>name</th>\n",
              "      <th>year</th>\n",
              "      <th>selling_price</th>\n",
              "      <th>km_driven</th>\n",
              "      <th>fuel</th>\n",
              "      <th>seller_type</th>\n",
              "      <th>transmission</th>\n",
              "      <th>owner</th>\n",
              "      <th>mileage</th>\n",
              "      <th>engine</th>\n",
              "      <th>max_power</th>\n",
              "      <th>torque</th>\n",
              "      <th>seats</th>\n",
              "    </tr>\n",
              "  </thead>\n",
              "  <tbody>\n",
              "    <tr>\n",
              "      <th>0</th>\n",
              "      <td>Mahindra Xylo E4 BS IV</td>\n",
              "      <td>2010</td>\n",
              "      <td>229999</td>\n",
              "      <td>168000</td>\n",
              "      <td>Diesel</td>\n",
              "      <td>Individual</td>\n",
              "      <td>Manual</td>\n",
              "      <td>First Owner</td>\n",
              "      <td>14.0 kmpl</td>\n",
              "      <td>2498 CC</td>\n",
              "      <td>112 bhp</td>\n",
              "      <td>260 Nm at 1800-2200 rpm</td>\n",
              "      <td>7.0</td>\n",
              "    </tr>\n",
              "    <tr>\n",
              "      <th>1</th>\n",
              "      <td>Tata Nexon 1.5 Revotorq XE</td>\n",
              "      <td>2017</td>\n",
              "      <td>665000</td>\n",
              "      <td>25000</td>\n",
              "      <td>Diesel</td>\n",
              "      <td>Individual</td>\n",
              "      <td>Manual</td>\n",
              "      <td>First Owner</td>\n",
              "      <td>21.5 kmpl</td>\n",
              "      <td>1497 CC</td>\n",
              "      <td>108.5 bhp</td>\n",
              "      <td>260Nm@ 1500-2750rpm</td>\n",
              "      <td>5.0</td>\n",
              "    </tr>\n",
              "    <tr>\n",
              "      <th>2</th>\n",
              "      <td>Honda Civic 1.8 S AT</td>\n",
              "      <td>2007</td>\n",
              "      <td>175000</td>\n",
              "      <td>218463</td>\n",
              "      <td>Petrol</td>\n",
              "      <td>Individual</td>\n",
              "      <td>Automatic</td>\n",
              "      <td>First Owner</td>\n",
              "      <td>12.9 kmpl</td>\n",
              "      <td>1799 CC</td>\n",
              "      <td>130 bhp</td>\n",
              "      <td>172Nm@ 4300rpm</td>\n",
              "      <td>5.0</td>\n",
              "    </tr>\n",
              "    <tr>\n",
              "      <th>3</th>\n",
              "      <td>Honda City i DTEC VX</td>\n",
              "      <td>2015</td>\n",
              "      <td>635000</td>\n",
              "      <td>173000</td>\n",
              "      <td>Diesel</td>\n",
              "      <td>Individual</td>\n",
              "      <td>Manual</td>\n",
              "      <td>First Owner</td>\n",
              "      <td>25.1 kmpl</td>\n",
              "      <td>1498 CC</td>\n",
              "      <td>98.6 bhp</td>\n",
              "      <td>200Nm@ 1750rpm</td>\n",
              "      <td>5.0</td>\n",
              "    </tr>\n",
              "    <tr>\n",
              "      <th>4</th>\n",
              "      <td>Tata Indica Vista Aura 1.2 Safire BSIV</td>\n",
              "      <td>2011</td>\n",
              "      <td>130000</td>\n",
              "      <td>70000</td>\n",
              "      <td>Petrol</td>\n",
              "      <td>Individual</td>\n",
              "      <td>Manual</td>\n",
              "      <td>Second Owner</td>\n",
              "      <td>16.5 kmpl</td>\n",
              "      <td>1172 CC</td>\n",
              "      <td>65 bhp</td>\n",
              "      <td>96  Nm at 3000  rpm</td>\n",
              "      <td>5.0</td>\n",
              "    </tr>\n",
              "  </tbody>\n",
              "</table>\n",
              "</div>"
            ],
            "text/plain": [
              "                                     name  year  selling_price  km_driven  \\\n",
              "0                  Mahindra Xylo E4 BS IV  2010         229999     168000   \n",
              "1              Tata Nexon 1.5 Revotorq XE  2017         665000      25000   \n",
              "2                    Honda Civic 1.8 S AT  2007         175000     218463   \n",
              "3                    Honda City i DTEC VX  2015         635000     173000   \n",
              "4  Tata Indica Vista Aura 1.2 Safire BSIV  2011         130000      70000   \n",
              "\n",
              "     fuel seller_type transmission         owner    mileage   engine  \\\n",
              "0  Diesel  Individual       Manual   First Owner  14.0 kmpl  2498 CC   \n",
              "1  Diesel  Individual       Manual   First Owner  21.5 kmpl  1497 CC   \n",
              "2  Petrol  Individual    Automatic   First Owner  12.9 kmpl  1799 CC   \n",
              "3  Diesel  Individual       Manual   First Owner  25.1 kmpl  1498 CC   \n",
              "4  Petrol  Individual       Manual  Second Owner  16.5 kmpl  1172 CC   \n",
              "\n",
              "   max_power                   torque  seats  \n",
              "0    112 bhp  260 Nm at 1800-2200 rpm    7.0  \n",
              "1  108.5 bhp      260Nm@ 1500-2750rpm    5.0  \n",
              "2    130 bhp           172Nm@ 4300rpm    5.0  \n",
              "3   98.6 bhp           200Nm@ 1750rpm    5.0  \n",
              "4     65 bhp     96  Nm at 3000  rpm     5.0  "
            ]
          },
          "execution_count": 7,
          "metadata": {},
          "output_type": "execute_result"
        }
      ],
      "source": [
        "df_test.head()"
      ]
    },
    {
      "cell_type": "code",
      "execution_count": 8,
      "metadata": {
        "id": "-MueJLE4rO1g"
      },
      "outputs": [
        {
          "data": {
            "text/html": [
              "<div>\n",
              "<style scoped>\n",
              "    .dataframe tbody tr th:only-of-type {\n",
              "        vertical-align: middle;\n",
              "    }\n",
              "\n",
              "    .dataframe tbody tr th {\n",
              "        vertical-align: top;\n",
              "    }\n",
              "\n",
              "    .dataframe thead th {\n",
              "        text-align: right;\n",
              "    }\n",
              "</style>\n",
              "<table border=\"1\" class=\"dataframe\">\n",
              "  <thead>\n",
              "    <tr style=\"text-align: right;\">\n",
              "      <th></th>\n",
              "      <th>name</th>\n",
              "      <th>year</th>\n",
              "      <th>selling_price</th>\n",
              "      <th>km_driven</th>\n",
              "      <th>fuel</th>\n",
              "      <th>seller_type</th>\n",
              "      <th>transmission</th>\n",
              "      <th>owner</th>\n",
              "      <th>mileage</th>\n",
              "      <th>engine</th>\n",
              "      <th>max_power</th>\n",
              "      <th>torque</th>\n",
              "      <th>seats</th>\n",
              "    </tr>\n",
              "  </thead>\n",
              "  <tbody>\n",
              "    <tr>\n",
              "      <th>995</th>\n",
              "      <td>Hyundai i10 Magna 1.1L</td>\n",
              "      <td>2008</td>\n",
              "      <td>250000</td>\n",
              "      <td>100000</td>\n",
              "      <td>Petrol</td>\n",
              "      <td>Individual</td>\n",
              "      <td>Manual</td>\n",
              "      <td>Second Owner</td>\n",
              "      <td>19.81 kmpl</td>\n",
              "      <td>1086 CC</td>\n",
              "      <td>68.05 bhp</td>\n",
              "      <td>99.04Nm@ 4500rpm</td>\n",
              "      <td>5.0</td>\n",
              "    </tr>\n",
              "    <tr>\n",
              "      <th>996</th>\n",
              "      <td>Hyundai i20 2015-2017 Sportz 1.2</td>\n",
              "      <td>2017</td>\n",
              "      <td>440000</td>\n",
              "      <td>50000</td>\n",
              "      <td>Petrol</td>\n",
              "      <td>Individual</td>\n",
              "      <td>Manual</td>\n",
              "      <td>Second Owner</td>\n",
              "      <td>18.6 kmpl</td>\n",
              "      <td>1197 CC</td>\n",
              "      <td>81.83 bhp</td>\n",
              "      <td>114.7Nm@ 4000rpm</td>\n",
              "      <td>5.0</td>\n",
              "    </tr>\n",
              "    <tr>\n",
              "      <th>997</th>\n",
              "      <td>Hyundai i20 Era Diesel</td>\n",
              "      <td>2009</td>\n",
              "      <td>340000</td>\n",
              "      <td>40000</td>\n",
              "      <td>Diesel</td>\n",
              "      <td>Individual</td>\n",
              "      <td>Manual</td>\n",
              "      <td>First Owner</td>\n",
              "      <td>23.0 kmpl</td>\n",
              "      <td>1396 CC</td>\n",
              "      <td>90 bhp</td>\n",
              "      <td>22.4 kgm at 1750-2750rpm</td>\n",
              "      <td>5.0</td>\n",
              "    </tr>\n",
              "    <tr>\n",
              "      <th>998</th>\n",
              "      <td>Hyundai i10 Asta</td>\n",
              "      <td>2012</td>\n",
              "      <td>350000</td>\n",
              "      <td>25000</td>\n",
              "      <td>Petrol</td>\n",
              "      <td>Individual</td>\n",
              "      <td>Manual</td>\n",
              "      <td>First Owner</td>\n",
              "      <td>20.36 kmpl</td>\n",
              "      <td>1197 CC</td>\n",
              "      <td>78.9 bhp</td>\n",
              "      <td>111.8Nm@ 4000rpm</td>\n",
              "      <td>5.0</td>\n",
              "    </tr>\n",
              "    <tr>\n",
              "      <th>999</th>\n",
              "      <td>Honda City i DTec SV</td>\n",
              "      <td>2016</td>\n",
              "      <td>700000</td>\n",
              "      <td>110000</td>\n",
              "      <td>Diesel</td>\n",
              "      <td>Individual</td>\n",
              "      <td>Manual</td>\n",
              "      <td>First Owner</td>\n",
              "      <td>26.0 kmpl</td>\n",
              "      <td>1498 CC</td>\n",
              "      <td>98.6 bhp</td>\n",
              "      <td>200Nm@ 1750rpm</td>\n",
              "      <td>5.0</td>\n",
              "    </tr>\n",
              "  </tbody>\n",
              "</table>\n",
              "</div>"
            ],
            "text/plain": [
              "                                 name  year  selling_price  km_driven    fuel  \\\n",
              "995            Hyundai i10 Magna 1.1L  2008         250000     100000  Petrol   \n",
              "996  Hyundai i20 2015-2017 Sportz 1.2  2017         440000      50000  Petrol   \n",
              "997            Hyundai i20 Era Diesel  2009         340000      40000  Diesel   \n",
              "998                  Hyundai i10 Asta  2012         350000      25000  Petrol   \n",
              "999              Honda City i DTec SV  2016         700000     110000  Diesel   \n",
              "\n",
              "    seller_type transmission         owner     mileage   engine  max_power  \\\n",
              "995  Individual       Manual  Second Owner  19.81 kmpl  1086 CC  68.05 bhp   \n",
              "996  Individual       Manual  Second Owner   18.6 kmpl  1197 CC  81.83 bhp   \n",
              "997  Individual       Manual   First Owner   23.0 kmpl  1396 CC     90 bhp   \n",
              "998  Individual       Manual   First Owner  20.36 kmpl  1197 CC   78.9 bhp   \n",
              "999  Individual       Manual   First Owner   26.0 kmpl  1498 CC   98.6 bhp   \n",
              "\n",
              "                       torque  seats  \n",
              "995          99.04Nm@ 4500rpm    5.0  \n",
              "996          114.7Nm@ 4000rpm    5.0  \n",
              "997  22.4 kgm at 1750-2750rpm    5.0  \n",
              "998          111.8Nm@ 4000rpm    5.0  \n",
              "999            200Nm@ 1750rpm    5.0  "
            ]
          },
          "execution_count": 8,
          "metadata": {},
          "output_type": "execute_result"
        }
      ],
      "source": [
        "df_test.tail()"
      ]
    },
    {
      "cell_type": "markdown",
      "metadata": {
        "id": "6fAcrLkBygwE"
      },
      "source": [
        "(0.1 балла) <font color='#9933CC'>Посчитайте основные статистики как по числовым, так и по категориальным столбцам для трейна и теста</font>. \n",
        "> Подсказка: ``.describe()`` с нужным(и) аргументом(-ами)\n",
        "\n"
      ]
    },
    {
      "cell_type": "code",
      "execution_count": 9,
      "metadata": {
        "id": "eaiIQCvMrPUb"
      },
      "outputs": [
        {
          "data": {
            "text/html": [
              "<div>\n",
              "<style scoped>\n",
              "    .dataframe tbody tr th:only-of-type {\n",
              "        vertical-align: middle;\n",
              "    }\n",
              "\n",
              "    .dataframe tbody tr th {\n",
              "        vertical-align: top;\n",
              "    }\n",
              "\n",
              "    .dataframe thead th {\n",
              "        text-align: right;\n",
              "    }\n",
              "</style>\n",
              "<table border=\"1\" class=\"dataframe\">\n",
              "  <thead>\n",
              "    <tr style=\"text-align: right;\">\n",
              "      <th></th>\n",
              "      <th>name</th>\n",
              "      <th>year</th>\n",
              "      <th>selling_price</th>\n",
              "      <th>km_driven</th>\n",
              "      <th>fuel</th>\n",
              "      <th>seller_type</th>\n",
              "      <th>transmission</th>\n",
              "      <th>owner</th>\n",
              "      <th>mileage</th>\n",
              "      <th>engine</th>\n",
              "      <th>max_power</th>\n",
              "      <th>torque</th>\n",
              "      <th>seats</th>\n",
              "    </tr>\n",
              "  </thead>\n",
              "  <tbody>\n",
              "    <tr>\n",
              "      <th>count</th>\n",
              "      <td>6999</td>\n",
              "      <td>6999.000000</td>\n",
              "      <td>6.999000e+03</td>\n",
              "      <td>6.999000e+03</td>\n",
              "      <td>6999</td>\n",
              "      <td>6999</td>\n",
              "      <td>6999</td>\n",
              "      <td>6999</td>\n",
              "      <td>6797</td>\n",
              "      <td>6797</td>\n",
              "      <td>6803</td>\n",
              "      <td>6796</td>\n",
              "      <td>6797.000000</td>\n",
              "    </tr>\n",
              "    <tr>\n",
              "      <th>unique</th>\n",
              "      <td>1924</td>\n",
              "      <td>NaN</td>\n",
              "      <td>NaN</td>\n",
              "      <td>NaN</td>\n",
              "      <td>4</td>\n",
              "      <td>3</td>\n",
              "      <td>2</td>\n",
              "      <td>5</td>\n",
              "      <td>386</td>\n",
              "      <td>120</td>\n",
              "      <td>316</td>\n",
              "      <td>419</td>\n",
              "      <td>NaN</td>\n",
              "    </tr>\n",
              "    <tr>\n",
              "      <th>top</th>\n",
              "      <td>Maruti Swift Dzire VDI</td>\n",
              "      <td>NaN</td>\n",
              "      <td>NaN</td>\n",
              "      <td>NaN</td>\n",
              "      <td>Diesel</td>\n",
              "      <td>Individual</td>\n",
              "      <td>Manual</td>\n",
              "      <td>First Owner</td>\n",
              "      <td>18.9 kmpl</td>\n",
              "      <td>1248 CC</td>\n",
              "      <td>74 bhp</td>\n",
              "      <td>190Nm@ 2000rpm</td>\n",
              "      <td>NaN</td>\n",
              "    </tr>\n",
              "    <tr>\n",
              "      <th>freq</th>\n",
              "      <td>116</td>\n",
              "      <td>NaN</td>\n",
              "      <td>NaN</td>\n",
              "      <td>NaN</td>\n",
              "      <td>3793</td>\n",
              "      <td>5826</td>\n",
              "      <td>6095</td>\n",
              "      <td>4587</td>\n",
              "      <td>197</td>\n",
              "      <td>885</td>\n",
              "      <td>330</td>\n",
              "      <td>468</td>\n",
              "      <td>NaN</td>\n",
              "    </tr>\n",
              "    <tr>\n",
              "      <th>mean</th>\n",
              "      <td>NaN</td>\n",
              "      <td>2013.818403</td>\n",
              "      <td>6.395152e+05</td>\n",
              "      <td>6.958462e+04</td>\n",
              "      <td>NaN</td>\n",
              "      <td>NaN</td>\n",
              "      <td>NaN</td>\n",
              "      <td>NaN</td>\n",
              "      <td>NaN</td>\n",
              "      <td>NaN</td>\n",
              "      <td>NaN</td>\n",
              "      <td>NaN</td>\n",
              "      <td>5.419008</td>\n",
              "    </tr>\n",
              "    <tr>\n",
              "      <th>std</th>\n",
              "      <td>NaN</td>\n",
              "      <td>4.053095</td>\n",
              "      <td>8.089419e+05</td>\n",
              "      <td>5.772400e+04</td>\n",
              "      <td>NaN</td>\n",
              "      <td>NaN</td>\n",
              "      <td>NaN</td>\n",
              "      <td>NaN</td>\n",
              "      <td>NaN</td>\n",
              "      <td>NaN</td>\n",
              "      <td>NaN</td>\n",
              "      <td>NaN</td>\n",
              "      <td>0.965767</td>\n",
              "    </tr>\n",
              "    <tr>\n",
              "      <th>min</th>\n",
              "      <td>NaN</td>\n",
              "      <td>1983.000000</td>\n",
              "      <td>2.999900e+04</td>\n",
              "      <td>1.000000e+00</td>\n",
              "      <td>NaN</td>\n",
              "      <td>NaN</td>\n",
              "      <td>NaN</td>\n",
              "      <td>NaN</td>\n",
              "      <td>NaN</td>\n",
              "      <td>NaN</td>\n",
              "      <td>NaN</td>\n",
              "      <td>NaN</td>\n",
              "      <td>2.000000</td>\n",
              "    </tr>\n",
              "    <tr>\n",
              "      <th>25%</th>\n",
              "      <td>NaN</td>\n",
              "      <td>2011.000000</td>\n",
              "      <td>2.549990e+05</td>\n",
              "      <td>3.500000e+04</td>\n",
              "      <td>NaN</td>\n",
              "      <td>NaN</td>\n",
              "      <td>NaN</td>\n",
              "      <td>NaN</td>\n",
              "      <td>NaN</td>\n",
              "      <td>NaN</td>\n",
              "      <td>NaN</td>\n",
              "      <td>NaN</td>\n",
              "      <td>5.000000</td>\n",
              "    </tr>\n",
              "    <tr>\n",
              "      <th>50%</th>\n",
              "      <td>NaN</td>\n",
              "      <td>2015.000000</td>\n",
              "      <td>4.500000e+05</td>\n",
              "      <td>6.000000e+04</td>\n",
              "      <td>NaN</td>\n",
              "      <td>NaN</td>\n",
              "      <td>NaN</td>\n",
              "      <td>NaN</td>\n",
              "      <td>NaN</td>\n",
              "      <td>NaN</td>\n",
              "      <td>NaN</td>\n",
              "      <td>NaN</td>\n",
              "      <td>5.000000</td>\n",
              "    </tr>\n",
              "    <tr>\n",
              "      <th>75%</th>\n",
              "      <td>NaN</td>\n",
              "      <td>2017.000000</td>\n",
              "      <td>6.750000e+05</td>\n",
              "      <td>9.700000e+04</td>\n",
              "      <td>NaN</td>\n",
              "      <td>NaN</td>\n",
              "      <td>NaN</td>\n",
              "      <td>NaN</td>\n",
              "      <td>NaN</td>\n",
              "      <td>NaN</td>\n",
              "      <td>NaN</td>\n",
              "      <td>NaN</td>\n",
              "      <td>5.000000</td>\n",
              "    </tr>\n",
              "    <tr>\n",
              "      <th>max</th>\n",
              "      <td>NaN</td>\n",
              "      <td>2020.000000</td>\n",
              "      <td>1.000000e+07</td>\n",
              "      <td>2.360457e+06</td>\n",
              "      <td>NaN</td>\n",
              "      <td>NaN</td>\n",
              "      <td>NaN</td>\n",
              "      <td>NaN</td>\n",
              "      <td>NaN</td>\n",
              "      <td>NaN</td>\n",
              "      <td>NaN</td>\n",
              "      <td>NaN</td>\n",
              "      <td>14.000000</td>\n",
              "    </tr>\n",
              "  </tbody>\n",
              "</table>\n",
              "</div>"
            ],
            "text/plain": [
              "                          name         year  selling_price     km_driven  \\\n",
              "count                     6999  6999.000000   6.999000e+03  6.999000e+03   \n",
              "unique                    1924          NaN            NaN           NaN   \n",
              "top     Maruti Swift Dzire VDI          NaN            NaN           NaN   \n",
              "freq                       116          NaN            NaN           NaN   \n",
              "mean                       NaN  2013.818403   6.395152e+05  6.958462e+04   \n",
              "std                        NaN     4.053095   8.089419e+05  5.772400e+04   \n",
              "min                        NaN  1983.000000   2.999900e+04  1.000000e+00   \n",
              "25%                        NaN  2011.000000   2.549990e+05  3.500000e+04   \n",
              "50%                        NaN  2015.000000   4.500000e+05  6.000000e+04   \n",
              "75%                        NaN  2017.000000   6.750000e+05  9.700000e+04   \n",
              "max                        NaN  2020.000000   1.000000e+07  2.360457e+06   \n",
              "\n",
              "          fuel seller_type transmission        owner    mileage   engine  \\\n",
              "count     6999        6999         6999         6999       6797     6797   \n",
              "unique       4           3            2            5        386      120   \n",
              "top     Diesel  Individual       Manual  First Owner  18.9 kmpl  1248 CC   \n",
              "freq      3793        5826         6095         4587        197      885   \n",
              "mean       NaN         NaN          NaN          NaN        NaN      NaN   \n",
              "std        NaN         NaN          NaN          NaN        NaN      NaN   \n",
              "min        NaN         NaN          NaN          NaN        NaN      NaN   \n",
              "25%        NaN         NaN          NaN          NaN        NaN      NaN   \n",
              "50%        NaN         NaN          NaN          NaN        NaN      NaN   \n",
              "75%        NaN         NaN          NaN          NaN        NaN      NaN   \n",
              "max        NaN         NaN          NaN          NaN        NaN      NaN   \n",
              "\n",
              "       max_power          torque        seats  \n",
              "count       6803            6796  6797.000000  \n",
              "unique       316             419          NaN  \n",
              "top       74 bhp  190Nm@ 2000rpm          NaN  \n",
              "freq         330             468          NaN  \n",
              "mean         NaN             NaN     5.419008  \n",
              "std          NaN             NaN     0.965767  \n",
              "min          NaN             NaN     2.000000  \n",
              "25%          NaN             NaN     5.000000  \n",
              "50%          NaN             NaN     5.000000  \n",
              "75%          NaN             NaN     5.000000  \n",
              "max          NaN             NaN    14.000000  "
            ]
          },
          "execution_count": 9,
          "metadata": {},
          "output_type": "execute_result"
        }
      ],
      "source": [
        "df_train.describe(include=\"all\")"
      ]
    },
    {
      "cell_type": "code",
      "execution_count": 10,
      "metadata": {},
      "outputs": [
        {
          "data": {
            "text/html": [
              "<div>\n",
              "<style scoped>\n",
              "    .dataframe tbody tr th:only-of-type {\n",
              "        vertical-align: middle;\n",
              "    }\n",
              "\n",
              "    .dataframe tbody tr th {\n",
              "        vertical-align: top;\n",
              "    }\n",
              "\n",
              "    .dataframe thead th {\n",
              "        text-align: right;\n",
              "    }\n",
              "</style>\n",
              "<table border=\"1\" class=\"dataframe\">\n",
              "  <thead>\n",
              "    <tr style=\"text-align: right;\">\n",
              "      <th></th>\n",
              "      <th>name</th>\n",
              "      <th>year</th>\n",
              "      <th>selling_price</th>\n",
              "      <th>km_driven</th>\n",
              "      <th>fuel</th>\n",
              "      <th>seller_type</th>\n",
              "      <th>transmission</th>\n",
              "      <th>owner</th>\n",
              "      <th>mileage</th>\n",
              "      <th>engine</th>\n",
              "      <th>max_power</th>\n",
              "      <th>torque</th>\n",
              "      <th>seats</th>\n",
              "    </tr>\n",
              "  </thead>\n",
              "  <tbody>\n",
              "    <tr>\n",
              "      <th>count</th>\n",
              "      <td>1000</td>\n",
              "      <td>1000.000000</td>\n",
              "      <td>1.000000e+03</td>\n",
              "      <td>1000.000000</td>\n",
              "      <td>1000</td>\n",
              "      <td>1000</td>\n",
              "      <td>1000</td>\n",
              "      <td>1000</td>\n",
              "      <td>981</td>\n",
              "      <td>981</td>\n",
              "      <td>981</td>\n",
              "      <td>981</td>\n",
              "      <td>981.000000</td>\n",
              "    </tr>\n",
              "    <tr>\n",
              "      <th>unique</th>\n",
              "      <td>621</td>\n",
              "      <td>NaN</td>\n",
              "      <td>NaN</td>\n",
              "      <td>NaN</td>\n",
              "      <td>4</td>\n",
              "      <td>3</td>\n",
              "      <td>2</td>\n",
              "      <td>5</td>\n",
              "      <td>237</td>\n",
              "      <td>88</td>\n",
              "      <td>182</td>\n",
              "      <td>226</td>\n",
              "      <td>NaN</td>\n",
              "    </tr>\n",
              "    <tr>\n",
              "      <th>top</th>\n",
              "      <td>Maruti Alto 800 LXI</td>\n",
              "      <td>NaN</td>\n",
              "      <td>NaN</td>\n",
              "      <td>NaN</td>\n",
              "      <td>Diesel</td>\n",
              "      <td>Individual</td>\n",
              "      <td>Manual</td>\n",
              "      <td>First Owner</td>\n",
              "      <td>18.6 kmpl</td>\n",
              "      <td>1248 CC</td>\n",
              "      <td>74 bhp</td>\n",
              "      <td>200Nm@ 1750rpm</td>\n",
              "      <td>NaN</td>\n",
              "    </tr>\n",
              "    <tr>\n",
              "      <th>freq</th>\n",
              "      <td>15</td>\n",
              "      <td>NaN</td>\n",
              "      <td>NaN</td>\n",
              "      <td>NaN</td>\n",
              "      <td>534</td>\n",
              "      <td>837</td>\n",
              "      <td>877</td>\n",
              "      <td>623</td>\n",
              "      <td>23</td>\n",
              "      <td>116</td>\n",
              "      <td>43</td>\n",
              "      <td>57</td>\n",
              "      <td>NaN</td>\n",
              "    </tr>\n",
              "    <tr>\n",
              "      <th>mean</th>\n",
              "      <td>NaN</td>\n",
              "      <td>2013.681000</td>\n",
              "      <td>6.179010e+05</td>\n",
              "      <td>71393.341000</td>\n",
              "      <td>NaN</td>\n",
              "      <td>NaN</td>\n",
              "      <td>NaN</td>\n",
              "      <td>NaN</td>\n",
              "      <td>NaN</td>\n",
              "      <td>NaN</td>\n",
              "      <td>NaN</td>\n",
              "      <td>NaN</td>\n",
              "      <td>5.410805</td>\n",
              "    </tr>\n",
              "    <tr>\n",
              "      <th>std</th>\n",
              "      <td>NaN</td>\n",
              "      <td>4.012149</td>\n",
              "      <td>7.585539e+05</td>\n",
              "      <td>48486.218662</td>\n",
              "      <td>NaN</td>\n",
              "      <td>NaN</td>\n",
              "      <td>NaN</td>\n",
              "      <td>NaN</td>\n",
              "      <td>NaN</td>\n",
              "      <td>NaN</td>\n",
              "      <td>NaN</td>\n",
              "      <td>NaN</td>\n",
              "      <td>0.919985</td>\n",
              "    </tr>\n",
              "    <tr>\n",
              "      <th>min</th>\n",
              "      <td>NaN</td>\n",
              "      <td>1995.000000</td>\n",
              "      <td>3.100000e+04</td>\n",
              "      <td>1303.000000</td>\n",
              "      <td>NaN</td>\n",
              "      <td>NaN</td>\n",
              "      <td>NaN</td>\n",
              "      <td>NaN</td>\n",
              "      <td>NaN</td>\n",
              "      <td>NaN</td>\n",
              "      <td>NaN</td>\n",
              "      <td>NaN</td>\n",
              "      <td>4.000000</td>\n",
              "    </tr>\n",
              "    <tr>\n",
              "      <th>25%</th>\n",
              "      <td>NaN</td>\n",
              "      <td>2011.000000</td>\n",
              "      <td>2.500000e+05</td>\n",
              "      <td>37000.000000</td>\n",
              "      <td>NaN</td>\n",
              "      <td>NaN</td>\n",
              "      <td>NaN</td>\n",
              "      <td>NaN</td>\n",
              "      <td>NaN</td>\n",
              "      <td>NaN</td>\n",
              "      <td>NaN</td>\n",
              "      <td>NaN</td>\n",
              "      <td>5.000000</td>\n",
              "    </tr>\n",
              "    <tr>\n",
              "      <th>50%</th>\n",
              "      <td>NaN</td>\n",
              "      <td>2014.000000</td>\n",
              "      <td>4.349990e+05</td>\n",
              "      <td>61500.000000</td>\n",
              "      <td>NaN</td>\n",
              "      <td>NaN</td>\n",
              "      <td>NaN</td>\n",
              "      <td>NaN</td>\n",
              "      <td>NaN</td>\n",
              "      <td>NaN</td>\n",
              "      <td>NaN</td>\n",
              "      <td>NaN</td>\n",
              "      <td>5.000000</td>\n",
              "    </tr>\n",
              "    <tr>\n",
              "      <th>75%</th>\n",
              "      <td>NaN</td>\n",
              "      <td>2017.000000</td>\n",
              "      <td>6.700000e+05</td>\n",
              "      <td>100000.000000</td>\n",
              "      <td>NaN</td>\n",
              "      <td>NaN</td>\n",
              "      <td>NaN</td>\n",
              "      <td>NaN</td>\n",
              "      <td>NaN</td>\n",
              "      <td>NaN</td>\n",
              "      <td>NaN</td>\n",
              "      <td>NaN</td>\n",
              "      <td>5.000000</td>\n",
              "    </tr>\n",
              "    <tr>\n",
              "      <th>max</th>\n",
              "      <td>NaN</td>\n",
              "      <td>2020.000000</td>\n",
              "      <td>6.000000e+06</td>\n",
              "      <td>375000.000000</td>\n",
              "      <td>NaN</td>\n",
              "      <td>NaN</td>\n",
              "      <td>NaN</td>\n",
              "      <td>NaN</td>\n",
              "      <td>NaN</td>\n",
              "      <td>NaN</td>\n",
              "      <td>NaN</td>\n",
              "      <td>NaN</td>\n",
              "      <td>9.000000</td>\n",
              "    </tr>\n",
              "  </tbody>\n",
              "</table>\n",
              "</div>"
            ],
            "text/plain": [
              "                       name         year  selling_price      km_driven  \\\n",
              "count                  1000  1000.000000   1.000000e+03    1000.000000   \n",
              "unique                  621          NaN            NaN            NaN   \n",
              "top     Maruti Alto 800 LXI          NaN            NaN            NaN   \n",
              "freq                     15          NaN            NaN            NaN   \n",
              "mean                    NaN  2013.681000   6.179010e+05   71393.341000   \n",
              "std                     NaN     4.012149   7.585539e+05   48486.218662   \n",
              "min                     NaN  1995.000000   3.100000e+04    1303.000000   \n",
              "25%                     NaN  2011.000000   2.500000e+05   37000.000000   \n",
              "50%                     NaN  2014.000000   4.349990e+05   61500.000000   \n",
              "75%                     NaN  2017.000000   6.700000e+05  100000.000000   \n",
              "max                     NaN  2020.000000   6.000000e+06  375000.000000   \n",
              "\n",
              "          fuel seller_type transmission        owner    mileage   engine  \\\n",
              "count     1000        1000         1000         1000        981      981   \n",
              "unique       4           3            2            5        237       88   \n",
              "top     Diesel  Individual       Manual  First Owner  18.6 kmpl  1248 CC   \n",
              "freq       534         837          877          623         23      116   \n",
              "mean       NaN         NaN          NaN          NaN        NaN      NaN   \n",
              "std        NaN         NaN          NaN          NaN        NaN      NaN   \n",
              "min        NaN         NaN          NaN          NaN        NaN      NaN   \n",
              "25%        NaN         NaN          NaN          NaN        NaN      NaN   \n",
              "50%        NaN         NaN          NaN          NaN        NaN      NaN   \n",
              "75%        NaN         NaN          NaN          NaN        NaN      NaN   \n",
              "max        NaN         NaN          NaN          NaN        NaN      NaN   \n",
              "\n",
              "       max_power          torque       seats  \n",
              "count        981             981  981.000000  \n",
              "unique       182             226         NaN  \n",
              "top       74 bhp  200Nm@ 1750rpm         NaN  \n",
              "freq          43              57         NaN  \n",
              "mean         NaN             NaN    5.410805  \n",
              "std          NaN             NaN    0.919985  \n",
              "min          NaN             NaN    4.000000  \n",
              "25%          NaN             NaN    5.000000  \n",
              "50%          NaN             NaN    5.000000  \n",
              "75%          NaN             NaN    5.000000  \n",
              "max          NaN             NaN    9.000000  "
            ]
          },
          "execution_count": 10,
          "metadata": {},
          "output_type": "execute_result"
        }
      ],
      "source": [
        "df_test.describe(include='all')"
      ]
    },
    {
      "cell_type": "markdown",
      "metadata": {
        "id": "1X5_FzDOhjuh"
      },
      "source": [
        "(0.15 балла) <font color='#9933CC'>Посмотрите, есть ли в датасете пропуски.</font>\n",
        "\n",
        "<font color='#FF6600'>Если есть, то в каких колонках?</font>"
      ]
    },
    {
      "cell_type": "code",
      "execution_count": 11,
      "metadata": {
        "id": "67KXN7Fj0Chz"
      },
      "outputs": [
        {
          "name": "stdout",
          "output_type": "stream",
          "text": [
            "missing vals for train in columns: ['torque', 'engine', 'seats', 'mileage', 'max_power']\n"
          ]
        }
      ],
      "source": [
        "print(f\"missing vals for train in columns: {list(set(df_train.columns.to_list()) - set(df_train.dropna(how='any',axis=1).columns.to_list()))}\")"
      ]
    },
    {
      "cell_type": "code",
      "execution_count": 12,
      "metadata": {},
      "outputs": [
        {
          "name": "stdout",
          "output_type": "stream",
          "text": [
            "missing vals for test in columns: ['torque', 'engine', 'seats', 'mileage', 'max_power']\n"
          ]
        }
      ],
      "source": [
        "print(f\"missing vals for test in columns: {list(set(df_test.columns.to_list()) - set(df_test.dropna(how='any',axis=1).columns.to_list()))}\")"
      ]
    },
    {
      "cell_type": "markdown",
      "metadata": {
        "id": "B9KR76Uzjvqa"
      },
      "source": [
        "(0.1 балла) <font color='#9933CC'>Посмотрите, есть ли в трейне объекты с одинаковым признаковым описанием</font> (целевую переменную следует исключить). Если есть, то сколько?"
      ]
    },
    {
      "cell_type": "code",
      "execution_count": 13,
      "metadata": {
        "id": "J3Y-5Vyijys-"
      },
      "outputs": [
        {
          "data": {
            "text/plain": [
              "1159"
            ]
          },
          "execution_count": 13,
          "metadata": {},
          "output_type": "execute_result"
        }
      ],
      "source": [
        "df_train.drop(columns=[\"selling_price\"]).duplicated().sum()"
      ]
    },
    {
      "cell_type": "markdown",
      "metadata": {
        "id": "UAwmwOwhlQmA"
      },
      "source": [
        "(0.15 балла) <font color='#9933CC'>Отобразите такие объекты</font>"
      ]
    },
    {
      "cell_type": "code",
      "execution_count": 14,
      "metadata": {},
      "outputs": [
        {
          "data": {
            "text/html": [
              "<div>\n",
              "<style scoped>\n",
              "    .dataframe tbody tr th:only-of-type {\n",
              "        vertical-align: middle;\n",
              "    }\n",
              "\n",
              "    .dataframe tbody tr th {\n",
              "        vertical-align: top;\n",
              "    }\n",
              "\n",
              "    .dataframe thead th {\n",
              "        text-align: right;\n",
              "    }\n",
              "</style>\n",
              "<table border=\"1\" class=\"dataframe\">\n",
              "  <thead>\n",
              "    <tr style=\"text-align: right;\">\n",
              "      <th></th>\n",
              "      <th>name</th>\n",
              "      <th>year</th>\n",
              "      <th>selling_price</th>\n",
              "      <th>km_driven</th>\n",
              "      <th>fuel</th>\n",
              "      <th>seller_type</th>\n",
              "      <th>transmission</th>\n",
              "      <th>owner</th>\n",
              "      <th>mileage</th>\n",
              "      <th>engine</th>\n",
              "      <th>max_power</th>\n",
              "      <th>torque</th>\n",
              "      <th>seats</th>\n",
              "    </tr>\n",
              "  </thead>\n",
              "  <tbody>\n",
              "    <tr>\n",
              "      <th>254</th>\n",
              "      <td>Hyundai Grand i10 Sportz</td>\n",
              "      <td>2017</td>\n",
              "      <td>450000</td>\n",
              "      <td>35000</td>\n",
              "      <td>Petrol</td>\n",
              "      <td>Individual</td>\n",
              "      <td>Manual</td>\n",
              "      <td>First Owner</td>\n",
              "      <td>18.9 kmpl</td>\n",
              "      <td>1197 CC</td>\n",
              "      <td>82 bhp</td>\n",
              "      <td>114Nm@ 4000rpm</td>\n",
              "      <td>5.0</td>\n",
              "    </tr>\n",
              "    <tr>\n",
              "      <th>258</th>\n",
              "      <td>Maruti Swift VXI</td>\n",
              "      <td>2012</td>\n",
              "      <td>330000</td>\n",
              "      <td>50000</td>\n",
              "      <td>Petrol</td>\n",
              "      <td>Individual</td>\n",
              "      <td>Manual</td>\n",
              "      <td>Second Owner</td>\n",
              "      <td>18.6 kmpl</td>\n",
              "      <td>1197 CC</td>\n",
              "      <td>85.8 bhp</td>\n",
              "      <td>114Nm@ 4000rpm</td>\n",
              "      <td>5.0</td>\n",
              "    </tr>\n",
              "    <tr>\n",
              "      <th>324</th>\n",
              "      <td>Jaguar XE 2016-2019 2.0L Diesel Prestige</td>\n",
              "      <td>2017</td>\n",
              "      <td>2625000</td>\n",
              "      <td>9000</td>\n",
              "      <td>Diesel</td>\n",
              "      <td>Dealer</td>\n",
              "      <td>Automatic</td>\n",
              "      <td>First Owner</td>\n",
              "      <td>13.6 kmpl</td>\n",
              "      <td>1999 CC</td>\n",
              "      <td>177 bhp</td>\n",
              "      <td>430Nm@ 1750-2500rpm</td>\n",
              "      <td>5.0</td>\n",
              "    </tr>\n",
              "    <tr>\n",
              "      <th>325</th>\n",
              "      <td>Lexus ES 300h</td>\n",
              "      <td>2019</td>\n",
              "      <td>5150000</td>\n",
              "      <td>20000</td>\n",
              "      <td>Petrol</td>\n",
              "      <td>Dealer</td>\n",
              "      <td>Automatic</td>\n",
              "      <td>First Owner</td>\n",
              "      <td>22.37 kmpl</td>\n",
              "      <td>2487 CC</td>\n",
              "      <td>214.56 bhp</td>\n",
              "      <td>202Nm@ 3600-5200rpm</td>\n",
              "      <td>5.0</td>\n",
              "    </tr>\n",
              "    <tr>\n",
              "      <th>326</th>\n",
              "      <td>Jaguar XF 2.0 Diesel Portfolio</td>\n",
              "      <td>2017</td>\n",
              "      <td>3200000</td>\n",
              "      <td>45000</td>\n",
              "      <td>Diesel</td>\n",
              "      <td>Dealer</td>\n",
              "      <td>Automatic</td>\n",
              "      <td>First Owner</td>\n",
              "      <td>19.33 kmpl</td>\n",
              "      <td>1999 CC</td>\n",
              "      <td>177 bhp</td>\n",
              "      <td>430Nm@ 1750-2500rpm</td>\n",
              "      <td>5.0</td>\n",
              "    </tr>\n",
              "    <tr>\n",
              "      <th>...</th>\n",
              "      <td>...</td>\n",
              "      <td>...</td>\n",
              "      <td>...</td>\n",
              "      <td>...</td>\n",
              "      <td>...</td>\n",
              "      <td>...</td>\n",
              "      <td>...</td>\n",
              "      <td>...</td>\n",
              "      <td>...</td>\n",
              "      <td>...</td>\n",
              "      <td>...</td>\n",
              "      <td>...</td>\n",
              "      <td>...</td>\n",
              "    </tr>\n",
              "    <tr>\n",
              "      <th>6880</th>\n",
              "      <td>Renault Captur 1.5 Diesel RXT</td>\n",
              "      <td>2018</td>\n",
              "      <td>1265000</td>\n",
              "      <td>12000</td>\n",
              "      <td>Diesel</td>\n",
              "      <td>Individual</td>\n",
              "      <td>Manual</td>\n",
              "      <td>First Owner</td>\n",
              "      <td>20.37 kmpl</td>\n",
              "      <td>1461 CC</td>\n",
              "      <td>108.45 bhp</td>\n",
              "      <td>240Nm@ 1750rpm</td>\n",
              "      <td>5.0</td>\n",
              "    </tr>\n",
              "    <tr>\n",
              "      <th>6881</th>\n",
              "      <td>Maruti Ciaz Alpha Diesel</td>\n",
              "      <td>2019</td>\n",
              "      <td>1025000</td>\n",
              "      <td>32000</td>\n",
              "      <td>Diesel</td>\n",
              "      <td>Individual</td>\n",
              "      <td>Manual</td>\n",
              "      <td>First Owner</td>\n",
              "      <td>28.09 kmpl</td>\n",
              "      <td>1248 CC</td>\n",
              "      <td>88.50 bhp</td>\n",
              "      <td>200Nm@ 1750rpm</td>\n",
              "      <td>5.0</td>\n",
              "    </tr>\n",
              "    <tr>\n",
              "      <th>6989</th>\n",
              "      <td>Maruti Swift Dzire VDI</td>\n",
              "      <td>2015</td>\n",
              "      <td>625000</td>\n",
              "      <td>50000</td>\n",
              "      <td>Diesel</td>\n",
              "      <td>Individual</td>\n",
              "      <td>Manual</td>\n",
              "      <td>First Owner</td>\n",
              "      <td>26.59 kmpl</td>\n",
              "      <td>1248 CC</td>\n",
              "      <td>74 bhp</td>\n",
              "      <td>190Nm@ 2000rpm</td>\n",
              "      <td>5.0</td>\n",
              "    </tr>\n",
              "    <tr>\n",
              "      <th>6997</th>\n",
              "      <td>Tata Indigo CR4</td>\n",
              "      <td>2013</td>\n",
              "      <td>290000</td>\n",
              "      <td>25000</td>\n",
              "      <td>Diesel</td>\n",
              "      <td>Individual</td>\n",
              "      <td>Manual</td>\n",
              "      <td>First Owner</td>\n",
              "      <td>23.57 kmpl</td>\n",
              "      <td>1396 CC</td>\n",
              "      <td>70 bhp</td>\n",
              "      <td>140Nm@ 1800-3000rpm</td>\n",
              "      <td>5.0</td>\n",
              "    </tr>\n",
              "    <tr>\n",
              "      <th>6998</th>\n",
              "      <td>Tata Indigo CR4</td>\n",
              "      <td>2013</td>\n",
              "      <td>290000</td>\n",
              "      <td>25000</td>\n",
              "      <td>Diesel</td>\n",
              "      <td>Individual</td>\n",
              "      <td>Manual</td>\n",
              "      <td>First Owner</td>\n",
              "      <td>23.57 kmpl</td>\n",
              "      <td>1396 CC</td>\n",
              "      <td>70 bhp</td>\n",
              "      <td>140Nm@ 1800-3000rpm</td>\n",
              "      <td>5.0</td>\n",
              "    </tr>\n",
              "  </tbody>\n",
              "</table>\n",
              "<p>985 rows × 13 columns</p>\n",
              "</div>"
            ],
            "text/plain": [
              "                                          name  year  selling_price  \\\n",
              "254                   Hyundai Grand i10 Sportz  2017         450000   \n",
              "258                           Maruti Swift VXI  2012         330000   \n",
              "324   Jaguar XE 2016-2019 2.0L Diesel Prestige  2017        2625000   \n",
              "325                              Lexus ES 300h  2019        5150000   \n",
              "326             Jaguar XF 2.0 Diesel Portfolio  2017        3200000   \n",
              "...                                        ...   ...            ...   \n",
              "6880             Renault Captur 1.5 Diesel RXT  2018        1265000   \n",
              "6881                  Maruti Ciaz Alpha Diesel  2019        1025000   \n",
              "6989                    Maruti Swift Dzire VDI  2015         625000   \n",
              "6997                           Tata Indigo CR4  2013         290000   \n",
              "6998                           Tata Indigo CR4  2013         290000   \n",
              "\n",
              "      km_driven    fuel seller_type transmission         owner     mileage  \\\n",
              "254       35000  Petrol  Individual       Manual   First Owner   18.9 kmpl   \n",
              "258       50000  Petrol  Individual       Manual  Second Owner   18.6 kmpl   \n",
              "324        9000  Diesel      Dealer    Automatic   First Owner   13.6 kmpl   \n",
              "325       20000  Petrol      Dealer    Automatic   First Owner  22.37 kmpl   \n",
              "326       45000  Diesel      Dealer    Automatic   First Owner  19.33 kmpl   \n",
              "...         ...     ...         ...          ...           ...         ...   \n",
              "6880      12000  Diesel  Individual       Manual   First Owner  20.37 kmpl   \n",
              "6881      32000  Diesel  Individual       Manual   First Owner  28.09 kmpl   \n",
              "6989      50000  Diesel  Individual       Manual   First Owner  26.59 kmpl   \n",
              "6997      25000  Diesel  Individual       Manual   First Owner  23.57 kmpl   \n",
              "6998      25000  Diesel  Individual       Manual   First Owner  23.57 kmpl   \n",
              "\n",
              "       engine   max_power               torque  seats  \n",
              "254   1197 CC      82 bhp       114Nm@ 4000rpm    5.0  \n",
              "258   1197 CC    85.8 bhp       114Nm@ 4000rpm    5.0  \n",
              "324   1999 CC     177 bhp  430Nm@ 1750-2500rpm    5.0  \n",
              "325   2487 CC  214.56 bhp  202Nm@ 3600-5200rpm    5.0  \n",
              "326   1999 CC     177 bhp  430Nm@ 1750-2500rpm    5.0  \n",
              "...       ...         ...                  ...    ...  \n",
              "6880  1461 CC  108.45 bhp       240Nm@ 1750rpm    5.0  \n",
              "6881  1248 CC   88.50 bhp       200Nm@ 1750rpm    5.0  \n",
              "6989  1248 CC      74 bhp       190Nm@ 2000rpm    5.0  \n",
              "6997  1396 CC      70 bhp  140Nm@ 1800-3000rpm    5.0  \n",
              "6998  1396 CC      70 bhp  140Nm@ 1800-3000rpm    5.0  \n",
              "\n",
              "[985 rows x 13 columns]"
            ]
          },
          "execution_count": 14,
          "metadata": {},
          "output_type": "execute_result"
        }
      ],
      "source": [
        "df_train[df_train.duplicated() == True]"
      ]
    },
    {
      "cell_type": "markdown",
      "metadata": {
        "id": "156jDf_Yj64l"
      },
      "source": [
        "(0.15 балла) <font color='#9933CC'>Удалите повторяющиеся строки</font>. Если при одинаковом признаковом описании цены на автомобили отличаются, то оставьте первую строку по этому автомобилю"
      ]
    },
    {
      "cell_type": "code",
      "execution_count": 15,
      "metadata": {},
      "outputs": [],
      "source": [
        "idx_dupl = df_train.drop(columns=['selling_price']).drop_duplicates(keep='first').index.to_list()"
      ]
    },
    {
      "cell_type": "code",
      "execution_count": 16,
      "metadata": {},
      "outputs": [],
      "source": [
        "df_train = df_train.drop_duplicates(subset=df_train.drop(columns=['selling_price']).columns.to_list())"
      ]
    },
    {
      "cell_type": "code",
      "execution_count": 17,
      "metadata": {
        "id": "vF0yfzMOkEn8"
      },
      "outputs": [],
      "source": [
        "assert df_train.shape == (5840, 13)"
      ]
    },
    {
      "cell_type": "markdown",
      "metadata": {
        "id": "_SglCDNUkMTa"
      },
      "source": [
        "(0.1 балла) Чтоб все было по красоте, <font color='#9933CC'>обновите индексы строк таким образом, чтобы они шли от 0 без пропусков</font>"
      ]
    },
    {
      "cell_type": "code",
      "execution_count": 18,
      "metadata": {
        "id": "4RxpM81kkgsX"
      },
      "outputs": [],
      "source": [
        "df_train = df_train.reset_index(drop=True)"
      ]
    },
    {
      "cell_type": "markdown",
      "metadata": {
        "id": "CzYgx2wJzLxN"
      },
      "source": [
        "Вы могли заметить, что с признаками ``mileage, engine, max_power и torque`` всё не слава богу. Давайте починим.\n",
        "\n",
        "(0.25 балла) Задача такая: \n",
        "<font color='#9933CC'>\n",
        "* убрать единицы измерения для признаков ``mileage, engine, max_power``. \n",
        "* кастануть эти столбцы столбцы к ``float``.\n",
        "* удалить столбец ``torque``\n",
        "</font>\n",
        "\n",
        "> Все действия нужно производить над обоими датасетами\n",
        "\n",
        "---\n",
        "**Доп (0.25 балла):**\n",
        "* <font color='#9933CC'>Вместо удаления признак `torque` разделите на два: собственно `torque` и `max_torque_rpm`.</font> Учтите единицы измерения. Они разные ☹"
      ]
    },
    {
      "cell_type": "code",
      "execution_count": 19,
      "metadata": {},
      "outputs": [],
      "source": [
        "### mileage"
      ]
    },
    {
      "cell_type": "code",
      "execution_count": 20,
      "metadata": {
        "id": "njamVk3A1dVM"
      },
      "outputs": [
        {
          "data": {
            "text/html": [
              "<div>\n",
              "<style scoped>\n",
              "    .dataframe tbody tr th:only-of-type {\n",
              "        vertical-align: middle;\n",
              "    }\n",
              "\n",
              "    .dataframe tbody tr th {\n",
              "        vertical-align: top;\n",
              "    }\n",
              "\n",
              "    .dataframe thead th {\n",
              "        text-align: right;\n",
              "    }\n",
              "</style>\n",
              "<table border=\"1\" class=\"dataframe\">\n",
              "  <thead>\n",
              "    <tr style=\"text-align: right;\">\n",
              "      <th></th>\n",
              "      <th>mileage</th>\n",
              "      <th>engine</th>\n",
              "      <th>max_power</th>\n",
              "      <th>torque</th>\n",
              "    </tr>\n",
              "  </thead>\n",
              "  <tbody>\n",
              "    <tr>\n",
              "      <th>635</th>\n",
              "      <td>15.1 kmpl</td>\n",
              "      <td>2179 CC</td>\n",
              "      <td>140 bhp</td>\n",
              "      <td>330Nm@ 1600-2800rpm</td>\n",
              "    </tr>\n",
              "    <tr>\n",
              "      <th>3423</th>\n",
              "      <td>17.01 kmpl</td>\n",
              "      <td>1591 CC</td>\n",
              "      <td>121.3 bhp</td>\n",
              "      <td>154.9Nm@ 4200rpm</td>\n",
              "    </tr>\n",
              "  </tbody>\n",
              "</table>\n",
              "</div>"
            ],
            "text/plain": [
              "         mileage   engine  max_power               torque\n",
              "635    15.1 kmpl  2179 CC    140 bhp  330Nm@ 1600-2800rpm\n",
              "3423  17.01 kmpl  1591 CC  121.3 bhp     154.9Nm@ 4200rpm"
            ]
          },
          "execution_count": 20,
          "metadata": {},
          "output_type": "execute_result"
        }
      ],
      "source": [
        "df_train[['mileage', 'engine', 'max_power', 'torque']].sample(2)"
      ]
    },
    {
      "cell_type": "code",
      "execution_count": 21,
      "metadata": {},
      "outputs": [],
      "source": [
        "df_train[['mileage','m_units']] = df_train['mileage'].str.split(' ', n=1, expand=True)\n",
        "df_test[['mileage','m_units']] = df_test['mileage'].str.split(' ', n=1, expand=True)"
      ]
    },
    {
      "cell_type": "code",
      "execution_count": 22,
      "metadata": {},
      "outputs": [],
      "source": [
        "df_train['mileage'] = df_train['mileage'].astype('float')\n",
        "df_test['mileage'] = df_test['mileage'].astype('float')"
      ]
    },
    {
      "cell_type": "code",
      "execution_count": 23,
      "metadata": {},
      "outputs": [
        {
          "data": {
            "text/plain": [
              "kmpl     5577\n",
              "km/kg      77\n",
              "Name: m_units, dtype: int64"
            ]
          },
          "execution_count": 23,
          "metadata": {},
          "output_type": "execute_result"
        }
      ],
      "source": [
        "df_train['m_units'].value_counts()"
      ]
    },
    {
      "cell_type": "code",
      "execution_count": 24,
      "metadata": {},
      "outputs": [
        {
          "data": {
            "text/plain": [
              "kmpl     972\n",
              "km/kg      9\n",
              "Name: m_units, dtype: int64"
            ]
          },
          "execution_count": 24,
          "metadata": {},
          "output_type": "execute_result"
        }
      ],
      "source": [
        "df_test['m_units'].value_counts()"
      ]
    },
    {
      "cell_type": "code",
      "execution_count": 25,
      "metadata": {},
      "outputs": [],
      "source": [
        "### engine"
      ]
    },
    {
      "cell_type": "code",
      "execution_count": 26,
      "metadata": {},
      "outputs": [
        {
          "name": "stderr",
          "output_type": "stream",
          "text": [
            "/tmp/ipykernel_87908/761654337.py:1: FutureWarning: In a future version of pandas all arguments of StringMethods.split except for the argument 'pat' will be keyword-only.\n",
            "  df_train[['engine','e_units']] = df_train['engine'].str.split(' ', 1, expand=True)\n",
            "/tmp/ipykernel_87908/761654337.py:2: FutureWarning: In a future version of pandas all arguments of StringMethods.split except for the argument 'pat' will be keyword-only.\n",
            "  df_test[['engine','e_units']] = df_test['engine'].str.split(' ', 1, expand=True)\n"
          ]
        }
      ],
      "source": [
        "df_train[['engine','e_units']] = df_train['engine'].str.split(' ', 1, expand=True)\n",
        "df_test[['engine','e_units']] = df_test['engine'].str.split(' ', 1, expand=True)"
      ]
    },
    {
      "cell_type": "code",
      "execution_count": 27,
      "metadata": {},
      "outputs": [],
      "source": [
        "df_train['engine'] = df_train['engine'].astype('float')\n",
        "df_test['engine'] = df_test['engine'].astype('float')"
      ]
    },
    {
      "cell_type": "code",
      "execution_count": 28,
      "metadata": {},
      "outputs": [
        {
          "data": {
            "text/plain": [
              "CC    5654\n",
              "Name: e_units, dtype: int64"
            ]
          },
          "execution_count": 28,
          "metadata": {},
          "output_type": "execute_result"
        }
      ],
      "source": [
        "df_train['e_units'].value_counts()"
      ]
    },
    {
      "cell_type": "code",
      "execution_count": 29,
      "metadata": {},
      "outputs": [
        {
          "data": {
            "text/plain": [
              "CC    981\n",
              "Name: e_units, dtype: int64"
            ]
          },
          "execution_count": 29,
          "metadata": {},
          "output_type": "execute_result"
        }
      ],
      "source": [
        "df_test['e_units'].value_counts()"
      ]
    },
    {
      "cell_type": "code",
      "execution_count": 30,
      "metadata": {},
      "outputs": [],
      "source": [
        "df_train = df_train.drop(columns=['e_units'])\n",
        "df_test = df_test.drop(columns=['e_units'])"
      ]
    },
    {
      "cell_type": "code",
      "execution_count": 31,
      "metadata": {},
      "outputs": [],
      "source": [
        "### max_power"
      ]
    },
    {
      "cell_type": "code",
      "execution_count": 32,
      "metadata": {},
      "outputs": [
        {
          "name": "stderr",
          "output_type": "stream",
          "text": [
            "/tmp/ipykernel_87908/1894777017.py:1: FutureWarning: In a future version of pandas all arguments of StringMethods.split except for the argument 'pat' will be keyword-only.\n",
            "  df_train[['max_power','p_units']] = df_train['max_power'].str.split(' ', 1, expand=True)\n",
            "/tmp/ipykernel_87908/1894777017.py:2: FutureWarning: In a future version of pandas all arguments of StringMethods.split except for the argument 'pat' will be keyword-only.\n",
            "  df_test[['max_power','p_units']] = df_test['max_power'].str.split(' ', 1, expand=True)\n"
          ]
        }
      ],
      "source": [
        "\n",
        "df_train[['max_power','p_units']] = df_train['max_power'].str.split(' ', 1, expand=True)\n",
        "df_test[['max_power','p_units']] = df_test['max_power'].str.split(' ', 1, expand=True)"
      ]
    },
    {
      "cell_type": "code",
      "execution_count": 33,
      "metadata": {},
      "outputs": [],
      "source": [
        "df_train.loc[df_train[df_train['max_power']==''].index, 'max_power'] = np.nan\n",
        "df_test.loc[df_test[df_test['max_power']==''].index, 'max_power'] = np.nan"
      ]
    },
    {
      "cell_type": "code",
      "execution_count": 34,
      "metadata": {},
      "outputs": [],
      "source": [
        "df_train['max_power'] = df_train['max_power'].astype('float')\n",
        "df_test['max_power'] = df_test['max_power'].astype('float')"
      ]
    },
    {
      "cell_type": "code",
      "execution_count": 35,
      "metadata": {},
      "outputs": [
        {
          "data": {
            "text/plain": [
              "bhp    5654\n",
              "Name: p_units, dtype: int64"
            ]
          },
          "execution_count": 35,
          "metadata": {},
          "output_type": "execute_result"
        }
      ],
      "source": [
        "df_train['p_units'].value_counts()"
      ]
    },
    {
      "cell_type": "code",
      "execution_count": 36,
      "metadata": {},
      "outputs": [
        {
          "data": {
            "text/plain": [
              "bhp    981\n",
              "Name: p_units, dtype: int64"
            ]
          },
          "execution_count": 36,
          "metadata": {},
          "output_type": "execute_result"
        }
      ],
      "source": [
        "df_test['p_units'].value_counts()"
      ]
    },
    {
      "cell_type": "code",
      "execution_count": 37,
      "metadata": {},
      "outputs": [],
      "source": [
        "df_train = df_train.drop(columns=['p_units'])\n",
        "df_test = df_test.drop(columns=['p_units'])"
      ]
    },
    {
      "cell_type": "code",
      "execution_count": 38,
      "metadata": {},
      "outputs": [],
      "source": [
        "### max_power"
      ]
    },
    {
      "cell_type": "code",
      "execution_count": 39,
      "metadata": {},
      "outputs": [
        {
          "data": {
            "text/html": [
              "<div>\n",
              "<style scoped>\n",
              "    .dataframe tbody tr th:only-of-type {\n",
              "        vertical-align: middle;\n",
              "    }\n",
              "\n",
              "    .dataframe tbody tr th {\n",
              "        vertical-align: top;\n",
              "    }\n",
              "\n",
              "    .dataframe thead th {\n",
              "        text-align: right;\n",
              "    }\n",
              "</style>\n",
              "<table border=\"1\" class=\"dataframe\">\n",
              "  <thead>\n",
              "    <tr style=\"text-align: right;\">\n",
              "      <th></th>\n",
              "      <th>torque</th>\n",
              "    </tr>\n",
              "  </thead>\n",
              "  <tbody>\n",
              "    <tr>\n",
              "      <th>0</th>\n",
              "      <td>190Nm@ 2000rpm</td>\n",
              "    </tr>\n",
              "    <tr>\n",
              "      <th>1</th>\n",
              "      <td>250Nm@ 1500-2500rpm</td>\n",
              "    </tr>\n",
              "    <tr>\n",
              "      <th>2</th>\n",
              "      <td>22.4 kgm at 1750-2750rpm</td>\n",
              "    </tr>\n",
              "    <tr>\n",
              "      <th>3</th>\n",
              "      <td>11.5@ 4,500(kgm@ rpm)</td>\n",
              "    </tr>\n",
              "    <tr>\n",
              "      <th>4</th>\n",
              "      <td>113.75nm@ 4000rpm</td>\n",
              "    </tr>\n",
              "    <tr>\n",
              "      <th>...</th>\n",
              "      <td>...</td>\n",
              "    </tr>\n",
              "    <tr>\n",
              "      <th>5835</th>\n",
              "      <td>96.1Nm@ 3000rpm</td>\n",
              "    </tr>\n",
              "    <tr>\n",
              "      <th>5836</th>\n",
              "      <td>90Nm@ 3500rpm</td>\n",
              "    </tr>\n",
              "    <tr>\n",
              "      <th>5837</th>\n",
              "      <td>113.7Nm@ 4000rpm</td>\n",
              "    </tr>\n",
              "    <tr>\n",
              "      <th>5838</th>\n",
              "      <td>24@ 1,900-2,750(kgm@ rpm)</td>\n",
              "    </tr>\n",
              "    <tr>\n",
              "      <th>5839</th>\n",
              "      <td>190Nm@ 2000rpm</td>\n",
              "    </tr>\n",
              "  </tbody>\n",
              "</table>\n",
              "<p>5840 rows × 1 columns</p>\n",
              "</div>"
            ],
            "text/plain": [
              "                         torque\n",
              "0                190Nm@ 2000rpm\n",
              "1           250Nm@ 1500-2500rpm\n",
              "2      22.4 kgm at 1750-2750rpm\n",
              "3         11.5@ 4,500(kgm@ rpm)\n",
              "4             113.75nm@ 4000rpm\n",
              "...                         ...\n",
              "5835            96.1Nm@ 3000rpm\n",
              "5836              90Nm@ 3500rpm\n",
              "5837           113.7Nm@ 4000rpm\n",
              "5838  24@ 1,900-2,750(kgm@ rpm)\n",
              "5839             190Nm@ 2000rpm\n",
              "\n",
              "[5840 rows x 1 columns]"
            ]
          },
          "execution_count": 39,
          "metadata": {},
          "output_type": "execute_result"
        }
      ],
      "source": [
        "df_train[['torque']]"
      ]
    },
    {
      "cell_type": "code",
      "execution_count": 40,
      "metadata": {},
      "outputs": [],
      "source": [
        "df_train[\"torque_vals\"] = df_train.apply(lambda x: [i for i in re.sub('[^0-9.]',' ', re.sub(',','', str(x['torque']))).split(' ') if i != ''],axis=1)\n",
        "df_test[\"torque_vals\"] = df_test.apply(lambda x: [i for i in re.sub('[^0-9.]',' ', re.sub(',','.', str(x['torque']))).split(' ') if i != ''],axis=1)"
      ]
    },
    {
      "cell_type": "code",
      "execution_count": 41,
      "metadata": {},
      "outputs": [],
      "source": [
        "df_train[\"torque1\"] = df_train.apply(lambda x: float(x[\"torque_vals\"][0]) if len(x[\"torque_vals\"])>0 else np.nan, axis=1)\n",
        "df_test[\"torque1\"] = df_test.apply(lambda x: float(x[\"torque_vals\"][0]) if len(x[\"torque_vals\"])>0 else np.nan, axis=1)\n",
        "\n",
        "df_train[\"torque2\"] = df_train.apply(lambda x: mean([float(i) for i in x[\"torque_vals\"][1:]]) if len(x[\"torque_vals\"][1:])>0 else np.nan, axis=1)\n",
        "df_test[\"torque2\"] = df_test.apply(lambda x: mean([float(i) for i in x[\"torque_vals\"][1:]]) if len(x[\"torque_vals\"][1:])>0 else np.nan, axis=1)"
      ]
    },
    {
      "cell_type": "code",
      "execution_count": 42,
      "metadata": {},
      "outputs": [],
      "source": [
        "def nm_torque(x):\n",
        "    if 'nm' in x:\n",
        "        return 'nm'\n",
        "    elif 'nn' in x:\n",
        "        return 'nn'\n",
        "    elif 'kgm' in x:\n",
        "        return 'kgm'\n",
        "    else:\n",
        "        return np.nan\n",
        "\n",
        "\n",
        "def rpm_torque(x):\n",
        "    if 'rpm' in x:\n",
        "        return 'rpm'\n",
        "    else:\n",
        "        return np.nan"
      ]
    },
    {
      "cell_type": "code",
      "execution_count": 43,
      "metadata": {},
      "outputs": [],
      "source": [
        "df_train['t_units'] = df_train.apply(lambda x: nm_torque((re.sub('[^nrpmkg ]','',str(x['torque']).lower())).split()), axis=1)\n",
        "df_test['t_units'] = df_test.apply(lambda x: nm_torque((re.sub('[^nrpmkg ]','',str(x['torque']).lower())).split()), axis=1)"
      ]
    },
    {
      "cell_type": "code",
      "execution_count": 44,
      "metadata": {},
      "outputs": [
        {
          "data": {
            "text/plain": [
              "nm     5231\n",
              "kgm     412\n",
              "nn      187\n",
              "Name: t_units, dtype: int64"
            ]
          },
          "execution_count": 44,
          "metadata": {},
          "output_type": "execute_result"
        }
      ],
      "source": [
        "df_train['t_units'].value_counts()"
      ]
    },
    {
      "cell_type": "code",
      "execution_count": 45,
      "metadata": {},
      "outputs": [
        {
          "data": {
            "text/plain": [
              "nm     919\n",
              "kgm     61\n",
              "nn      19\n",
              "Name: t_units, dtype: int64"
            ]
          },
          "execution_count": 45,
          "metadata": {},
          "output_type": "execute_result"
        }
      ],
      "source": [
        "df_test['t_units'].value_counts()"
      ]
    },
    {
      "cell_type": "code",
      "execution_count": 46,
      "metadata": {},
      "outputs": [],
      "source": [
        "df_train = df_train.drop(columns=['torque','torque_vals'])\n",
        "df_test = df_test.drop(columns=['torque','torque_vals'])"
      ]
    },
    {
      "cell_type": "code",
      "execution_count": 47,
      "metadata": {},
      "outputs": [
        {
          "data": {
            "text/html": [
              "<div>\n",
              "<style scoped>\n",
              "    .dataframe tbody tr th:only-of-type {\n",
              "        vertical-align: middle;\n",
              "    }\n",
              "\n",
              "    .dataframe tbody tr th {\n",
              "        vertical-align: top;\n",
              "    }\n",
              "\n",
              "    .dataframe thead th {\n",
              "        text-align: right;\n",
              "    }\n",
              "</style>\n",
              "<table border=\"1\" class=\"dataframe\">\n",
              "  <thead>\n",
              "    <tr style=\"text-align: right;\">\n",
              "      <th></th>\n",
              "      <th>name</th>\n",
              "      <th>year</th>\n",
              "      <th>selling_price</th>\n",
              "      <th>km_driven</th>\n",
              "      <th>fuel</th>\n",
              "      <th>seller_type</th>\n",
              "      <th>transmission</th>\n",
              "      <th>owner</th>\n",
              "      <th>mileage</th>\n",
              "      <th>engine</th>\n",
              "      <th>max_power</th>\n",
              "      <th>seats</th>\n",
              "      <th>m_units</th>\n",
              "      <th>torque1</th>\n",
              "      <th>torque2</th>\n",
              "      <th>t_units</th>\n",
              "    </tr>\n",
              "  </thead>\n",
              "  <tbody>\n",
              "    <tr>\n",
              "      <th>0</th>\n",
              "      <td>Maruti Swift Dzire VDI</td>\n",
              "      <td>2014</td>\n",
              "      <td>450000</td>\n",
              "      <td>145500</td>\n",
              "      <td>Diesel</td>\n",
              "      <td>Individual</td>\n",
              "      <td>Manual</td>\n",
              "      <td>First Owner</td>\n",
              "      <td>23.40</td>\n",
              "      <td>1248.0</td>\n",
              "      <td>74.00</td>\n",
              "      <td>5.0</td>\n",
              "      <td>kmpl</td>\n",
              "      <td>190.00</td>\n",
              "      <td>2000.0</td>\n",
              "      <td>nm</td>\n",
              "    </tr>\n",
              "    <tr>\n",
              "      <th>1</th>\n",
              "      <td>Skoda Rapid 1.5 TDI Ambition</td>\n",
              "      <td>2014</td>\n",
              "      <td>370000</td>\n",
              "      <td>120000</td>\n",
              "      <td>Diesel</td>\n",
              "      <td>Individual</td>\n",
              "      <td>Manual</td>\n",
              "      <td>Second Owner</td>\n",
              "      <td>21.14</td>\n",
              "      <td>1498.0</td>\n",
              "      <td>103.52</td>\n",
              "      <td>5.0</td>\n",
              "      <td>kmpl</td>\n",
              "      <td>250.00</td>\n",
              "      <td>2000.0</td>\n",
              "      <td>nm</td>\n",
              "    </tr>\n",
              "    <tr>\n",
              "      <th>2</th>\n",
              "      <td>Hyundai i20 Sportz Diesel</td>\n",
              "      <td>2010</td>\n",
              "      <td>225000</td>\n",
              "      <td>127000</td>\n",
              "      <td>Diesel</td>\n",
              "      <td>Individual</td>\n",
              "      <td>Manual</td>\n",
              "      <td>First Owner</td>\n",
              "      <td>23.00</td>\n",
              "      <td>1396.0</td>\n",
              "      <td>90.00</td>\n",
              "      <td>5.0</td>\n",
              "      <td>kmpl</td>\n",
              "      <td>22.40</td>\n",
              "      <td>2250.0</td>\n",
              "      <td>kgm</td>\n",
              "    </tr>\n",
              "    <tr>\n",
              "      <th>3</th>\n",
              "      <td>Maruti Swift VXI BSIII</td>\n",
              "      <td>2007</td>\n",
              "      <td>130000</td>\n",
              "      <td>120000</td>\n",
              "      <td>Petrol</td>\n",
              "      <td>Individual</td>\n",
              "      <td>Manual</td>\n",
              "      <td>First Owner</td>\n",
              "      <td>16.10</td>\n",
              "      <td>1298.0</td>\n",
              "      <td>88.20</td>\n",
              "      <td>5.0</td>\n",
              "      <td>kmpl</td>\n",
              "      <td>11.50</td>\n",
              "      <td>4500.0</td>\n",
              "      <td>kgm</td>\n",
              "    </tr>\n",
              "    <tr>\n",
              "      <th>4</th>\n",
              "      <td>Hyundai Xcent 1.2 VTVT E Plus</td>\n",
              "      <td>2017</td>\n",
              "      <td>440000</td>\n",
              "      <td>45000</td>\n",
              "      <td>Petrol</td>\n",
              "      <td>Individual</td>\n",
              "      <td>Manual</td>\n",
              "      <td>First Owner</td>\n",
              "      <td>20.14</td>\n",
              "      <td>1197.0</td>\n",
              "      <td>81.86</td>\n",
              "      <td>5.0</td>\n",
              "      <td>kmpl</td>\n",
              "      <td>113.75</td>\n",
              "      <td>4000.0</td>\n",
              "      <td>nm</td>\n",
              "    </tr>\n",
              "    <tr>\n",
              "      <th>...</th>\n",
              "      <td>...</td>\n",
              "      <td>...</td>\n",
              "      <td>...</td>\n",
              "      <td>...</td>\n",
              "      <td>...</td>\n",
              "      <td>...</td>\n",
              "      <td>...</td>\n",
              "      <td>...</td>\n",
              "      <td>...</td>\n",
              "      <td>...</td>\n",
              "      <td>...</td>\n",
              "      <td>...</td>\n",
              "      <td>...</td>\n",
              "      <td>...</td>\n",
              "      <td>...</td>\n",
              "      <td>...</td>\n",
              "    </tr>\n",
              "    <tr>\n",
              "      <th>5835</th>\n",
              "      <td>Hyundai Santro Xing GLS</td>\n",
              "      <td>2008</td>\n",
              "      <td>120000</td>\n",
              "      <td>191000</td>\n",
              "      <td>Petrol</td>\n",
              "      <td>Individual</td>\n",
              "      <td>Manual</td>\n",
              "      <td>First Owner</td>\n",
              "      <td>17.92</td>\n",
              "      <td>1086.0</td>\n",
              "      <td>62.10</td>\n",
              "      <td>5.0</td>\n",
              "      <td>kmpl</td>\n",
              "      <td>96.10</td>\n",
              "      <td>3000.0</td>\n",
              "      <td>nm</td>\n",
              "    </tr>\n",
              "    <tr>\n",
              "      <th>5836</th>\n",
              "      <td>Maruti Wagon R VXI BS IV with ABS</td>\n",
              "      <td>2013</td>\n",
              "      <td>260000</td>\n",
              "      <td>50000</td>\n",
              "      <td>Petrol</td>\n",
              "      <td>Individual</td>\n",
              "      <td>Manual</td>\n",
              "      <td>Second Owner</td>\n",
              "      <td>18.90</td>\n",
              "      <td>998.0</td>\n",
              "      <td>67.10</td>\n",
              "      <td>5.0</td>\n",
              "      <td>kmpl</td>\n",
              "      <td>90.00</td>\n",
              "      <td>3500.0</td>\n",
              "      <td>nm</td>\n",
              "    </tr>\n",
              "    <tr>\n",
              "      <th>5837</th>\n",
              "      <td>Hyundai i20 Magna</td>\n",
              "      <td>2013</td>\n",
              "      <td>320000</td>\n",
              "      <td>110000</td>\n",
              "      <td>Petrol</td>\n",
              "      <td>Individual</td>\n",
              "      <td>Manual</td>\n",
              "      <td>First Owner</td>\n",
              "      <td>18.50</td>\n",
              "      <td>1197.0</td>\n",
              "      <td>82.85</td>\n",
              "      <td>5.0</td>\n",
              "      <td>kmpl</td>\n",
              "      <td>113.70</td>\n",
              "      <td>4000.0</td>\n",
              "      <td>nm</td>\n",
              "    </tr>\n",
              "    <tr>\n",
              "      <th>5838</th>\n",
              "      <td>Hyundai Verna CRDi SX</td>\n",
              "      <td>2007</td>\n",
              "      <td>135000</td>\n",
              "      <td>119000</td>\n",
              "      <td>Diesel</td>\n",
              "      <td>Individual</td>\n",
              "      <td>Manual</td>\n",
              "      <td>Fourth &amp; Above Owner</td>\n",
              "      <td>16.80</td>\n",
              "      <td>1493.0</td>\n",
              "      <td>110.00</td>\n",
              "      <td>5.0</td>\n",
              "      <td>kmpl</td>\n",
              "      <td>24.00</td>\n",
              "      <td>2325.0</td>\n",
              "      <td>kgm</td>\n",
              "    </tr>\n",
              "    <tr>\n",
              "      <th>5839</th>\n",
              "      <td>Maruti Swift Dzire ZDi</td>\n",
              "      <td>2009</td>\n",
              "      <td>382000</td>\n",
              "      <td>120000</td>\n",
              "      <td>Diesel</td>\n",
              "      <td>Individual</td>\n",
              "      <td>Manual</td>\n",
              "      <td>First Owner</td>\n",
              "      <td>19.30</td>\n",
              "      <td>1248.0</td>\n",
              "      <td>73.90</td>\n",
              "      <td>5.0</td>\n",
              "      <td>kmpl</td>\n",
              "      <td>190.00</td>\n",
              "      <td>2000.0</td>\n",
              "      <td>nm</td>\n",
              "    </tr>\n",
              "  </tbody>\n",
              "</table>\n",
              "<p>5840 rows × 16 columns</p>\n",
              "</div>"
            ],
            "text/plain": [
              "                                   name  year  selling_price  km_driven  \\\n",
              "0                Maruti Swift Dzire VDI  2014         450000     145500   \n",
              "1          Skoda Rapid 1.5 TDI Ambition  2014         370000     120000   \n",
              "2             Hyundai i20 Sportz Diesel  2010         225000     127000   \n",
              "3                Maruti Swift VXI BSIII  2007         130000     120000   \n",
              "4         Hyundai Xcent 1.2 VTVT E Plus  2017         440000      45000   \n",
              "...                                 ...   ...            ...        ...   \n",
              "5835            Hyundai Santro Xing GLS  2008         120000     191000   \n",
              "5836  Maruti Wagon R VXI BS IV with ABS  2013         260000      50000   \n",
              "5837                  Hyundai i20 Magna  2013         320000     110000   \n",
              "5838              Hyundai Verna CRDi SX  2007         135000     119000   \n",
              "5839             Maruti Swift Dzire ZDi  2009         382000     120000   \n",
              "\n",
              "        fuel seller_type transmission                 owner  mileage  engine  \\\n",
              "0     Diesel  Individual       Manual           First Owner    23.40  1248.0   \n",
              "1     Diesel  Individual       Manual          Second Owner    21.14  1498.0   \n",
              "2     Diesel  Individual       Manual           First Owner    23.00  1396.0   \n",
              "3     Petrol  Individual       Manual           First Owner    16.10  1298.0   \n",
              "4     Petrol  Individual       Manual           First Owner    20.14  1197.0   \n",
              "...      ...         ...          ...                   ...      ...     ...   \n",
              "5835  Petrol  Individual       Manual           First Owner    17.92  1086.0   \n",
              "5836  Petrol  Individual       Manual          Second Owner    18.90   998.0   \n",
              "5837  Petrol  Individual       Manual           First Owner    18.50  1197.0   \n",
              "5838  Diesel  Individual       Manual  Fourth & Above Owner    16.80  1493.0   \n",
              "5839  Diesel  Individual       Manual           First Owner    19.30  1248.0   \n",
              "\n",
              "      max_power  seats m_units  torque1  torque2 t_units  \n",
              "0         74.00    5.0    kmpl   190.00   2000.0      nm  \n",
              "1        103.52    5.0    kmpl   250.00   2000.0      nm  \n",
              "2         90.00    5.0    kmpl    22.40   2250.0     kgm  \n",
              "3         88.20    5.0    kmpl    11.50   4500.0     kgm  \n",
              "4         81.86    5.0    kmpl   113.75   4000.0      nm  \n",
              "...         ...    ...     ...      ...      ...     ...  \n",
              "5835      62.10    5.0    kmpl    96.10   3000.0      nm  \n",
              "5836      67.10    5.0    kmpl    90.00   3500.0      nm  \n",
              "5837      82.85    5.0    kmpl   113.70   4000.0      nm  \n",
              "5838     110.00    5.0    kmpl    24.00   2325.0     kgm  \n",
              "5839      73.90    5.0    kmpl   190.00   2000.0      nm  \n",
              "\n",
              "[5840 rows x 16 columns]"
            ]
          },
          "execution_count": 47,
          "metadata": {},
          "output_type": "execute_result"
        }
      ],
      "source": [
        "df_train"
      ]
    },
    {
      "cell_type": "markdown",
      "metadata": {
        "id": "nyEtp7jsRNms"
      },
      "source": [
        "(0.15 балла) <font color='#9933CC'>Заполните пропуски в столбцах медианами. Убедитесь, что после заполнения пропусков не осталось</font>\n",
        "\n",
        "> Обратите внимание, что, по уму, нужно посчитать медиану по трейну и этим средним заполнять пропуски в тесте. Так же делаем, если, например, стандартизируем признаки.\n",
        "\n"
      ]
    },
    {
      "cell_type": "code",
      "execution_count": 48,
      "metadata": {
        "id": "M9H15wvXRYQF"
      },
      "outputs": [
        {
          "name": "stderr",
          "output_type": "stream",
          "text": [
            "/tmp/ipykernel_87908/2461019953.py:1: FutureWarning: The default value of numeric_only in DataFrame.median is deprecated. In a future version, it will default to False. In addition, specifying 'numeric_only=None' is deprecated. Select only valid columns or specify the value of numeric_only to silence this warning.\n",
            "  train_median = df_train.median()\n"
          ]
        }
      ],
      "source": [
        "train_median = df_train.median()"
      ]
    },
    {
      "cell_type": "code",
      "execution_count": 49,
      "metadata": {},
      "outputs": [],
      "source": [
        "train_median = pd.Series(data={'year': 2014.0,\n",
        " 'selling_price': 405000.0,\n",
        " 'km_driven': 70000.0,\n",
        " 'mileage': 19.369999999999997,\n",
        " 'engine': 1248.0,\n",
        " 'max_power': 81.86,\n",
        " 'seats': 5.0,\n",
        " 'torque1': 150.0,\n",
        " 'torque2': 2400.0})"
      ]
    },
    {
      "cell_type": "code",
      "execution_count": 50,
      "metadata": {},
      "outputs": [
        {
          "data": {
            "text/html": [
              "<div>\n",
              "<style scoped>\n",
              "    .dataframe tbody tr th:only-of-type {\n",
              "        vertical-align: middle;\n",
              "    }\n",
              "\n",
              "    .dataframe tbody tr th {\n",
              "        vertical-align: top;\n",
              "    }\n",
              "\n",
              "    .dataframe thead th {\n",
              "        text-align: right;\n",
              "    }\n",
              "</style>\n",
              "<table border=\"1\" class=\"dataframe\">\n",
              "  <thead>\n",
              "    <tr style=\"text-align: right;\">\n",
              "      <th></th>\n",
              "      <th>name</th>\n",
              "      <th>year</th>\n",
              "      <th>selling_price</th>\n",
              "      <th>km_driven</th>\n",
              "      <th>fuel</th>\n",
              "      <th>seller_type</th>\n",
              "      <th>transmission</th>\n",
              "      <th>owner</th>\n",
              "      <th>mileage</th>\n",
              "      <th>engine</th>\n",
              "      <th>max_power</th>\n",
              "      <th>seats</th>\n",
              "      <th>m_units</th>\n",
              "      <th>torque1</th>\n",
              "      <th>torque2</th>\n",
              "      <th>t_units</th>\n",
              "    </tr>\n",
              "  </thead>\n",
              "  <tbody>\n",
              "    <tr>\n",
              "      <th>0</th>\n",
              "      <td>Maruti Swift Dzire VDI</td>\n",
              "      <td>2014</td>\n",
              "      <td>450000</td>\n",
              "      <td>145500</td>\n",
              "      <td>Diesel</td>\n",
              "      <td>Individual</td>\n",
              "      <td>Manual</td>\n",
              "      <td>First Owner</td>\n",
              "      <td>23.4</td>\n",
              "      <td>1248.0</td>\n",
              "      <td>74.0</td>\n",
              "      <td>5.0</td>\n",
              "      <td>kmpl</td>\n",
              "      <td>190.0</td>\n",
              "      <td>2000.0</td>\n",
              "      <td>nm</td>\n",
              "    </tr>\n",
              "  </tbody>\n",
              "</table>\n",
              "</div>"
            ],
            "text/plain": [
              "                     name  year  selling_price  km_driven    fuel seller_type  \\\n",
              "0  Maruti Swift Dzire VDI  2014         450000     145500  Diesel  Individual   \n",
              "\n",
              "  transmission        owner  mileage  engine  max_power  seats m_units  \\\n",
              "0       Manual  First Owner     23.4  1248.0       74.0    5.0    kmpl   \n",
              "\n",
              "   torque1  torque2 t_units  \n",
              "0    190.0   2000.0      nm  "
            ]
          },
          "execution_count": 50,
          "metadata": {},
          "output_type": "execute_result"
        }
      ],
      "source": [
        "df_train.head(1)"
      ]
    },
    {
      "cell_type": "code",
      "execution_count": 51,
      "metadata": {},
      "outputs": [],
      "source": [
        "df_train = df_train.fillna(train_median)\n",
        "df_test = df_test.fillna(train_median)"
      ]
    },
    {
      "cell_type": "code",
      "execution_count": 52,
      "metadata": {},
      "outputs": [],
      "source": [
        "df_train = df_train.fillna(train_median)\n"
      ]
    },
    {
      "cell_type": "markdown",
      "metadata": {
        "id": "RuKxfXCaXeHr"
      },
      "source": [
        "\n",
        "(0.1 балла) Теперь, когда не осталось пропусков, можно <font color='#9933CC'>преобразовать столбцы к более подходящим типам (``engnine`` и ``seats`` к int)\n",
        "</font>\n",
        "\n",
        "Ниже ответьте, <font color='#FF6600'>почему (хоть мы этого и не делаем) ``seats``, возможно, лучше сделать переменной категориальной, а не целочисленной.</font>"
      ]
    },
    {
      "cell_type": "code",
      "execution_count": 53,
      "metadata": {
        "colab": {
          "base_uri": "https://localhost:8080/"
        },
        "id": "gVi9BPC-YLMi",
        "outputId": "aa889364-c725-4fd2-8551-4b5d2086ad4b"
      },
      "outputs": [
        {
          "name": "stdout",
          "output_type": "stream",
          "text": [
            "касательно seats никто не сказал что иметь 2 сидения в 2 раза дороже/дешевле чем 4 сиденья и тд поэтому тут лучше использовать категорию. Однозначного ответа нет, надо пробовать оба варианта\n"
          ]
        }
      ],
      "source": [
        "print(\"касательно seats никто не сказал что иметь 2 сидения в 2 раза дороже/дешевле чем 4 сиденья и тд поэтому тут лучше использовать категорию. Однозначного ответа нет, надо пробовать оба варианта\")"
      ]
    },
    {
      "cell_type": "code",
      "execution_count": 54,
      "metadata": {},
      "outputs": [
        {
          "data": {
            "text/plain": [
              "5.0     4618\n",
              "7.0      800\n",
              "8.0      191\n",
              "4.0       94\n",
              "9.0       68\n",
              "6.0       48\n",
              "10.0      18\n",
              "2.0        2\n",
              "14.0       1\n",
              "Name: seats, dtype: int64"
            ]
          },
          "execution_count": 54,
          "metadata": {},
          "output_type": "execute_result"
        }
      ],
      "source": [
        "df_train['seats'].value_counts()"
      ]
    },
    {
      "cell_type": "code",
      "execution_count": 55,
      "metadata": {},
      "outputs": [
        {
          "data": {
            "text/plain": [
              "5.0    777\n",
              "7.0    161\n",
              "4.0     24\n",
              "8.0     23\n",
              "6.0      8\n",
              "9.0      7\n",
              "Name: seats, dtype: int64"
            ]
          },
          "execution_count": 55,
          "metadata": {},
          "output_type": "execute_result"
        }
      ],
      "source": [
        "df_test['seats'].value_counts()"
      ]
    },
    {
      "cell_type": "markdown",
      "metadata": {
        "id": "OmV784QWZOpO"
      },
      "source": [
        "## Визуализации (1 балл + 0.5)"
      ]
    },
    {
      "cell_type": "markdown",
      "metadata": {
        "id": "6p2L60ngZueT"
      },
      "source": [
        "Визуализировать нам надо не так уж и много. Во-первых, хотелось бы, в принципе, увидеть как распределены значения признаков. Также хотелось бы понять, насколько признаки скоррелированы между собой и с целевой переменной. А ещё неплохо бы посмотреть, не оказалось ли так, что тестовые данные распределены иначе, чем трейн.\n",
        "\n",
        "Этим всем и предлагаем вам заняться."
      ]
    },
    {
      "cell_type": "markdown",
      "metadata": {
        "id": "IJpEKkFfaQoC"
      },
      "source": [
        "(0.25 балла) <font color='#9933CC'>Посторойте попарные распределения всех числовых признаков для трейна.</font>\n",
        "\n",
        "> ``sns.paiplot()`` позволяет сделать это в одну строчку"
      ]
    },
    {
      "cell_type": "code",
      "execution_count": 56,
      "metadata": {},
      "outputs": [],
      "source": [
        "df_train_c = df_train.copy()\n",
        "df_test_c = df_test.copy()\n",
        "\n",
        "df_train_c['train_test'] = 1\n",
        "df_test_c['train_test'] = 0\n",
        "\n",
        "df = pd.concat([df_train_c, df_test_c])"
      ]
    },
    {
      "cell_type": "code",
      "execution_count": 57,
      "metadata": {},
      "outputs": [
        {
          "data": {
            "image/png": "[encoded data removed]",
            "text/plain": [
              "<Figure size 1495.5x180 with 8 Axes>"
            ]
          },
          "metadata": {
            "needs_background": "light"
          },
          "output_type": "display_data"
        }
      ],
      "source": [
        "pp = sns.pairplot(\n",
        "    data=df,\n",
        "    hue='train_test',\n",
        "    y_vars=['selling_price'],\n",
        "    x_vars=df_train.drop(columns=['selling_price']).select_dtypes(exclude='O').columns.to_list())    \n"
      ]
    },
    {
      "cell_type": "markdown",
      "metadata": {
        "id": "Vf4NE1-WboFG"
      },
      "source": [
        "Этот график не такой информативный, как можно было бы построить, беря признаки по отдельности. Но он позволяет сделать некоторые (возможно, далеко идущие) выводы. Впрочем, со многими из них (если не со всеми) вы бы справились умозрительно. Однако всегда приятно делать выводы, основываясь на данных.\n",
        "\n",
        "\n",
        "\n",
        "* <font color='#FF6600'> Что можно сказать о связи предикторов с целевой переменной?\n",
        "* А о корреляциях признаков? </font>"
      ]
    },
    {
      "cell_type": "markdown",
      "metadata": {},
      "source": [
        "Кажется, что связь таргета с year, km_driven, mileage, engine признакми не линейная. Max_power обладает более линейной кореляцией с таргетом "
      ]
    },
    {
      "cell_type": "markdown",
      "metadata": {
        "id": "m0Y8VOCceH_3"
      },
      "source": [
        "(0.25 балла) <font color='#9933CC'>Постройте pairplot по тестовым данным</font> и ответьте на вопрос <font color='#FF6600'>\"Похожими ли оказались совокупности при разделении на трейн и тест?\"</font>"
      ]
    },
    {
      "cell_type": "markdown",
      "metadata": {
        "id": "NK9l6SrAeHK1"
      },
      "source": [
        "Похоже"
      ]
    },
    {
      "cell_type": "markdown",
      "metadata": {
        "id": "Gnn7pDcrfEvN"
      },
      "source": [
        "(0.25 балла) <font color='#9933CC'>Для трейна давайте построим тепловую карту (heatmap из библиотеки seaborn) попарных корреляций числовых колонок</font>"
      ]
    },
    {
      "cell_type": "code",
      "execution_count": 58,
      "metadata": {},
      "outputs": [
        {
          "data": {
            "text/html": [
              "<div>\n",
              "<style scoped>\n",
              "    .dataframe tbody tr th:only-of-type {\n",
              "        vertical-align: middle;\n",
              "    }\n",
              "\n",
              "    .dataframe tbody tr th {\n",
              "        vertical-align: top;\n",
              "    }\n",
              "\n",
              "    .dataframe thead th {\n",
              "        text-align: right;\n",
              "    }\n",
              "</style>\n",
              "<table border=\"1\" class=\"dataframe\">\n",
              "  <thead>\n",
              "    <tr style=\"text-align: right;\">\n",
              "      <th></th>\n",
              "      <th>level_0</th>\n",
              "      <th>level_1</th>\n",
              "      <th>0</th>\n",
              "    </tr>\n",
              "  </thead>\n",
              "  <tbody>\n",
              "    <tr>\n",
              "      <th>3</th>\n",
              "      <td>year</td>\n",
              "      <td>engine</td>\n",
              "      <td>0.002819</td>\n",
              "    </tr>\n",
              "    <tr>\n",
              "      <th>12</th>\n",
              "      <td>km_driven</td>\n",
              "      <td>max_power</td>\n",
              "      <td>0.024588</td>\n",
              "    </tr>\n",
              "  </tbody>\n",
              "</table>\n",
              "</div>"
            ],
            "text/plain": [
              "      level_0    level_1         0\n",
              "3        year     engine  0.002819\n",
              "12  km_driven  max_power  0.024588"
            ]
          },
          "execution_count": 58,
          "metadata": {},
          "output_type": "execute_result"
        }
      ],
      "source": [
        "df_train[df_train.select_dtypes(exclude='O').drop(columns=['selling_price']).columns.to_list()].corr().abs().unstack().reset_index(drop=False).drop_duplicates(subset=[0],keep='first').sort_values(by=[0])[:-1].head(2)"
      ]
    },
    {
      "cell_type": "code",
      "execution_count": 59,
      "metadata": {
        "id": "E99LVAN2fMVH"
      },
      "outputs": [
        {
          "data": {
            "text/plain": [
              "<AxesSubplot: >"
            ]
          },
          "execution_count": 59,
          "metadata": {},
          "output_type": "execute_result"
        },
        {
          "data": {
            "image/png": "[encoded data removed]",
            "text/plain": [
              "<Figure size 432x288 with 2 Axes>"
            ]
          },
          "metadata": {
            "needs_background": "light"
          },
          "output_type": "display_data"
        }
      ],
      "source": [
        "sns.heatmap(df_train[df_train.select_dtypes(exclude='O').drop(columns=['selling_price']).columns.to_list()].corr(), annot=True)"
      ]
    },
    {
      "cell_type": "markdown",
      "metadata": {
        "id": "w24a_oXqf12H"
      },
      "source": [
        "Ответьте, пожалуйста, на вопросы: \n",
        "* <font color='#FF6600'>Какие 2 признака наименее скоррелированы между собой?</font>\n",
        "* <font color='#FF6600'>Между какими наблюдается довольно сильная положительная линейная зависимость?</font>\n",
        "* <font color='#FF6600'>Правильно ли, опираясь на данные, утверждать, что чем меньше год, тем, скорее всего, больше километров проехала машина к дате продажи.</font>"
      ]
    },
    {
      "cell_type": "markdown",
      "metadata": {},
      "source": [
        "Какие 2 признака наименее скоррелированы между собой?"
      ]
    },
    {
      "cell_type": "code",
      "execution_count": 60,
      "metadata": {},
      "outputs": [
        {
          "data": {
            "text/html": [
              "<div>\n",
              "<style scoped>\n",
              "    .dataframe tbody tr th:only-of-type {\n",
              "        vertical-align: middle;\n",
              "    }\n",
              "\n",
              "    .dataframe tbody tr th {\n",
              "        vertical-align: top;\n",
              "    }\n",
              "\n",
              "    .dataframe thead th {\n",
              "        text-align: right;\n",
              "    }\n",
              "</style>\n",
              "<table border=\"1\" class=\"dataframe\">\n",
              "  <thead>\n",
              "    <tr style=\"text-align: right;\">\n",
              "      <th></th>\n",
              "      <th>level_0</th>\n",
              "      <th>level_1</th>\n",
              "      <th>0</th>\n",
              "    </tr>\n",
              "  </thead>\n",
              "  <tbody>\n",
              "    <tr>\n",
              "      <th>3</th>\n",
              "      <td>year</td>\n",
              "      <td>engine</td>\n",
              "      <td>0.002819</td>\n",
              "    </tr>\n",
              "  </tbody>\n",
              "</table>\n",
              "</div>"
            ],
            "text/plain": [
              "  level_0 level_1         0\n",
              "3    year  engine  0.002819"
            ]
          },
          "execution_count": 60,
          "metadata": {},
          "output_type": "execute_result"
        }
      ],
      "source": [
        "df_train[df_train.select_dtypes(exclude='O').drop(columns=['selling_price']).columns.to_list()].corr().abs().unstack().reset_index(drop=False).drop_duplicates(subset=[0],keep='first').sort_values(by=[0])[:-1].head(1)"
      ]
    },
    {
      "cell_type": "markdown",
      "metadata": {},
      "source": [
        "Между какими наблюдается довольно сильная положительная линейная зависимость?"
      ]
    },
    {
      "cell_type": "code",
      "execution_count": 61,
      "metadata": {},
      "outputs": [
        {
          "data": {
            "text/html": [
              "<div>\n",
              "<style scoped>\n",
              "    .dataframe tbody tr th:only-of-type {\n",
              "        vertical-align: middle;\n",
              "    }\n",
              "\n",
              "    .dataframe tbody tr th {\n",
              "        vertical-align: top;\n",
              "    }\n",
              "\n",
              "    .dataframe thead th {\n",
              "        text-align: right;\n",
              "    }\n",
              "</style>\n",
              "<table border=\"1\" class=\"dataframe\">\n",
              "  <thead>\n",
              "    <tr style=\"text-align: right;\">\n",
              "      <th></th>\n",
              "      <th>level_0</th>\n",
              "      <th>level_1</th>\n",
              "      <th>0</th>\n",
              "    </tr>\n",
              "  </thead>\n",
              "  <tbody>\n",
              "    <tr>\n",
              "      <th>38</th>\n",
              "      <td>max_power</td>\n",
              "      <td>torque1</td>\n",
              "      <td>0.744652</td>\n",
              "    </tr>\n",
              "  </tbody>\n",
              "</table>\n",
              "</div>"
            ],
            "text/plain": [
              "      level_0  level_1         0\n",
              "38  max_power  torque1  0.744652"
            ]
          },
          "execution_count": 61,
          "metadata": {},
          "output_type": "execute_result"
        }
      ],
      "source": [
        "df_train[df_train.select_dtypes(exclude='O').drop(columns=['selling_price']).columns.to_list()].corr().abs().unstack().reset_index(drop=False).drop_duplicates(subset=[0],keep='first').sort_values(by=[0])[:-1].tail(1)"
      ]
    },
    {
      "cell_type": "markdown",
      "metadata": {
        "id": "DZXV-FI9lO5V"
      },
      "source": [
        "(0.25 балла) <font color='#9933CC'> Отобразите диаграммe рассеяния для наиболее скореллированной пары **признаков** (на трейне) </font>"
      ]
    },
    {
      "cell_type": "code",
      "execution_count": 62,
      "metadata": {
        "id": "6RtM_zkDlON9"
      },
      "outputs": [
        {
          "name": "stderr",
          "output_type": "stream",
          "text": [
            "/home/computer/miniconda3/envs/hse_ml/lib/python3.10/site-packages/seaborn/axisgrid.py:2095: UserWarning: The `size` parameter has been renamed to `height`; please update your code.\n",
            "  warnings.warn(msg, UserWarning)\n"
          ]
        },
        {
          "data": {
            "text/plain": [
              "<seaborn.axisgrid.PairGrid at 0x7f07b59f98a0>"
            ]
          },
          "execution_count": 62,
          "metadata": {},
          "output_type": "execute_result"
        },
        {
          "data": {
            "image/png": "[encoded data removed]",
            "text/plain": [
              "<Figure size 360x360 with 1 Axes>"
            ]
          },
          "metadata": {
            "needs_background": "light"
          },
          "output_type": "display_data"
        }
      ],
      "source": [
        "sns.pairplot(data=df_train,\n",
        "                x_vars=['max_power'],\n",
        "                y_vars=['torque1'],size=5)"
      ]
    },
    {
      "cell_type": "markdown",
      "metadata": {
        "id": "ru1In410pieq"
      },
      "source": [
        "### Дополнительные визуализации (бонус 0.5 балла)\n",
        "\n",
        "Если вам кажется, что мы не попросили вас нарисовать какие-то очень важные зависимости, нарисуйте их и поясните."
      ]
    },
    {
      "cell_type": "code",
      "execution_count": 63,
      "metadata": {
        "id": "HwlwJhDIp_2L"
      },
      "outputs": [],
      "source": [
        "# your code here"
      ]
    },
    {
      "cell_type": "markdown",
      "metadata": {
        "id": "uS2CQ1LzrP_U"
      },
      "source": [
        "# Часть 2 (1.25 балла) | Модель только на вещественных признаках"
      ]
    },
    {
      "cell_type": "markdown",
      "metadata": {
        "id": "EPDwkjMPg3Lg"
      },
      "source": [
        "(0.05 балла) <font color='#9933CC'>В переменные ``y_train`` и ``y_test`` запишите значения целевых переменных. Столбцы ``selling_price`` из датафреймов необходимо удалить. Категориальные (все, кроме ``seats``) столбцы тоже.</font>"
      ]
    },
    {
      "cell_type": "code",
      "execution_count": 64,
      "metadata": {
        "id": "cGxjJSSUg2na"
      },
      "outputs": [],
      "source": [
        "y_train = df_train['selling_price']\n",
        "X_train = df_train.drop(columns=['selling_price']).select_dtypes(exclude='O')"
      ]
    },
    {
      "cell_type": "code",
      "execution_count": 65,
      "metadata": {
        "id": "fyMyARKem5wl"
      },
      "outputs": [],
      "source": [
        "assert X_train.shape == (5840, 8)"
      ]
    },
    {
      "cell_type": "code",
      "execution_count": 66,
      "metadata": {
        "id": "xKRmqiJ5rbSx"
      },
      "outputs": [],
      "source": [
        "y_test = df_test['selling_price']\n",
        "X_test = df_test.drop(columns=['selling_price']).select_dtypes(exclude='O')"
      ]
    },
    {
      "cell_type": "code",
      "execution_count": 67,
      "metadata": {
        "id": "-JepTZ36y-h-"
      },
      "outputs": [],
      "source": [
        "assert X_test.shape == (1000, 8)"
      ]
    },
    {
      "cell_type": "markdown",
      "metadata": {
        "id": "_kvtF4gXhwoI"
      },
      "source": [
        "(0.2 балла) <font color='#9933CC'>Обучите классическую линейную регрессию с дефолтными параметрами. Посчтитайте $R^2$ и MSE для трейна и для теста</font>\n",
        "\n",
        "**Замечание:** $R^2$ и MSE для трейна и для теста выводите везде, где требуется обучать модели, даже если в явном виде этого не просят. Иначе непонятно, как понять, насколько успешны наши эксперименты."
      ]
    },
    {
      "cell_type": "code",
      "execution_count": 68,
      "metadata": {
        "id": "hVYXaeTgrb3d"
      },
      "outputs": [],
      "source": [
        "from sklearn.linear_model import LinearRegression\n",
        "from sklearn.metrics import r2_score, mean_squared_error as MSE\n",
        "\n",
        "model = LinearRegression()\n",
        "model.fit(X_train, y_train)\n",
        "y_pred_train = model.predict(X_train)\n",
        "y_pred_test = model.predict(X_test)"
      ]
    },
    {
      "cell_type": "code",
      "execution_count": 69,
      "metadata": {},
      "outputs": [
        {
          "name": "stdout",
          "output_type": "stream",
          "text": [
            "train R2 0.603 train MSE 113813719489.552\n"
          ]
        }
      ],
      "source": [
        "print(f\"train R2 {r2_score(y_train, y_pred_train):.3f} train MSE {MSE(y_train, y_pred_train):.3f}\")"
      ]
    },
    {
      "cell_type": "code",
      "execution_count": 70,
      "metadata": {},
      "outputs": [
        {
          "name": "stdout",
          "output_type": "stream",
          "text": [
            "test R2 0.598 test MSE 230860494993.665\n"
          ]
        }
      ],
      "source": [
        "print(f\"test R2 {r2_score(y_test, y_pred_test):.3f} test MSE {MSE(y_test, y_pred_test):.3f}\")"
      ]
    },
    {
      "cell_type": "markdown",
      "metadata": {
        "id": "HpQ8EG2Uk_Dn"
      },
      "source": [
        "Запомните правило:\n",
        "\n",
        "> Использую линейную модель -- стандартизирую фичи\n",
        "\n",
        "(0.25 балла) <font color='#9933CC'>Воспользуемся им</font>\n"
      ]
    },
    {
      "cell_type": "code",
      "execution_count": 71,
      "metadata": {
        "id": "o6FB80C2rciK"
      },
      "outputs": [],
      "source": [
        "from sklearn.preprocessing import StandardScaler\n",
        "\n",
        "sc = StandardScaler()\n",
        "sc.fit(X_train)\n",
        "\n",
        "X_train_ts = sc.transform(X_train)\n",
        "X_test_ts = sc.transform(X_test)\n",
        "\n",
        "model = LinearRegression()\n",
        "model.fit(X_train_ts, y_train)\n",
        "y_pred_train = model.predict(X_train_ts)\n",
        "y_pred_test = model.predict(X_test_ts)"
      ]
    },
    {
      "cell_type": "code",
      "execution_count": 72,
      "metadata": {},
      "outputs": [
        {
          "name": "stdout",
          "output_type": "stream",
          "text": [
            "train R2 0.603 train MSE 113813719489.552\n"
          ]
        }
      ],
      "source": [
        "print(f\"train R2 {r2_score(y_train, y_pred_train):.3f} train MSE {MSE(y_train, y_pred_train):.3f}\")"
      ]
    },
    {
      "cell_type": "code",
      "execution_count": 73,
      "metadata": {},
      "outputs": [
        {
          "name": "stdout",
          "output_type": "stream",
          "text": [
            "test R2 0.598 test MSE 230860494993.665\n"
          ]
        }
      ],
      "source": [
        "print(f\"test R2 {r2_score(y_test, y_pred_test):.3f} test MSE {MSE(y_test, y_pred_test):.3f}\")"
      ]
    },
    {
      "cell_type": "markdown",
      "metadata": {
        "id": "oQZi8LYVmiPv"
      },
      "source": [
        "Не очень результативно.\n",
        "\n",
        "Зато уже сейчас можем интерпретировать модель. <font color='#FF6600'>\"Какой признак оказался наиболее информативным в предсказании цены?\"</font>"
      ]
    },
    {
      "cell_type": "code",
      "execution_count": 74,
      "metadata": {
        "id": "u9onBNrhmt1r"
      },
      "outputs": [
        {
          "data": {
            "text/plain": [
              "'max_power'"
            ]
          },
          "execution_count": 74,
          "metadata": {},
          "output_type": "execute_result"
        }
      ],
      "source": [
        "X_train.iloc[:,list(model.coef_).index(max(model.coef_))].name"
      ]
    },
    {
      "cell_type": "markdown",
      "metadata": {
        "id": "My5nSSASntjA"
      },
      "source": [
        "(0.25 балла) <font color='#9933CC'>Теперь попробуем Lasso-регрессию.</font> Здесь и дальше обучайте модели на нормализованных признаках"
      ]
    },
    {
      "cell_type": "code",
      "execution_count": 75,
      "metadata": {
        "id": "yhR5eajPn0kl"
      },
      "outputs": [],
      "source": [
        "from sklearn.linear_model import Lasso\n",
        "\n",
        "model = Lasso()\n",
        "model.fit(X_train_ts, y_train)\n",
        "y_pred_train = model.predict(X_train_ts)\n",
        "y_pred_test = model.predict(X_test_ts)"
      ]
    },
    {
      "cell_type": "code",
      "execution_count": 76,
      "metadata": {},
      "outputs": [
        {
          "name": "stdout",
          "output_type": "stream",
          "text": [
            "train R2 0.603 train MSE 113813719503.304\n"
          ]
        }
      ],
      "source": [
        "print(f\"train R2 {r2_score(y_train, y_pred_train):.3f} train MSE {MSE(y_train, y_pred_train):.3f}\")"
      ]
    },
    {
      "cell_type": "code",
      "execution_count": 77,
      "metadata": {},
      "outputs": [
        {
          "name": "stdout",
          "output_type": "stream",
          "text": [
            "test R2 0.598 test MSE 230861107343.496\n"
          ]
        }
      ],
      "source": [
        "print(f\"test R2 {r2_score(y_test, y_pred_test):.3f} test MSE {MSE(y_test, y_pred_test):.3f}\")"
      ]
    },
    {
      "cell_type": "markdown",
      "metadata": {
        "id": "cIbnMp-So7CP"
      },
      "source": [
        "<font color='#FF6600'>Занулила ли L1-регуляризация с параметрами по умолчанию какие-нибудь веса? Почему же?</font>"
      ]
    },
    {
      "cell_type": "code",
      "execution_count": 78,
      "metadata": {
        "id": "EBJKIp6FouYw"
      },
      "outputs": [
        {
          "data": {
            "text/plain": [
              "array([160823.29341509, -49058.89116482, -12658.04066119,  15595.42566476,\n",
              "       303450.04977928, -33757.73176182,  38401.29159472, -51016.28846423])"
            ]
          },
          "execution_count": 78,
          "metadata": {},
          "output_type": "execute_result"
        }
      ],
      "source": [
        "model.coef_"
      ]
    },
    {
      "cell_type": "markdown",
      "metadata": {
        "id": "YYWLInilqQTE"
      },
      "source": [
        "(0.25 балла) <font color='#9933CC'>Перебором по сетке (c 10-ю фолдами) подберите оптимальные параметры для Lasso-регрессии</font>\n",
        "\n",
        "Вам пригодится класс [GridSearchCV](https://scikit-learn.org/stable/modules/generated/sklearn.model_selection.GridSearchCV.html)."
      ]
    },
    {
      "cell_type": "code",
      "execution_count": 79,
      "metadata": {
        "id": "mdGQ6CvApr_P"
      },
      "outputs": [],
      "source": [
        "from sklearn.model_selection import GridSearchCV\n",
        "from sklearn import linear_model\n",
        "\n",
        "# your code here"
      ]
    },
    {
      "cell_type": "code",
      "execution_count": 80,
      "metadata": {},
      "outputs": [],
      "source": [
        "model = linear_model.LassoCV(alphas=np.logspace(-6, 6, 13),cv=10)\n",
        "model.fit(X_train_ts, y_train)\n",
        "y_pred_train = model.predict(X_train_ts)\n",
        "y_pred_test = model.predict(X_test_ts)"
      ]
    },
    {
      "cell_type": "code",
      "execution_count": 81,
      "metadata": {},
      "outputs": [
        {
          "name": "stdout",
          "output_type": "stream",
          "text": [
            "train R2 0.600 train MSE 114576524292.080\n"
          ]
        }
      ],
      "source": [
        "print(f\"train R2 {r2_score(y_train, y_pred_train):.3f} train MSE {MSE(y_train, y_pred_train):.3f}\")"
      ]
    },
    {
      "cell_type": "code",
      "execution_count": 82,
      "metadata": {},
      "outputs": [
        {
          "name": "stdout",
          "output_type": "stream",
          "text": [
            "test R2 0.586 test MSE 237745532915.240\n"
          ]
        }
      ],
      "source": [
        "print(f\"test R2 {r2_score(y_test, y_pred_test):.3f} test MSE {MSE(y_test, y_pred_test):.3f}\")"
      ]
    },
    {
      "cell_type": "markdown",
      "metadata": {
        "id": "rueUl2cSvT5w"
      },
      "source": [
        "<font color='#FF6600'>Сколько грид-сёрчу пришлось обучать моделей?</font>"
      ]
    },
    {
      "cell_type": "code",
      "execution_count": 83,
      "metadata": {},
      "outputs": [
        {
          "name": "stdout",
          "output_type": "stream",
          "text": [
            "CPU times: user 76.6 ms, sys: 222 ms, total: 298 ms\n",
            "Wall time: 30.7 ms\n"
          ]
        },
        {
          "data": {
            "text/html": [
              "<style>#sk-container-id-1 {color: black;background-color: white;}#sk-container-id-1 pre{padding: 0;}#sk-container-id-1 div.sk-toggleable {background-color: white;}#sk-container-id-1 label.sk-toggleable__label {cursor: pointer;display: block;width: 100%;margin-bottom: 0;padding: 0.3em;box-sizing: border-box;text-align: center;}#sk-container-id-1 label.sk-toggleable__label-arrow:before {content: \"▸\";float: left;margin-right: 0.25em;color: #696969;}#sk-container-id-1 label.sk-toggleable__label-arrow:hover:before {color: black;}#sk-container-id-1 div.sk-estimator:hover label.sk-toggleable__label-arrow:before {color: black;}#sk-container-id-1 div.sk-toggleable__content {max-height: 0;max-width: 0;overflow: hidden;text-align: left;background-color: #f0f8ff;}#sk-container-id-1 div.sk-toggleable__content pre {margin: 0.2em;color: black;border-radius: 0.25em;background-color: #f0f8ff;}#sk-container-id-1 input.sk-toggleable__control:checked~div.sk-toggleable__content {max-height: 200px;max-width: 100%;overflow: auto;}#sk-container-id-1 input.sk-toggleable__control:checked~label.sk-toggleable__label-arrow:before {content: \"▾\";}#sk-container-id-1 div.sk-estimator input.sk-toggleable__control:checked~label.sk-toggleable__label {background-color: #d4ebff;}#sk-container-id-1 div.sk-label input.sk-toggleable__control:checked~label.sk-toggleable__label {background-color: #d4ebff;}#sk-container-id-1 input.sk-hidden--visually {border: 0;clip: rect(1px 1px 1px 1px);clip: rect(1px, 1px, 1px, 1px);height: 1px;margin: -1px;overflow: hidden;padding: 0;position: absolute;width: 1px;}#sk-container-id-1 div.sk-estimator {font-family: monospace;background-color: #f0f8ff;border: 1px dotted black;border-radius: 0.25em;box-sizing: border-box;margin-bottom: 0.5em;}#sk-container-id-1 div.sk-estimator:hover {background-color: #d4ebff;}#sk-container-id-1 div.sk-parallel-item::after {content: \"\";width: 100%;border-bottom: 1px solid gray;flex-grow: 1;}#sk-container-id-1 div.sk-label:hover label.sk-toggleable__label {background-color: #d4ebff;}#sk-container-id-1 div.sk-serial::before {content: \"\";position: absolute;border-left: 1px solid gray;box-sizing: border-box;top: 0;bottom: 0;left: 50%;z-index: 0;}#sk-container-id-1 div.sk-serial {display: flex;flex-direction: column;align-items: center;background-color: white;padding-right: 0.2em;padding-left: 0.2em;position: relative;}#sk-container-id-1 div.sk-item {position: relative;z-index: 1;}#sk-container-id-1 div.sk-parallel {display: flex;align-items: stretch;justify-content: center;background-color: white;position: relative;}#sk-container-id-1 div.sk-item::before, #sk-container-id-1 div.sk-parallel-item::before {content: \"\";position: absolute;border-left: 1px solid gray;box-sizing: border-box;top: 0;bottom: 0;left: 50%;z-index: -1;}#sk-container-id-1 div.sk-parallel-item {display: flex;flex-direction: column;z-index: 1;position: relative;background-color: white;}#sk-container-id-1 div.sk-parallel-item:first-child::after {align-self: flex-end;width: 50%;}#sk-container-id-1 div.sk-parallel-item:last-child::after {align-self: flex-start;width: 50%;}#sk-container-id-1 div.sk-parallel-item:only-child::after {width: 0;}#sk-container-id-1 div.sk-dashed-wrapped {border: 1px dashed gray;margin: 0 0.4em 0.5em 0.4em;box-sizing: border-box;padding-bottom: 0.4em;background-color: white;}#sk-container-id-1 div.sk-label label {font-family: monospace;font-weight: bold;display: inline-block;line-height: 1.2em;}#sk-container-id-1 div.sk-label-container {text-align: center;}#sk-container-id-1 div.sk-container {/* jupyter's `normalize.less` sets `[hidden] { display: none; }` but bootstrap.min.css set `[hidden] { display: none !important; }` so we also need the `!important` here to be able to override the default hidden behavior on the sphinx rendered scikit-learn.org. See: https://github.com/scikit-learn/scikit-learn/issues/21755 */display: inline-block !important;position: relative;}#sk-container-id-1 div.sk-text-repr-fallback {display: none;}</style><div id=\"sk-container-id-1\" class=\"sk-top-container\"><div class=\"sk-text-repr-fallback\"><pre>LassoCV(alphas=array([1.e-06, 1.e-05, 1.e-04, 1.e-03, 1.e-02, 1.e-01, 1.e+00, 1.e+01,\n",
              "       1.e+02, 1.e+03, 1.e+04, 1.e+05, 1.e+06]),\n",
              "        cv=10)</pre><b>In a Jupyter environment, please rerun this cell to show the HTML representation or trust the notebook. <br />On GitHub, the HTML representation is unable to render, please try loading this page with nbviewer.org.</b></div><div class=\"sk-container\" hidden><div class=\"sk-item\"><div class=\"sk-estimator sk-toggleable\"><input class=\"sk-toggleable__control sk-hidden--visually\" id=\"sk-estimator-id-1\" type=\"checkbox\" checked><label for=\"sk-estimator-id-1\" class=\"sk-toggleable__label sk-toggleable__label-arrow\">LassoCV</label><div class=\"sk-toggleable__content\"><pre>LassoCV(alphas=array([1.e-06, 1.e-05, 1.e-04, 1.e-03, 1.e-02, 1.e-01, 1.e+00, 1.e+01,\n",
              "       1.e+02, 1.e+03, 1.e+04, 1.e+05, 1.e+06]),\n",
              "        cv=10)</pre></div></div></div></div></div>"
            ],
            "text/plain": [
              "LassoCV(alphas=array([1.e-06, 1.e-05, 1.e-04, 1.e-03, 1.e-02, 1.e-01, 1.e+00, 1.e+01,\n",
              "       1.e+02, 1.e+03, 1.e+04, 1.e+05, 1.e+06]),\n",
              "        cv=10)"
            ]
          },
          "execution_count": 83,
          "metadata": {},
          "output_type": "execute_result"
        }
      ],
      "source": [
        "%%time\n",
        "model.fit(X_train_ts, y_train)"
      ]
    },
    {
      "cell_type": "markdown",
      "metadata": {
        "id": "0agvlV-tvEQN"
      },
      "source": [
        "<font color='#FF6600'>Какой коэффициент регуляризации у лучшей из перебранных моделей? Занулились ли какие-нибудь из весов при такой регуляризации?</font>"
      ]
    },
    {
      "cell_type": "code",
      "execution_count": 84,
      "metadata": {},
      "outputs": [
        {
          "data": {
            "text/plain": [
              "10000.0"
            ]
          },
          "execution_count": 84,
          "metadata": {},
          "output_type": "execute_result"
        }
      ],
      "source": [
        "model.alpha_"
      ]
    },
    {
      "cell_type": "code",
      "execution_count": 85,
      "metadata": {
        "id": "joyYE2Q5shu5"
      },
      "outputs": [
        {
          "data": {
            "text/plain": [
              "array([147074.50763633, -39643.74492323,     -0.        ,      0.        ,\n",
              "       302892.31511024,  -5041.46525937,  43329.75474033, -32373.21882259])"
            ]
          },
          "execution_count": 85,
          "metadata": {},
          "output_type": "execute_result"
        }
      ],
      "source": [
        "model.coef_"
      ]
    },
    {
      "cell_type": "markdown",
      "metadata": {
        "id": "VdkkrDE4oeCP"
      },
      "source": [
        "(0.25 балла) <font color='#9933CC'>Перебором по сетке (c 10-ю фолдами) подберите оптимальные параметры для [ElasticNet](https://scikit-learn.org/stable/modules/generated/sklearn.linear_model.ElasticNet.html)-регрессии</font>"
      ]
    },
    {
      "cell_type": "code",
      "execution_count": 86,
      "metadata": {
        "id": "F3e5MGZMoeCR"
      },
      "outputs": [],
      "source": [
        "from sklearn.linear_model import ElasticNet\n",
        "\n",
        "\n",
        "model = linear_model.ElasticNetCV(alphas=np.logspace(-6, 6, 13),cv=10)\n",
        "model.fit(X_train_ts, y_train)\n",
        "y_pred_train = model.predict(X_train_ts)\n",
        "y_pred_test = model.predict(X_test_ts)"
      ]
    },
    {
      "cell_type": "markdown",
      "metadata": {
        "id": "zB0Nrbk6oeCS"
      },
      "source": [
        "<font color='#FF6600'>Какие гиперпараметры соответствуют лучшей из перебранных моделей?</font>"
      ]
    },
    {
      "cell_type": "code",
      "execution_count": 87,
      "metadata": {
        "id": "gIzvY8bToeCS"
      },
      "outputs": [
        {
          "data": {
            "text/plain": [
              "0.01"
            ]
          },
          "execution_count": 87,
          "metadata": {},
          "output_type": "execute_result"
        }
      ],
      "source": [
        "model.alpha_"
      ]
    },
    {
      "cell_type": "code",
      "execution_count": 88,
      "metadata": {},
      "outputs": [
        {
          "data": {
            "text/plain": [
              "array([159676.05388183, -49194.53049461, -12151.89360158,  18345.82739476,\n",
              "       298294.87513736, -34286.81751497,  41914.9933863 , -48884.96352774])"
            ]
          },
          "execution_count": 88,
          "metadata": {},
          "output_type": "execute_result"
        }
      ],
      "source": [
        "model.coef_"
      ]
    },
    {
      "cell_type": "markdown",
      "metadata": {
        "id": "5C3IX1-CwHO2"
      },
      "source": [
        "Предлагаем вам оставить вам попытки заметно улучшить качество модели регуляризацией и перейти к следующей части задания."
      ]
    },
    {
      "cell_type": "markdown",
      "metadata": {
        "id": "Y2y-_PCHrevF"
      },
      "source": [
        "# Часть 3 (0.75 балла) | Добавляем категориальные фичи\n",
        "\n"
      ]
    },
    {
      "cell_type": "markdown",
      "metadata": {
        "id": "frLASc5L8Tu5"
      },
      "source": [
        "(0 баллов) <font color='#9933CC'>Из ``df_train`` удалите столбцы с целевой переменной и названием автомобиля.</font>"
      ]
    },
    {
      "cell_type": "code",
      "execution_count": 89,
      "metadata": {},
      "outputs": [],
      "source": [
        "X_train_cat = df_train.drop(columns=['selling_price','name'])\n",
        "X_test_cat = df_test.drop(columns=['selling_price','name'])"
      ]
    },
    {
      "cell_type": "code",
      "execution_count": 90,
      "metadata": {},
      "outputs": [
        {
          "name": "stdout",
          "output_type": "stream",
          "text": [
            "year 29\n",
            "------------------------------------------------------------------------------\n",
            "km_driven 827\n",
            "------------------------------------------------------------------------------\n",
            "fuel 4\n",
            "------------------------------------------------------------------------------\n",
            "seller_type 3\n",
            "------------------------------------------------------------------------------\n",
            "transmission 2\n",
            "------------------------------------------------------------------------------\n",
            "owner 5\n",
            "------------------------------------------------------------------------------\n",
            "mileage 376\n",
            "------------------------------------------------------------------------------\n",
            "engine 120\n",
            "------------------------------------------------------------------------------\n",
            "max_power 313\n",
            "------------------------------------------------------------------------------\n",
            "seats 9\n",
            "------------------------------------------------------------------------------\n",
            "m_units 2\n",
            "------------------------------------------------------------------------------\n",
            "torque1 234\n",
            "------------------------------------------------------------------------------\n",
            "torque2 72\n",
            "------------------------------------------------------------------------------\n",
            "t_units 3\n",
            "------------------------------------------------------------------------------\n"
          ]
        }
      ],
      "source": [
        "for col in X_train_cat.columns.to_list():\n",
        "    print(col, X_train_cat[col].nunique())\n",
        "    print('-'*78)"
      ]
    },
    {
      "cell_type": "code",
      "execution_count": 91,
      "metadata": {
        "id": "SqDhrd6Q8k-S"
      },
      "outputs": [],
      "source": [
        "assert X_train_cat.shape == (5840, 14)"
      ]
    },
    {
      "cell_type": "code",
      "execution_count": 92,
      "metadata": {
        "id": "JyGl7KQQx_Ax"
      },
      "outputs": [
        {
          "data": {
            "text/html": [
              "<div>\n",
              "<style scoped>\n",
              "    .dataframe tbody tr th:only-of-type {\n",
              "        vertical-align: middle;\n",
              "    }\n",
              "\n",
              "    .dataframe tbody tr th {\n",
              "        vertical-align: top;\n",
              "    }\n",
              "\n",
              "    .dataframe thead th {\n",
              "        text-align: right;\n",
              "    }\n",
              "</style>\n",
              "<table border=\"1\" class=\"dataframe\">\n",
              "  <thead>\n",
              "    <tr style=\"text-align: right;\">\n",
              "      <th></th>\n",
              "      <th>fuel</th>\n",
              "      <th>seller_type</th>\n",
              "      <th>transmission</th>\n",
              "      <th>owner</th>\n",
              "      <th>m_units</th>\n",
              "      <th>t_units</th>\n",
              "    </tr>\n",
              "  </thead>\n",
              "  <tbody>\n",
              "    <tr>\n",
              "      <th>count</th>\n",
              "      <td>5840</td>\n",
              "      <td>5840</td>\n",
              "      <td>5840</td>\n",
              "      <td>5840</td>\n",
              "      <td>5654</td>\n",
              "      <td>5830</td>\n",
              "    </tr>\n",
              "    <tr>\n",
              "      <th>unique</th>\n",
              "      <td>4</td>\n",
              "      <td>3</td>\n",
              "      <td>2</td>\n",
              "      <td>5</td>\n",
              "      <td>2</td>\n",
              "      <td>3</td>\n",
              "    </tr>\n",
              "    <tr>\n",
              "      <th>top</th>\n",
              "      <td>Diesel</td>\n",
              "      <td>Individual</td>\n",
              "      <td>Manual</td>\n",
              "      <td>First Owner</td>\n",
              "      <td>kmpl</td>\n",
              "      <td>nm</td>\n",
              "    </tr>\n",
              "    <tr>\n",
              "      <th>freq</th>\n",
              "      <td>3177</td>\n",
              "      <td>5223</td>\n",
              "      <td>5336</td>\n",
              "      <td>3603</td>\n",
              "      <td>5577</td>\n",
              "      <td>5231</td>\n",
              "    </tr>\n",
              "  </tbody>\n",
              "</table>\n",
              "</div>"
            ],
            "text/plain": [
              "          fuel seller_type transmission        owner m_units t_units\n",
              "count     5840        5840         5840         5840    5654    5830\n",
              "unique       4           3            2            5       2       3\n",
              "top     Diesel  Individual       Manual  First Owner    kmpl      nm\n",
              "freq      3177        5223         5336         3603    5577    5231"
            ]
          },
          "execution_count": 92,
          "metadata": {},
          "output_type": "execute_result"
        }
      ],
      "source": [
        "X_train_cat.describe(include='object')"
      ]
    },
    {
      "cell_type": "code",
      "execution_count": 93,
      "metadata": {},
      "outputs": [
        {
          "data": {
            "text/html": [
              "<div>\n",
              "<style scoped>\n",
              "    .dataframe tbody tr th:only-of-type {\n",
              "        vertical-align: middle;\n",
              "    }\n",
              "\n",
              "    .dataframe tbody tr th {\n",
              "        vertical-align: top;\n",
              "    }\n",
              "\n",
              "    .dataframe thead th {\n",
              "        text-align: right;\n",
              "    }\n",
              "</style>\n",
              "<table border=\"1\" class=\"dataframe\">\n",
              "  <thead>\n",
              "    <tr style=\"text-align: right;\">\n",
              "      <th></th>\n",
              "      <th>fuel</th>\n",
              "      <th>seller_type</th>\n",
              "      <th>transmission</th>\n",
              "      <th>owner</th>\n",
              "      <th>m_units</th>\n",
              "      <th>t_units</th>\n",
              "    </tr>\n",
              "  </thead>\n",
              "  <tbody>\n",
              "    <tr>\n",
              "      <th>count</th>\n",
              "      <td>1000</td>\n",
              "      <td>1000</td>\n",
              "      <td>1000</td>\n",
              "      <td>1000</td>\n",
              "      <td>981</td>\n",
              "      <td>999</td>\n",
              "    </tr>\n",
              "    <tr>\n",
              "      <th>unique</th>\n",
              "      <td>4</td>\n",
              "      <td>3</td>\n",
              "      <td>2</td>\n",
              "      <td>5</td>\n",
              "      <td>2</td>\n",
              "      <td>3</td>\n",
              "    </tr>\n",
              "    <tr>\n",
              "      <th>top</th>\n",
              "      <td>Diesel</td>\n",
              "      <td>Individual</td>\n",
              "      <td>Manual</td>\n",
              "      <td>First Owner</td>\n",
              "      <td>kmpl</td>\n",
              "      <td>nm</td>\n",
              "    </tr>\n",
              "    <tr>\n",
              "      <th>freq</th>\n",
              "      <td>534</td>\n",
              "      <td>837</td>\n",
              "      <td>877</td>\n",
              "      <td>623</td>\n",
              "      <td>972</td>\n",
              "      <td>919</td>\n",
              "    </tr>\n",
              "  </tbody>\n",
              "</table>\n",
              "</div>"
            ],
            "text/plain": [
              "          fuel seller_type transmission        owner m_units t_units\n",
              "count     1000        1000         1000         1000     981     999\n",
              "unique       4           3            2            5       2       3\n",
              "top     Diesel  Individual       Manual  First Owner    kmpl      nm\n",
              "freq       534         837          877          623     972     919"
            ]
          },
          "execution_count": 93,
          "metadata": {},
          "output_type": "execute_result"
        }
      ],
      "source": [
        "X_test_cat.describe(include='object')"
      ]
    },
    {
      "cell_type": "markdown",
      "metadata": {
        "id": "wYxtiDa_81AL"
      },
      "source": [
        "(0.5 балла) <font color='#9933CC'>Закодируйте категориалльные фичи и ``seats`` методом OneHot-кодирования</font>\n",
        "\n",
        "> Обратите внимание, что во избежание мультиколлинеарности следует избавиться от одного из полученных столбцов при кодировании каждого признака методом OneHot. "
      ]
    },
    {
      "cell_type": "code",
      "execution_count": 94,
      "metadata": {},
      "outputs": [],
      "source": [
        "cat_cols = X_train_cat.select_dtypes('O').columns.to_list()\n",
        "cat_cols.append('seats')"
      ]
    },
    {
      "cell_type": "code",
      "execution_count": 95,
      "metadata": {
        "id": "wbN4yM2Frob7"
      },
      "outputs": [],
      "source": [
        "from sklearn.preprocessing import OneHotEncoder # или можно использовать get_dummies из библиотеки pandas\n",
        "OHE = OneHotEncoder(drop='first', max_categories=9, sparse=False, handle_unknown='ignore')"
      ]
    },
    {
      "cell_type": "code",
      "execution_count": 96,
      "metadata": {},
      "outputs": [
        {
          "data": {
            "text/html": [
              "<div>\n",
              "<style scoped>\n",
              "    .dataframe tbody tr th:only-of-type {\n",
              "        vertical-align: middle;\n",
              "    }\n",
              "\n",
              "    .dataframe tbody tr th {\n",
              "        vertical-align: top;\n",
              "    }\n",
              "\n",
              "    .dataframe thead th {\n",
              "        text-align: right;\n",
              "    }\n",
              "</style>\n",
              "<table border=\"1\" class=\"dataframe\">\n",
              "  <thead>\n",
              "    <tr style=\"text-align: right;\">\n",
              "      <th></th>\n",
              "      <th>year</th>\n",
              "      <th>km_driven</th>\n",
              "      <th>fuel</th>\n",
              "      <th>seller_type</th>\n",
              "      <th>transmission</th>\n",
              "      <th>owner</th>\n",
              "      <th>mileage</th>\n",
              "      <th>engine</th>\n",
              "      <th>max_power</th>\n",
              "      <th>seats</th>\n",
              "      <th>m_units</th>\n",
              "      <th>torque1</th>\n",
              "      <th>torque2</th>\n",
              "      <th>t_units</th>\n",
              "    </tr>\n",
              "  </thead>\n",
              "  <tbody>\n",
              "    <tr>\n",
              "      <th>count</th>\n",
              "      <td>5840.000000</td>\n",
              "      <td>5.840000e+03</td>\n",
              "      <td>5840</td>\n",
              "      <td>5840</td>\n",
              "      <td>5840</td>\n",
              "      <td>5840</td>\n",
              "      <td>5840.000000</td>\n",
              "      <td>5840.000000</td>\n",
              "      <td>5840.000000</td>\n",
              "      <td>5840.000000</td>\n",
              "      <td>5654</td>\n",
              "      <td>5840.000000</td>\n",
              "      <td>5840.000000</td>\n",
              "      <td>5830</td>\n",
              "    </tr>\n",
              "    <tr>\n",
              "      <th>unique</th>\n",
              "      <td>NaN</td>\n",
              "      <td>NaN</td>\n",
              "      <td>4</td>\n",
              "      <td>3</td>\n",
              "      <td>2</td>\n",
              "      <td>5</td>\n",
              "      <td>NaN</td>\n",
              "      <td>NaN</td>\n",
              "      <td>NaN</td>\n",
              "      <td>NaN</td>\n",
              "      <td>2</td>\n",
              "      <td>NaN</td>\n",
              "      <td>NaN</td>\n",
              "      <td>3</td>\n",
              "    </tr>\n",
              "    <tr>\n",
              "      <th>top</th>\n",
              "      <td>NaN</td>\n",
              "      <td>NaN</td>\n",
              "      <td>Diesel</td>\n",
              "      <td>Individual</td>\n",
              "      <td>Manual</td>\n",
              "      <td>First Owner</td>\n",
              "      <td>NaN</td>\n",
              "      <td>NaN</td>\n",
              "      <td>NaN</td>\n",
              "      <td>NaN</td>\n",
              "      <td>kmpl</td>\n",
              "      <td>NaN</td>\n",
              "      <td>NaN</td>\n",
              "      <td>nm</td>\n",
              "    </tr>\n",
              "    <tr>\n",
              "      <th>freq</th>\n",
              "      <td>NaN</td>\n",
              "      <td>NaN</td>\n",
              "      <td>3177</td>\n",
              "      <td>5223</td>\n",
              "      <td>5336</td>\n",
              "      <td>3603</td>\n",
              "      <td>NaN</td>\n",
              "      <td>NaN</td>\n",
              "      <td>NaN</td>\n",
              "      <td>NaN</td>\n",
              "      <td>5577</td>\n",
              "      <td>NaN</td>\n",
              "      <td>NaN</td>\n",
              "      <td>5231</td>\n",
              "    </tr>\n",
              "    <tr>\n",
              "      <th>mean</th>\n",
              "      <td>2013.428425</td>\n",
              "      <td>7.395224e+04</td>\n",
              "      <td>NaN</td>\n",
              "      <td>NaN</td>\n",
              "      <td>NaN</td>\n",
              "      <td>NaN</td>\n",
              "      <td>19.430841</td>\n",
              "      <td>1429.448973</td>\n",
              "      <td>87.906371</td>\n",
              "      <td>5.426712</td>\n",
              "      <td>NaN</td>\n",
              "      <td>161.309570</td>\n",
              "      <td>2846.153228</td>\n",
              "      <td>NaN</td>\n",
              "    </tr>\n",
              "    <tr>\n",
              "      <th>std</th>\n",
              "      <td>4.095622</td>\n",
              "      <td>6.007114e+04</td>\n",
              "      <td>NaN</td>\n",
              "      <td>NaN</td>\n",
              "      <td>NaN</td>\n",
              "      <td>NaN</td>\n",
              "      <td>3.985973</td>\n",
              "      <td>485.662834</td>\n",
              "      <td>31.640418</td>\n",
              "      <td>0.982344</td>\n",
              "      <td>NaN</td>\n",
              "      <td>91.174286</td>\n",
              "      <td>973.350814</td>\n",
              "      <td>NaN</td>\n",
              "    </tr>\n",
              "    <tr>\n",
              "      <th>min</th>\n",
              "      <td>1983.000000</td>\n",
              "      <td>1.000000e+00</td>\n",
              "      <td>NaN</td>\n",
              "      <td>NaN</td>\n",
              "      <td>NaN</td>\n",
              "      <td>NaN</td>\n",
              "      <td>0.000000</td>\n",
              "      <td>624.000000</td>\n",
              "      <td>0.000000</td>\n",
              "      <td>2.000000</td>\n",
              "      <td>NaN</td>\n",
              "      <td>4.800000</td>\n",
              "      <td>1269.350000</td>\n",
              "      <td>NaN</td>\n",
              "    </tr>\n",
              "    <tr>\n",
              "      <th>25%</th>\n",
              "      <td>2011.000000</td>\n",
              "      <td>3.900000e+04</td>\n",
              "      <td>NaN</td>\n",
              "      <td>NaN</td>\n",
              "      <td>NaN</td>\n",
              "      <td>NaN</td>\n",
              "      <td>16.950000</td>\n",
              "      <td>1197.000000</td>\n",
              "      <td>68.000000</td>\n",
              "      <td>5.000000</td>\n",
              "      <td>NaN</td>\n",
              "      <td>99.040000</td>\n",
              "      <td>2000.000000</td>\n",
              "      <td>NaN</td>\n",
              "    </tr>\n",
              "    <tr>\n",
              "      <th>50%</th>\n",
              "      <td>2014.000000</td>\n",
              "      <td>7.000000e+04</td>\n",
              "      <td>NaN</td>\n",
              "      <td>NaN</td>\n",
              "      <td>NaN</td>\n",
              "      <td>NaN</td>\n",
              "      <td>19.370000</td>\n",
              "      <td>1248.000000</td>\n",
              "      <td>81.860000</td>\n",
              "      <td>5.000000</td>\n",
              "      <td>NaN</td>\n",
              "      <td>150.000000</td>\n",
              "      <td>2400.000000</td>\n",
              "      <td>NaN</td>\n",
              "    </tr>\n",
              "    <tr>\n",
              "      <th>75%</th>\n",
              "      <td>2017.000000</td>\n",
              "      <td>1.000000e+05</td>\n",
              "      <td>NaN</td>\n",
              "      <td>NaN</td>\n",
              "      <td>NaN</td>\n",
              "      <td>NaN</td>\n",
              "      <td>22.300000</td>\n",
              "      <td>1498.000000</td>\n",
              "      <td>99.000000</td>\n",
              "      <td>5.000000</td>\n",
              "      <td>NaN</td>\n",
              "      <td>200.000000</td>\n",
              "      <td>3750.000000</td>\n",
              "      <td>NaN</td>\n",
              "    </tr>\n",
              "    <tr>\n",
              "      <th>max</th>\n",
              "      <td>2020.000000</td>\n",
              "      <td>2.360457e+06</td>\n",
              "      <td>NaN</td>\n",
              "      <td>NaN</td>\n",
              "      <td>NaN</td>\n",
              "      <td>NaN</td>\n",
              "      <td>42.000000</td>\n",
              "      <td>3604.000000</td>\n",
              "      <td>400.000000</td>\n",
              "      <td>14.000000</td>\n",
              "      <td>NaN</td>\n",
              "      <td>789.000000</td>\n",
              "      <td>21800.000000</td>\n",
              "      <td>NaN</td>\n",
              "    </tr>\n",
              "  </tbody>\n",
              "</table>\n",
              "</div>"
            ],
            "text/plain": [
              "               year     km_driven    fuel seller_type transmission  \\\n",
              "count   5840.000000  5.840000e+03    5840        5840         5840   \n",
              "unique          NaN           NaN       4           3            2   \n",
              "top             NaN           NaN  Diesel  Individual       Manual   \n",
              "freq            NaN           NaN    3177        5223         5336   \n",
              "mean    2013.428425  7.395224e+04     NaN         NaN          NaN   \n",
              "std        4.095622  6.007114e+04     NaN         NaN          NaN   \n",
              "min     1983.000000  1.000000e+00     NaN         NaN          NaN   \n",
              "25%     2011.000000  3.900000e+04     NaN         NaN          NaN   \n",
              "50%     2014.000000  7.000000e+04     NaN         NaN          NaN   \n",
              "75%     2017.000000  1.000000e+05     NaN         NaN          NaN   \n",
              "max     2020.000000  2.360457e+06     NaN         NaN          NaN   \n",
              "\n",
              "              owner      mileage       engine    max_power        seats  \\\n",
              "count          5840  5840.000000  5840.000000  5840.000000  5840.000000   \n",
              "unique            5          NaN          NaN          NaN          NaN   \n",
              "top     First Owner          NaN          NaN          NaN          NaN   \n",
              "freq           3603          NaN          NaN          NaN          NaN   \n",
              "mean            NaN    19.430841  1429.448973    87.906371     5.426712   \n",
              "std             NaN     3.985973   485.662834    31.640418     0.982344   \n",
              "min             NaN     0.000000   624.000000     0.000000     2.000000   \n",
              "25%             NaN    16.950000  1197.000000    68.000000     5.000000   \n",
              "50%             NaN    19.370000  1248.000000    81.860000     5.000000   \n",
              "75%             NaN    22.300000  1498.000000    99.000000     5.000000   \n",
              "max             NaN    42.000000  3604.000000   400.000000    14.000000   \n",
              "\n",
              "       m_units      torque1       torque2 t_units  \n",
              "count     5654  5840.000000   5840.000000    5830  \n",
              "unique       2          NaN           NaN       3  \n",
              "top       kmpl          NaN           NaN      nm  \n",
              "freq      5577          NaN           NaN    5231  \n",
              "mean       NaN   161.309570   2846.153228     NaN  \n",
              "std        NaN    91.174286    973.350814     NaN  \n",
              "min        NaN     4.800000   1269.350000     NaN  \n",
              "25%        NaN    99.040000   2000.000000     NaN  \n",
              "50%        NaN   150.000000   2400.000000     NaN  \n",
              "75%        NaN   200.000000   3750.000000     NaN  \n",
              "max        NaN   789.000000  21800.000000     NaN  "
            ]
          },
          "execution_count": 96,
          "metadata": {},
          "output_type": "execute_result"
        }
      ],
      "source": [
        "X_train_cat.describe(include='all')"
      ]
    },
    {
      "cell_type": "code",
      "execution_count": 97,
      "metadata": {},
      "outputs": [
        {
          "data": {
            "text/html": [
              "<div>\n",
              "<style scoped>\n",
              "    .dataframe tbody tr th:only-of-type {\n",
              "        vertical-align: middle;\n",
              "    }\n",
              "\n",
              "    .dataframe tbody tr th {\n",
              "        vertical-align: top;\n",
              "    }\n",
              "\n",
              "    .dataframe thead th {\n",
              "        text-align: right;\n",
              "    }\n",
              "</style>\n",
              "<table border=\"1\" class=\"dataframe\">\n",
              "  <thead>\n",
              "    <tr style=\"text-align: right;\">\n",
              "      <th></th>\n",
              "      <th>year</th>\n",
              "      <th>km_driven</th>\n",
              "      <th>fuel</th>\n",
              "      <th>seller_type</th>\n",
              "      <th>transmission</th>\n",
              "      <th>owner</th>\n",
              "      <th>mileage</th>\n",
              "      <th>engine</th>\n",
              "      <th>max_power</th>\n",
              "      <th>seats</th>\n",
              "      <th>m_units</th>\n",
              "      <th>torque1</th>\n",
              "      <th>torque2</th>\n",
              "      <th>t_units</th>\n",
              "    </tr>\n",
              "  </thead>\n",
              "  <tbody>\n",
              "    <tr>\n",
              "      <th>count</th>\n",
              "      <td>1000.000000</td>\n",
              "      <td>1000.000000</td>\n",
              "      <td>1000</td>\n",
              "      <td>1000</td>\n",
              "      <td>1000</td>\n",
              "      <td>1000</td>\n",
              "      <td>1000.00000</td>\n",
              "      <td>1000.00000</td>\n",
              "      <td>1000.000000</td>\n",
              "      <td>1000.000000</td>\n",
              "      <td>981</td>\n",
              "      <td>1000.000000</td>\n",
              "      <td>1000.000000</td>\n",
              "      <td>999</td>\n",
              "    </tr>\n",
              "    <tr>\n",
              "      <th>unique</th>\n",
              "      <td>NaN</td>\n",
              "      <td>NaN</td>\n",
              "      <td>4</td>\n",
              "      <td>3</td>\n",
              "      <td>2</td>\n",
              "      <td>5</td>\n",
              "      <td>NaN</td>\n",
              "      <td>NaN</td>\n",
              "      <td>NaN</td>\n",
              "      <td>NaN</td>\n",
              "      <td>2</td>\n",
              "      <td>NaN</td>\n",
              "      <td>NaN</td>\n",
              "      <td>3</td>\n",
              "    </tr>\n",
              "    <tr>\n",
              "      <th>top</th>\n",
              "      <td>NaN</td>\n",
              "      <td>NaN</td>\n",
              "      <td>Diesel</td>\n",
              "      <td>Individual</td>\n",
              "      <td>Manual</td>\n",
              "      <td>First Owner</td>\n",
              "      <td>NaN</td>\n",
              "      <td>NaN</td>\n",
              "      <td>NaN</td>\n",
              "      <td>NaN</td>\n",
              "      <td>kmpl</td>\n",
              "      <td>NaN</td>\n",
              "      <td>NaN</td>\n",
              "      <td>nm</td>\n",
              "    </tr>\n",
              "    <tr>\n",
              "      <th>freq</th>\n",
              "      <td>NaN</td>\n",
              "      <td>NaN</td>\n",
              "      <td>534</td>\n",
              "      <td>837</td>\n",
              "      <td>877</td>\n",
              "      <td>623</td>\n",
              "      <td>NaN</td>\n",
              "      <td>NaN</td>\n",
              "      <td>NaN</td>\n",
              "      <td>NaN</td>\n",
              "      <td>972</td>\n",
              "      <td>NaN</td>\n",
              "      <td>NaN</td>\n",
              "      <td>919</td>\n",
              "    </tr>\n",
              "    <tr>\n",
              "      <th>mean</th>\n",
              "      <td>2013.681000</td>\n",
              "      <td>71393.341000</td>\n",
              "      <td>NaN</td>\n",
              "      <td>NaN</td>\n",
              "      <td>NaN</td>\n",
              "      <td>NaN</td>\n",
              "      <td>19.33881</td>\n",
              "      <td>1454.87600</td>\n",
              "      <td>90.841670</td>\n",
              "      <td>5.403000</td>\n",
              "      <td>NaN</td>\n",
              "      <td>165.711010</td>\n",
              "      <td>2768.426740</td>\n",
              "      <td>NaN</td>\n",
              "    </tr>\n",
              "    <tr>\n",
              "      <th>std</th>\n",
              "      <td>4.012149</td>\n",
              "      <td>48486.218662</td>\n",
              "      <td>NaN</td>\n",
              "      <td>NaN</td>\n",
              "      <td>NaN</td>\n",
              "      <td>NaN</td>\n",
              "      <td>3.95175</td>\n",
              "      <td>521.99574</td>\n",
              "      <td>34.893389</td>\n",
              "      <td>0.912921</td>\n",
              "      <td>NaN</td>\n",
              "      <td>95.142648</td>\n",
              "      <td>1080.903209</td>\n",
              "      <td>NaN</td>\n",
              "    </tr>\n",
              "    <tr>\n",
              "      <th>min</th>\n",
              "      <td>1995.000000</td>\n",
              "      <td>1303.000000</td>\n",
              "      <td>NaN</td>\n",
              "      <td>NaN</td>\n",
              "      <td>NaN</td>\n",
              "      <td>NaN</td>\n",
              "      <td>0.00000</td>\n",
              "      <td>624.00000</td>\n",
              "      <td>34.200000</td>\n",
              "      <td>4.000000</td>\n",
              "      <td>NaN</td>\n",
              "      <td>6.100000</td>\n",
              "      <td>1.950000</td>\n",
              "      <td>NaN</td>\n",
              "    </tr>\n",
              "    <tr>\n",
              "      <th>25%</th>\n",
              "      <td>2011.000000</td>\n",
              "      <td>37000.000000</td>\n",
              "      <td>NaN</td>\n",
              "      <td>NaN</td>\n",
              "      <td>NaN</td>\n",
              "      <td>NaN</td>\n",
              "      <td>16.55000</td>\n",
              "      <td>1197.00000</td>\n",
              "      <td>69.000000</td>\n",
              "      <td>5.000000</td>\n",
              "      <td>NaN</td>\n",
              "      <td>99.040000</td>\n",
              "      <td>2000.000000</td>\n",
              "      <td>NaN</td>\n",
              "    </tr>\n",
              "    <tr>\n",
              "      <th>50%</th>\n",
              "      <td>2014.000000</td>\n",
              "      <td>61500.000000</td>\n",
              "      <td>NaN</td>\n",
              "      <td>NaN</td>\n",
              "      <td>NaN</td>\n",
              "      <td>NaN</td>\n",
              "      <td>19.37000</td>\n",
              "      <td>1248.00000</td>\n",
              "      <td>82.425000</td>\n",
              "      <td>5.000000</td>\n",
              "      <td>NaN</td>\n",
              "      <td>150.000000</td>\n",
              "      <td>2400.000000</td>\n",
              "      <td>NaN</td>\n",
              "    </tr>\n",
              "    <tr>\n",
              "      <th>75%</th>\n",
              "      <td>2017.000000</td>\n",
              "      <td>100000.000000</td>\n",
              "      <td>NaN</td>\n",
              "      <td>NaN</td>\n",
              "      <td>NaN</td>\n",
              "      <td>NaN</td>\n",
              "      <td>22.30000</td>\n",
              "      <td>1582.00000</td>\n",
              "      <td>102.000000</td>\n",
              "      <td>5.000000</td>\n",
              "      <td>NaN</td>\n",
              "      <td>200.500000</td>\n",
              "      <td>3800.000000</td>\n",
              "      <td>NaN</td>\n",
              "    </tr>\n",
              "    <tr>\n",
              "      <th>max</th>\n",
              "      <td>2020.000000</td>\n",
              "      <td>375000.000000</td>\n",
              "      <td>NaN</td>\n",
              "      <td>NaN</td>\n",
              "      <td>NaN</td>\n",
              "      <td>NaN</td>\n",
              "      <td>32.26000</td>\n",
              "      <td>3604.00000</td>\n",
              "      <td>280.000000</td>\n",
              "      <td>9.000000</td>\n",
              "      <td>NaN</td>\n",
              "      <td>620.000000</td>\n",
              "      <td>5000.000000</td>\n",
              "      <td>NaN</td>\n",
              "    </tr>\n",
              "  </tbody>\n",
              "</table>\n",
              "</div>"
            ],
            "text/plain": [
              "               year      km_driven    fuel seller_type transmission  \\\n",
              "count   1000.000000    1000.000000    1000        1000         1000   \n",
              "unique          NaN            NaN       4           3            2   \n",
              "top             NaN            NaN  Diesel  Individual       Manual   \n",
              "freq            NaN            NaN     534         837          877   \n",
              "mean    2013.681000   71393.341000     NaN         NaN          NaN   \n",
              "std        4.012149   48486.218662     NaN         NaN          NaN   \n",
              "min     1995.000000    1303.000000     NaN         NaN          NaN   \n",
              "25%     2011.000000   37000.000000     NaN         NaN          NaN   \n",
              "50%     2014.000000   61500.000000     NaN         NaN          NaN   \n",
              "75%     2017.000000  100000.000000     NaN         NaN          NaN   \n",
              "max     2020.000000  375000.000000     NaN         NaN          NaN   \n",
              "\n",
              "              owner     mileage      engine    max_power        seats m_units  \\\n",
              "count          1000  1000.00000  1000.00000  1000.000000  1000.000000     981   \n",
              "unique            5         NaN         NaN          NaN          NaN       2   \n",
              "top     First Owner         NaN         NaN          NaN          NaN    kmpl   \n",
              "freq            623         NaN         NaN          NaN          NaN     972   \n",
              "mean            NaN    19.33881  1454.87600    90.841670     5.403000     NaN   \n",
              "std             NaN     3.95175   521.99574    34.893389     0.912921     NaN   \n",
              "min             NaN     0.00000   624.00000    34.200000     4.000000     NaN   \n",
              "25%             NaN    16.55000  1197.00000    69.000000     5.000000     NaN   \n",
              "50%             NaN    19.37000  1248.00000    82.425000     5.000000     NaN   \n",
              "75%             NaN    22.30000  1582.00000   102.000000     5.000000     NaN   \n",
              "max             NaN    32.26000  3604.00000   280.000000     9.000000     NaN   \n",
              "\n",
              "            torque1      torque2 t_units  \n",
              "count   1000.000000  1000.000000     999  \n",
              "unique          NaN          NaN       3  \n",
              "top             NaN          NaN      nm  \n",
              "freq            NaN          NaN     919  \n",
              "mean     165.711010  2768.426740     NaN  \n",
              "std       95.142648  1080.903209     NaN  \n",
              "min        6.100000     1.950000     NaN  \n",
              "25%       99.040000  2000.000000     NaN  \n",
              "50%      150.000000  2400.000000     NaN  \n",
              "75%      200.500000  3800.000000     NaN  \n",
              "max      620.000000  5000.000000     NaN  "
            ]
          },
          "execution_count": 97,
          "metadata": {},
          "output_type": "execute_result"
        }
      ],
      "source": [
        "X_test_cat.describe(include='all')"
      ]
    },
    {
      "cell_type": "code",
      "execution_count": 98,
      "metadata": {},
      "outputs": [
        {
          "data": {
            "text/html": [
              "<style>#sk-container-id-2 {color: black;background-color: white;}#sk-container-id-2 pre{padding: 0;}#sk-container-id-2 div.sk-toggleable {background-color: white;}#sk-container-id-2 label.sk-toggleable__label {cursor: pointer;display: block;width: 100%;margin-bottom: 0;padding: 0.3em;box-sizing: border-box;text-align: center;}#sk-container-id-2 label.sk-toggleable__label-arrow:before {content: \"▸\";float: left;margin-right: 0.25em;color: #696969;}#sk-container-id-2 label.sk-toggleable__label-arrow:hover:before {color: black;}#sk-container-id-2 div.sk-estimator:hover label.sk-toggleable__label-arrow:before {color: black;}#sk-container-id-2 div.sk-toggleable__content {max-height: 0;max-width: 0;overflow: hidden;text-align: left;background-color: #f0f8ff;}#sk-container-id-2 div.sk-toggleable__content pre {margin: 0.2em;color: black;border-radius: 0.25em;background-color: #f0f8ff;}#sk-container-id-2 input.sk-toggleable__control:checked~div.sk-toggleable__content {max-height: 200px;max-width: 100%;overflow: auto;}#sk-container-id-2 input.sk-toggleable__control:checked~label.sk-toggleable__label-arrow:before {content: \"▾\";}#sk-container-id-2 div.sk-estimator input.sk-toggleable__control:checked~label.sk-toggleable__label {background-color: #d4ebff;}#sk-container-id-2 div.sk-label input.sk-toggleable__control:checked~label.sk-toggleable__label {background-color: #d4ebff;}#sk-container-id-2 input.sk-hidden--visually {border: 0;clip: rect(1px 1px 1px 1px);clip: rect(1px, 1px, 1px, 1px);height: 1px;margin: -1px;overflow: hidden;padding: 0;position: absolute;width: 1px;}#sk-container-id-2 div.sk-estimator {font-family: monospace;background-color: #f0f8ff;border: 1px dotted black;border-radius: 0.25em;box-sizing: border-box;margin-bottom: 0.5em;}#sk-container-id-2 div.sk-estimator:hover {background-color: #d4ebff;}#sk-container-id-2 div.sk-parallel-item::after {content: \"\";width: 100%;border-bottom: 1px solid gray;flex-grow: 1;}#sk-container-id-2 div.sk-label:hover label.sk-toggleable__label {background-color: #d4ebff;}#sk-container-id-2 div.sk-serial::before {content: \"\";position: absolute;border-left: 1px solid gray;box-sizing: border-box;top: 0;bottom: 0;left: 50%;z-index: 0;}#sk-container-id-2 div.sk-serial {display: flex;flex-direction: column;align-items: center;background-color: white;padding-right: 0.2em;padding-left: 0.2em;position: relative;}#sk-container-id-2 div.sk-item {position: relative;z-index: 1;}#sk-container-id-2 div.sk-parallel {display: flex;align-items: stretch;justify-content: center;background-color: white;position: relative;}#sk-container-id-2 div.sk-item::before, #sk-container-id-2 div.sk-parallel-item::before {content: \"\";position: absolute;border-left: 1px solid gray;box-sizing: border-box;top: 0;bottom: 0;left: 50%;z-index: -1;}#sk-container-id-2 div.sk-parallel-item {display: flex;flex-direction: column;z-index: 1;position: relative;background-color: white;}#sk-container-id-2 div.sk-parallel-item:first-child::after {align-self: flex-end;width: 50%;}#sk-container-id-2 div.sk-parallel-item:last-child::after {align-self: flex-start;width: 50%;}#sk-container-id-2 div.sk-parallel-item:only-child::after {width: 0;}#sk-container-id-2 div.sk-dashed-wrapped {border: 1px dashed gray;margin: 0 0.4em 0.5em 0.4em;box-sizing: border-box;padding-bottom: 0.4em;background-color: white;}#sk-container-id-2 div.sk-label label {font-family: monospace;font-weight: bold;display: inline-block;line-height: 1.2em;}#sk-container-id-2 div.sk-label-container {text-align: center;}#sk-container-id-2 div.sk-container {/* jupyter's `normalize.less` sets `[hidden] { display: none; }` but bootstrap.min.css set `[hidden] { display: none !important; }` so we also need the `!important` here to be able to override the default hidden behavior on the sphinx rendered scikit-learn.org. See: https://github.com/scikit-learn/scikit-learn/issues/21755 */display: inline-block !important;position: relative;}#sk-container-id-2 div.sk-text-repr-fallback {display: none;}</style><div id=\"sk-container-id-2\" class=\"sk-top-container\"><div class=\"sk-text-repr-fallback\"><pre>OneHotEncoder(drop=&#x27;first&#x27;, handle_unknown=&#x27;ignore&#x27;, max_categories=9,\n",
              "              sparse=False)</pre><b>In a Jupyter environment, please rerun this cell to show the HTML representation or trust the notebook. <br />On GitHub, the HTML representation is unable to render, please try loading this page with nbviewer.org.</b></div><div class=\"sk-container\" hidden><div class=\"sk-item\"><div class=\"sk-estimator sk-toggleable\"><input class=\"sk-toggleable__control sk-hidden--visually\" id=\"sk-estimator-id-2\" type=\"checkbox\" checked><label for=\"sk-estimator-id-2\" class=\"sk-toggleable__label sk-toggleable__label-arrow\">OneHotEncoder</label><div class=\"sk-toggleable__content\"><pre>OneHotEncoder(drop=&#x27;first&#x27;, handle_unknown=&#x27;ignore&#x27;, max_categories=9,\n",
              "              sparse=False)</pre></div></div></div></div></div>"
            ],
            "text/plain": [
              "OneHotEncoder(drop='first', handle_unknown='ignore', max_categories=9,\n",
              "              sparse=False)"
            ]
          },
          "execution_count": 98,
          "metadata": {},
          "output_type": "execute_result"
        }
      ],
      "source": [
        "OHE.fit(X_train_cat[cat_cols])"
      ]
    },
    {
      "cell_type": "code",
      "execution_count": 99,
      "metadata": {},
      "outputs": [],
      "source": [
        "from copy import deepcopy"
      ]
    },
    {
      "cell_type": "code",
      "execution_count": 100,
      "metadata": {},
      "outputs": [],
      "source": [
        "cols = deepcopy(cat_cols)    "
      ]
    },
    {
      "cell_type": "markdown",
      "metadata": {
        "id": "b8fI5dQT-Fvx"
      },
      "source": [
        "(0.25 балла) <font color='#9933CC'>Переберите параметр регуляризации `alpha` для гребневой (ridge) регрессии с помощью класса `GridSearchCV`.</font> В качестве параметров при объявлении GridSearchCV кроме модели укажите метрику качества $R^2$. Кроссвалидируйтесь по 10-ти фолдам.\n",
        "\n",
        "<font color='#FF6600'>Удалось ли улучшить качество предсказаний?</font>"
      ]
    },
    {
      "cell_type": "code",
      "execution_count": 101,
      "metadata": {},
      "outputs": [
        {
          "name": "stdout",
          "output_type": "stream",
          "text": [
            "drop fuel, train R2 0.667 train MSE 95472131862.672\n",
            "drop fuel, test R2 0.613 test MSE 222390888325.308\n",
            "------------------------------------------------------------------------------\n",
            "drop seller_type, train R2 0.666 train MSE 95867386872.354\n",
            "drop seller_type, test R2 0.604 test MSE 227387084787.754\n",
            "------------------------------------------------------------------------------\n",
            "drop transmission, train R2 0.663 train MSE 96502125763.319\n",
            "drop transmission, test R2 0.605 test MSE 227324275065.819\n",
            "------------------------------------------------------------------------------\n",
            "drop owner, train R2 0.642 train MSE 102734316427.239\n",
            "drop owner, test R2 0.632 test MSE 211687937664.851\n",
            "------------------------------------------------------------------------------\n",
            "drop m_units, train R2 0.669 train MSE 95016630237.654\n",
            "drop m_units, test R2 0.614 test MSE 221708342658.344\n",
            "------------------------------------------------------------------------------\n",
            "drop t_units, train R2 0.665 train MSE 96133399315.000\n",
            "drop t_units, test R2 0.612 test MSE 222904645047.527\n",
            "------------------------------------------------------------------------------\n",
            "drop seats, train R2 0.655 train MSE 98747104570.412\n",
            "drop seats, test R2 0.608 test MSE 225072438832.811\n",
            "------------------------------------------------------------------------------\n"
          ]
        }
      ],
      "source": [
        "for col in cat_cols:    \n",
        "    cols = deepcopy(cat_cols)\n",
        "    cols.remove(col)    \n",
        "    X_train_cat = df_train.drop(columns=['selling_price','name',col])\n",
        "    X_test_cat = df_test.drop(columns=['selling_price','name',col])\n",
        "\n",
        "    OHE.fit(X_train_cat[cols])\n",
        "    X_train_ohe = pd.DataFrame(data=OHE.transform(X_train_cat[cols]), columns = list(OHE.get_feature_names_out()))\n",
        "    X_test_ohe = pd.DataFrame(data=OHE.transform(X_test_cat[cols]), columns=list(OHE.get_feature_names_out()))\n",
        "\n",
        "    X_train_con = pd.concat((X_train_cat.drop(columns=cols), X_train_ohe),axis=1)\n",
        "    X_test_con = pd.concat((X_test_cat.drop(columns=cols), X_test_ohe),axis=1)\n",
        "\n",
        "    sc = StandardScaler()\n",
        "    sc.fit(X_train_con)\n",
        "\n",
        "    X_train_ts = sc.transform(X_train_con)\n",
        "    X_test_ts = sc.transform(X_test_con)\n",
        "\n",
        "    model = linear_model.RidgeCV(alphas=np.logspace(-6, 6, 13),cv=10, scoring='r2')\n",
        "    model.fit(X_train_ts, y_train)\n",
        "    y_pred_train = model.predict(X_train_ts)\n",
        "    y_pred_test = model.predict(X_test_ts)\n",
        "\n",
        "    print(f\"drop {col}, train R2 {r2_score(y_train, y_pred_train):.3f} train MSE {MSE(y_train, y_pred_train):.3f}\")\n",
        "    print(f\"drop {col}, test R2 {r2_score(y_test, y_pred_test):.3f} test MSE {MSE(y_test, y_pred_test):.3f}\")\n",
        "    print(\"-\"*78)"
      ]
    },
    {
      "cell_type": "markdown",
      "metadata": {},
      "source": [
        "Кажется что признак owner ликует. "
      ]
    },
    {
      "cell_type": "code",
      "execution_count": 102,
      "metadata": {},
      "outputs": [
        {
          "data": {
            "text/plain": [
              "Index(['name', 'year', 'selling_price', 'km_driven', 'fuel', 'seller_type',\n",
              "       'transmission', 'owner', 'mileage', 'engine', 'max_power', 'seats',\n",
              "       'm_units', 'torque1', 'torque2', 't_units'],\n",
              "      dtype='object')"
            ]
          },
          "execution_count": 102,
          "metadata": {},
          "output_type": "execute_result"
        }
      ],
      "source": [
        "df_train.columns"
      ]
    },
    {
      "cell_type": "code",
      "execution_count": 103,
      "metadata": {},
      "outputs": [
        {
          "data": {
            "text/plain": [
              "Index(['year', 'km_driven', 'fuel', 'seller_type', 'transmission', 'owner',\n",
              "       'mileage', 'engine', 'max_power', 'm_units', 'torque1', 'torque2',\n",
              "       't_units'],\n",
              "      dtype='object')"
            ]
          },
          "execution_count": 103,
          "metadata": {},
          "output_type": "execute_result"
        }
      ],
      "source": [
        "X_train_cat.columns"
      ]
    },
    {
      "cell_type": "code",
      "execution_count": 104,
      "metadata": {},
      "outputs": [
        {
          "data": {
            "text/plain": [
              "['fuel', 'seller_type', 'transmission', 'owner', 'm_units', 't_units', 'seats']"
            ]
          },
          "execution_count": 104,
          "metadata": {},
          "output_type": "execute_result"
        }
      ],
      "source": [
        "cat_cols"
      ]
    },
    {
      "cell_type": "code",
      "execution_count": 105,
      "metadata": {},
      "outputs": [
        {
          "data": {
            "text/plain": [
              "<function pandas.io.pickle.read_pickle(filepath_or_buffer: 'FilePath | ReadPickleBuffer', compression: 'CompressionOptions' = 'infer', storage_options: 'StorageOptions' = None)>"
            ]
          },
          "execution_count": 105,
          "metadata": {},
          "output_type": "execute_result"
        }
      ],
      "source": [
        "pd.read_pickle"
      ]
    },
    {
      "cell_type": "code",
      "execution_count": 106,
      "metadata": {},
      "outputs": [
        {
          "name": "stdout",
          "output_type": "stream",
          "text": [
            "drop owner, train R2 0.642 train MSE 102734316427.239\n",
            "drop owner, test R2 0.632 test MSE 211687937664.851\n",
            "------------------------------------------------------------------------------\n"
          ]
        }
      ],
      "source": [
        "for col in ['owner']:    \n",
        "    cols = deepcopy(cat_cols)\n",
        "    cols.remove(col)    \n",
        "    X_train_cat = df_train.drop(columns=['selling_price','name',col])\n",
        "    X_test_cat = df_test.drop(columns=['selling_price','name',col])\n",
        "\n",
        "\n",
        "    OHE.fit(X_train_cat[cols])\n",
        "    dump(OHE, 'encoder.pickle')\n",
        "\n",
        "    X_train_ohe = pd.DataFrame(data=OHE.transform(X_train_cat[cols]), columns = list(OHE.get_feature_names_out()))\n",
        "    X_test_ohe = pd.DataFrame(data=OHE.transform(X_test_cat[cols]), columns=list(OHE.get_feature_names_out()))\n",
        "\n",
        "    X_train_con = pd.concat((X_train_cat.drop(columns=cols), X_train_ohe),axis=1)\n",
        "    X_test_con = pd.concat((X_test_cat.drop(columns=cols), X_test_ohe),axis=1)\n",
        "\n",
        "    sc = StandardScaler()\n",
        "    sc.fit(X_train_con)\n",
        "    dump(sc, 'scaler.pickle')\n",
        "\n",
        "    X_train_ts = sc.transform(X_train_con)\n",
        "    X_test_ts = sc.transform(X_test_con)\n",
        "\n",
        "    model = linear_model.RidgeCV(alphas=np.logspace(-6, 6, 13),cv=10, scoring='r2')\n",
        "    \n",
        "    model.fit(X_train_ts, y_train)\n",
        "    dump(model, 'model.pickle')    \n",
        "    y_pred_train = model.predict(X_train_ts)\n",
        "    y_pred_test = model.predict(X_test_ts)\n",
        "\n",
        "    print(f\"drop {col}, train R2 {r2_score(y_train, y_pred_train):.3f} train MSE {MSE(y_train, y_pred_train):.3f}\")\n",
        "    print(f\"drop {col}, test R2 {r2_score(y_test, y_pred_test):.3f} test MSE {MSE(y_test, y_pred_test):.3f}\")\n",
        "    print(\"-\"*78)"
      ]
    },
    {
      "cell_type": "code",
      "execution_count": 107,
      "metadata": {},
      "outputs": [
        {
          "data": {
            "text/html": [
              "<div>\n",
              "<style scoped>\n",
              "    .dataframe tbody tr th:only-of-type {\n",
              "        vertical-align: middle;\n",
              "    }\n",
              "\n",
              "    .dataframe tbody tr th {\n",
              "        vertical-align: top;\n",
              "    }\n",
              "\n",
              "    .dataframe thead th {\n",
              "        text-align: right;\n",
              "    }\n",
              "</style>\n",
              "<table border=\"1\" class=\"dataframe\">\n",
              "  <thead>\n",
              "    <tr style=\"text-align: right;\">\n",
              "      <th></th>\n",
              "      <th>year</th>\n",
              "      <th>km_driven</th>\n",
              "      <th>fuel</th>\n",
              "      <th>seller_type</th>\n",
              "      <th>transmission</th>\n",
              "      <th>mileage</th>\n",
              "      <th>engine</th>\n",
              "      <th>max_power</th>\n",
              "      <th>seats</th>\n",
              "      <th>m_units</th>\n",
              "      <th>torque1</th>\n",
              "      <th>torque2</th>\n",
              "      <th>t_units</th>\n",
              "    </tr>\n",
              "  </thead>\n",
              "  <tbody>\n",
              "    <tr>\n",
              "      <th>0</th>\n",
              "      <td>2014</td>\n",
              "      <td>145500</td>\n",
              "      <td>Diesel</td>\n",
              "      <td>Individual</td>\n",
              "      <td>Manual</td>\n",
              "      <td>23.40</td>\n",
              "      <td>1248.0</td>\n",
              "      <td>74.00</td>\n",
              "      <td>5.0</td>\n",
              "      <td>kmpl</td>\n",
              "      <td>190.00</td>\n",
              "      <td>2000.0</td>\n",
              "      <td>nm</td>\n",
              "    </tr>\n",
              "    <tr>\n",
              "      <th>1</th>\n",
              "      <td>2014</td>\n",
              "      <td>120000</td>\n",
              "      <td>Diesel</td>\n",
              "      <td>Individual</td>\n",
              "      <td>Manual</td>\n",
              "      <td>21.14</td>\n",
              "      <td>1498.0</td>\n",
              "      <td>103.52</td>\n",
              "      <td>5.0</td>\n",
              "      <td>kmpl</td>\n",
              "      <td>250.00</td>\n",
              "      <td>2000.0</td>\n",
              "      <td>nm</td>\n",
              "    </tr>\n",
              "    <tr>\n",
              "      <th>2</th>\n",
              "      <td>2010</td>\n",
              "      <td>127000</td>\n",
              "      <td>Diesel</td>\n",
              "      <td>Individual</td>\n",
              "      <td>Manual</td>\n",
              "      <td>23.00</td>\n",
              "      <td>1396.0</td>\n",
              "      <td>90.00</td>\n",
              "      <td>5.0</td>\n",
              "      <td>kmpl</td>\n",
              "      <td>22.40</td>\n",
              "      <td>2250.0</td>\n",
              "      <td>kgm</td>\n",
              "    </tr>\n",
              "    <tr>\n",
              "      <th>3</th>\n",
              "      <td>2007</td>\n",
              "      <td>120000</td>\n",
              "      <td>Petrol</td>\n",
              "      <td>Individual</td>\n",
              "      <td>Manual</td>\n",
              "      <td>16.10</td>\n",
              "      <td>1298.0</td>\n",
              "      <td>88.20</td>\n",
              "      <td>5.0</td>\n",
              "      <td>kmpl</td>\n",
              "      <td>11.50</td>\n",
              "      <td>4500.0</td>\n",
              "      <td>kgm</td>\n",
              "    </tr>\n",
              "    <tr>\n",
              "      <th>4</th>\n",
              "      <td>2017</td>\n",
              "      <td>45000</td>\n",
              "      <td>Petrol</td>\n",
              "      <td>Individual</td>\n",
              "      <td>Manual</td>\n",
              "      <td>20.14</td>\n",
              "      <td>1197.0</td>\n",
              "      <td>81.86</td>\n",
              "      <td>5.0</td>\n",
              "      <td>kmpl</td>\n",
              "      <td>113.75</td>\n",
              "      <td>4000.0</td>\n",
              "      <td>nm</td>\n",
              "    </tr>\n",
              "    <tr>\n",
              "      <th>...</th>\n",
              "      <td>...</td>\n",
              "      <td>...</td>\n",
              "      <td>...</td>\n",
              "      <td>...</td>\n",
              "      <td>...</td>\n",
              "      <td>...</td>\n",
              "      <td>...</td>\n",
              "      <td>...</td>\n",
              "      <td>...</td>\n",
              "      <td>...</td>\n",
              "      <td>...</td>\n",
              "      <td>...</td>\n",
              "      <td>...</td>\n",
              "    </tr>\n",
              "    <tr>\n",
              "      <th>5835</th>\n",
              "      <td>2008</td>\n",
              "      <td>191000</td>\n",
              "      <td>Petrol</td>\n",
              "      <td>Individual</td>\n",
              "      <td>Manual</td>\n",
              "      <td>17.92</td>\n",
              "      <td>1086.0</td>\n",
              "      <td>62.10</td>\n",
              "      <td>5.0</td>\n",
              "      <td>kmpl</td>\n",
              "      <td>96.10</td>\n",
              "      <td>3000.0</td>\n",
              "      <td>nm</td>\n",
              "    </tr>\n",
              "    <tr>\n",
              "      <th>5836</th>\n",
              "      <td>2013</td>\n",
              "      <td>50000</td>\n",
              "      <td>Petrol</td>\n",
              "      <td>Individual</td>\n",
              "      <td>Manual</td>\n",
              "      <td>18.90</td>\n",
              "      <td>998.0</td>\n",
              "      <td>67.10</td>\n",
              "      <td>5.0</td>\n",
              "      <td>kmpl</td>\n",
              "      <td>90.00</td>\n",
              "      <td>3500.0</td>\n",
              "      <td>nm</td>\n",
              "    </tr>\n",
              "    <tr>\n",
              "      <th>5837</th>\n",
              "      <td>2013</td>\n",
              "      <td>110000</td>\n",
              "      <td>Petrol</td>\n",
              "      <td>Individual</td>\n",
              "      <td>Manual</td>\n",
              "      <td>18.50</td>\n",
              "      <td>1197.0</td>\n",
              "      <td>82.85</td>\n",
              "      <td>5.0</td>\n",
              "      <td>kmpl</td>\n",
              "      <td>113.70</td>\n",
              "      <td>4000.0</td>\n",
              "      <td>nm</td>\n",
              "    </tr>\n",
              "    <tr>\n",
              "      <th>5838</th>\n",
              "      <td>2007</td>\n",
              "      <td>119000</td>\n",
              "      <td>Diesel</td>\n",
              "      <td>Individual</td>\n",
              "      <td>Manual</td>\n",
              "      <td>16.80</td>\n",
              "      <td>1493.0</td>\n",
              "      <td>110.00</td>\n",
              "      <td>5.0</td>\n",
              "      <td>kmpl</td>\n",
              "      <td>24.00</td>\n",
              "      <td>2325.0</td>\n",
              "      <td>kgm</td>\n",
              "    </tr>\n",
              "    <tr>\n",
              "      <th>5839</th>\n",
              "      <td>2009</td>\n",
              "      <td>120000</td>\n",
              "      <td>Diesel</td>\n",
              "      <td>Individual</td>\n",
              "      <td>Manual</td>\n",
              "      <td>19.30</td>\n",
              "      <td>1248.0</td>\n",
              "      <td>73.90</td>\n",
              "      <td>5.0</td>\n",
              "      <td>kmpl</td>\n",
              "      <td>190.00</td>\n",
              "      <td>2000.0</td>\n",
              "      <td>nm</td>\n",
              "    </tr>\n",
              "  </tbody>\n",
              "</table>\n",
              "<p>5840 rows × 13 columns</p>\n",
              "</div>"
            ],
            "text/plain": [
              "      year  km_driven    fuel seller_type transmission  mileage  engine  \\\n",
              "0     2014     145500  Diesel  Individual       Manual    23.40  1248.0   \n",
              "1     2014     120000  Diesel  Individual       Manual    21.14  1498.0   \n",
              "2     2010     127000  Diesel  Individual       Manual    23.00  1396.0   \n",
              "3     2007     120000  Petrol  Individual       Manual    16.10  1298.0   \n",
              "4     2017      45000  Petrol  Individual       Manual    20.14  1197.0   \n",
              "...    ...        ...     ...         ...          ...      ...     ...   \n",
              "5835  2008     191000  Petrol  Individual       Manual    17.92  1086.0   \n",
              "5836  2013      50000  Petrol  Individual       Manual    18.90   998.0   \n",
              "5837  2013     110000  Petrol  Individual       Manual    18.50  1197.0   \n",
              "5838  2007     119000  Diesel  Individual       Manual    16.80  1493.0   \n",
              "5839  2009     120000  Diesel  Individual       Manual    19.30  1248.0   \n",
              "\n",
              "      max_power  seats m_units  torque1  torque2 t_units  \n",
              "0         74.00    5.0    kmpl   190.00   2000.0      nm  \n",
              "1        103.52    5.0    kmpl   250.00   2000.0      nm  \n",
              "2         90.00    5.0    kmpl    22.40   2250.0     kgm  \n",
              "3         88.20    5.0    kmpl    11.50   4500.0     kgm  \n",
              "4         81.86    5.0    kmpl   113.75   4000.0      nm  \n",
              "...         ...    ...     ...      ...      ...     ...  \n",
              "5835      62.10    5.0    kmpl    96.10   3000.0      nm  \n",
              "5836      67.10    5.0    kmpl    90.00   3500.0      nm  \n",
              "5837      82.85    5.0    kmpl   113.70   4000.0      nm  \n",
              "5838     110.00    5.0    kmpl    24.00   2325.0     kgm  \n",
              "5839      73.90    5.0    kmpl   190.00   2000.0      nm  \n",
              "\n",
              "[5840 rows x 13 columns]"
            ]
          },
          "execution_count": 107,
          "metadata": {},
          "output_type": "execute_result"
        }
      ],
      "source": [
        "X_train_cat"
      ]
    },
    {
      "cell_type": "markdown",
      "metadata": {
        "id": "T0OlrsmArp2I"
      },
      "source": [
        "# Часть 4 - бонусная (2 балла) | Feature Engineering "
      ]
    },
    {
      "cell_type": "markdown",
      "metadata": {
        "id": "NXo9jvHPEYtN"
      },
      "source": [
        "В этой части домашнего задания вам предлагается проявить свою креативность для улучшения прогноза модели. Любые другие модели, кроме различных форм линейной (или полиномиальной) регресси, использовать запрещается. А значит, придется работать с признаками\n",
        "\n",
        "**Что можно попробовать сделать?** (каждый пункт по 0.4 балла, но не больше 2-х баллов в сумме)\n",
        "\n",
        "1.   *Сгенерировать новые признаки на основе уже существующих:*\n",
        "    * посчитать произведения // частные признаков (кажется, что посчитать число \"лошадей\" на литр объема может быть полезно);\n",
        "    * имеет смысл обратить внимание на визуализации в части с EDA (к примеру, зависимость цены от года выглядит квадратичной, а не линейной; значит, квадрат года нам, скорее всего, принесет больше пользы)\n",
        "\n",
        "2.   *Добыть новые признаки:*\n",
        "    * имеем название автомобиля, которое никак не используем (можно спарсить инфу о классе автомобиля или каких-то специфических опциях)\n",
        "    * можно добавить пороговые признаки вроде \"владелец третий или больше\" и объединить признаки в некоторые осмысленные правила, например \"первый или второй владелец и продавец официальный дилер\" (подбирать пороги удобно по диаграммам рассеяния)\n",
        "\n",
        "3.   *Поработать с уже имеющимися:*\n",
        "    * далеко не факт, что заполнить пропуск медианой было лучшей идеей (как минимум, можно добавить dummy-столбец для модели, сигнализирующий, что раньше на месте медианы был пропуск -- там где он был, конечно); попробуйте другие способы филлинга;\n",
        "    * мы не анализировали, есть ли в данных выбросы => никак выбросы не обрабатывали; наиболее простым и, тем не менее, довольно полезным вариантом нахождения выбросов могут послужить boxplot'ы для каждого столбца; что делать с выбросами думайте сами :) -- вариантов довольно много\n",
        "    * мы толком не смотрели на таргет сам по себе; в нем тоже могут быть неожиданности -- стоит хотя бы проверить\n",
        "    * можно заметить, что некоторые признаки распределены совсем не нормально; возможно их стоит отлогарифмировать\n",
        "\n",
        "И так далее...\n",
        "\n",
        "Feel Free to Try!"
      ]
    },
    {
      "cell_type": "code",
      "execution_count": 108,
      "metadata": {
        "id": "keijjrKbr3Ne"
      },
      "outputs": [],
      "source": [
        "# your code here"
      ]
    },
    {
      "cell_type": "markdown",
      "metadata": {
        "id": "mw6LOYJTL2x1"
      },
      "source": [
        "# Часть Бизнесовая (0.5 балла)"
      ]
    },
    {
      "cell_type": "markdown",
      "metadata": {
        "id": "0QpHAfbcMRfu"
      },
      "source": [
        "Заказчик просил вас посчитать кастомную метрику -- среди всех предсказанных цен на авто посчитать долю предиктов, отличающихся от реальных цен на эти авто не более чем на 10% (в одну или другую сторону)\n",
        "\n",
        "<font color='#9933CC'>Сделайте это самостоятельно для лучшей из своих моделей</font>"
      ]
    },
    {
      "cell_type": "code",
      "execution_count": 109,
      "metadata": {
        "id": "YrcaGhO7MnMR"
      },
      "outputs": [],
      "source": [
        "def business_metrics(y_true, y_pred):\n",
        "    perc = [False if i > 10 else True for i in list((abs(y_true - y_pred)) / y_true * 100)]\n",
        "    return sum(perc) / len(y_true)\n",
        "# business_metrics(# your code here)"
      ]
    },
    {
      "cell_type": "code",
      "execution_count": 110,
      "metadata": {},
      "outputs": [
        {
          "name": "stdout",
          "output_type": "stream",
          "text": [
            " train business_metrics 0.222\n",
            " test business_metrics 0.235\n"
          ]
        }
      ],
      "source": [
        "print(f\" train business_metrics {business_metrics(y_train, y_pred_train):.3f}\")\n",
        "print(f\" test business_metrics {business_metrics(y_test, y_pred_test):.3f}\")"
      ]
    },
    {
      "cell_type": "markdown",
      "metadata": {
        "id": "ARi0hYPrsI4x"
      },
      "source": [
        "# Часть 5 (3 балла) | Реализация сервиса на FastAPI"
      ]
    },
    {
      "cell_type": "markdown",
      "metadata": {
        "id": "03rHiCmGKGU8"
      },
      "source": [
        "Cделайте с помощью FastAPI сервис, который с точки зрения пользователя реализует две функции:\n",
        "\n",
        "1. на вход в формате json подаются признаки одного объекта, на выходе сервис выдает предсказанную стоимость машины\n",
        "2. на вход подается csv-файл с признаками тестовых объектов, на выходе получаем файл с +1 столбцом - предсказаниями на этих объектах\n",
        "\n",
        "С точки зрения реализации это означает следующее:\n",
        "- средствами pydantic должен быть описан класс базового объекта\n",
        "- класс с коллецией объектов\n",
        "- метод post, который получает на вход один объект описанного класса\n",
        "- метод post, который получает на вход коллекцию объектов описанного класса\n",
        "\n",
        "Шаблон для сервисной части дан ниже. Код необходимо дополнить и оформить в виде отдельного .py-файла."
      ]
    },
    {
      "cell_type": "code",
      "execution_count": 111,
      "metadata": {
        "id": "6Qq8zyxNsYC3"
      },
      "outputs": [],
      "source": [
        "from fastapi import FastAPI\n",
        "from pydantic import BaseModel\n",
        "from typing import List\n",
        "\n",
        "app = FastAPI()\n",
        "\n",
        "\n",
        "class Item(BaseModel):\n",
        "    name: str\n",
        "    year: int\n",
        "    selling_price: int\n",
        "    km_driven: int\n",
        "    fuel: str\n",
        "    seller_type: str\n",
        "    transmission: str\n",
        "    owner: str\n",
        "    mileage: str \n",
        "    engine: str\n",
        "    max_power: str\n",
        "    torque: str\n",
        "    seats: float\n",
        "\n",
        "\n",
        "class Items(BaseModel):\n",
        "    objects: List[Item]\n",
        "\n",
        "\n",
        "@app.post(\"/predict_item\")\n",
        "def predict_item(item: Item) -> float:\n",
        "    return None\n",
        "\n",
        "\n",
        "@app.post(\"/predict_items\")\n",
        "def predict_items(items: List[Item]) -> List[float]:\n",
        "    return None"
      ]
    },
    {
      "cell_type": "markdown",
      "metadata": {
        "id": "3U29qIjog18v"
      },
      "source": [
        "Протестируйте сервис на корректность работы и приложите скриншоты (см. ниже)."
      ]
    },
    {
      "cell_type": "markdown",
      "metadata": {
        "id": "V4fq_10xsaHg"
      },
      "source": [
        "# Часть 6 (1 балл) | Оформление результатов"
      ]
    },
    {
      "cell_type": "markdown",
      "metadata": {
        "id": "nmwf-ZrEKZy6"
      },
      "source": [
        "**Результаты вашей работы** необходимо разместить в своем Гитхабе. Под результатами понимаем следующее:\n",
        "* ``.ipynb``-ноутбук со всеми проведёнными вами экспериментами (output'ы ячеек, разумеется, сохранить)\n",
        "* ``.py``-файл с реализацией сервиса\n",
        "* ``.pickle``-файл с сохранёнными весами модели, коэффициентами скейлинга и прочими числовыми значениями, которые могут понадобиться для инференса\n",
        "* ``.md``-файл с выводами про проделанной вами работе:\n",
        "    * что было сделано\n",
        "    * с какими результатами\n",
        "    * что дало наибольший буст в качестве\n",
        "    * что сделать не вышло и почему (это нормально, даже хорошо😀)\n",
        "\n",
        "**За что могут быть сняты баллы в этом пункте:**\n",
        "* за отсутствие ``.pickle``-файла с весами использованной модели\n",
        "* за недостаточную аналитику в ``.md``-файле\n",
        "* за оформление и логику кода (в определённом смысле это тоже элемент оформления решения)\n",
        "\n",
        "**Как будет выглядет проверка всего домашнего задания?**\n",
        "1. Ассистент проходит по ссылке на (**открытый**) репозиторий из Энитаска\n",
        "2. Смотрит ``readme.md``:\n",
        "    * пожалуйста, приложите в него же скрины работы вашего сервиса -- собирать ваши проекты довольно времязатратно, но хочется убедиться, что всё работает\n",
        "    * можете прислать screencast в ТГ\n",
        "3. Просматривает ноутбук с pure-DS частью\n",
        "4. Заглядывает в код сервиса\n",
        "5. Хвалит"
      ]
    },
    {
      "cell_type": "markdown",
      "metadata": {
        "id": "QSIEzw6sN8Zp"
      },
      "source": [
        "# Часть Благодарственная"
      ]
    },
    {
      "cell_type": "markdown",
      "metadata": {
        "id": "lWOSqmLWOAr-"
      },
      "source": [
        "Надеемся, вы честно проделали все пункты, а не просто пролистали досюда. Потому что здесь награда за старания. Пожалуйста, не стоит награждать себя до того, как закончите работать над домашкой.\n",
        "\n",
        "https://drive.google.com/file/d/1LT06nyg9QgVi3r-D5BY-_mQ9TcJQFxJN/view?usp=share_link"
      ]
    }
  ],
  "metadata": {
    "colab": {
      "provenance": []
    },
    "kernelspec": {
      "display_name": "Python 3.10.8 ('hse_ml')",
      "language": "python",
      "name": "python3"
    },
    "language_info": {
      "codemirror_mode": {
        "name": "ipython",
        "version": 3
      },
      "file_extension": ".py",
      "mimetype": "text/x-python",
      "name": "python",
      "nbconvert_exporter": "python",
      "pygments_lexer": "ipython3",
      "version": "3.10.8"
    },
    "vscode": {
      "interpreter": {
        "hash": "4da13415dc2d4176d0e7eec50e39b4419de96c4d0c980f3abd101a32a27dec88"
      }
    }
  },
  "nbformat": 4,
  "nbformat_minor": 0
}
